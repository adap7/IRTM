{
  "cells": [
    {
      "cell_type": "markdown",
      "metadata": {
        "id": "view-in-github",
        "colab_type": "text"
      },
      "source": [
        "<a href=\"https://colab.research.google.com/github/adap7/IRTM/blob/main/IRTM_Tutorial_index_2024_2025.ipynb\" target=\"_parent\"><img src=\"https://colab.research.google.com/assets/colab-badge.svg\" alt=\"Open In Colab\"/></a>"
      ]
    },
    {
      "cell_type": "markdown",
      "metadata": {
        "id": "D7RLYSwEwott"
      },
      "source": [
        "Start by copying this into your Google Drive!!"
      ]
    },
    {
      "cell_type": "markdown",
      "metadata": {
        "id": "eNuZVyx7ubzO"
      },
      "source": [
        "# Information Retrieval & Text Mining\n",
        "![maastricht-university-logo.jpeg](data:image/jpeg;base64,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)\n",
        "## Notebook 2\n",
        "\n",
        "Version 2024-2025\n",
        "\n",
        "Adapted and updated from [here](https://github.com/castorini/anserini-notebooks-afirm2020)"
      ]
    },
    {
      "cell_type": "markdown",
      "metadata": {
        "id": "p4JoAhnmDwlF"
      },
      "source": [
        "# Indexing"
      ]
    },
    {
      "cell_type": "markdown",
      "metadata": {
        "id": "wxJfO72PD2Re"
      },
      "source": [
        "In this activity, we are going to index the [MS MARCO](http://www.msmarco.org/) passage collection and explore some features of the index."
      ]
    },
    {
      "cell_type": "markdown",
      "metadata": {
        "id": "46p_d_BWahwD"
      },
      "source": [
        "## Setup\n",
        "\n",
        "We are going to use the open-source [Anserini](https://github.com/castorini/anserini) information retrieval toolkit to run the experiments.\n",
        "Anserini provides an easy-to-use interface over the popular [Apache Lucene](https://lucene.apache.org/) search library to facilitate rapid experimentation.\n",
        "\n",
        "Here we clone the repository from GitHub but won't be dealing with other facets of Git. If you want to dive deeper into Git, here are some good resources:\n",
        "\n",
        "- [Visual Git](http://marklodato.github.io/visual-git-guide/index-en.html)\n",
        "- [Think Like (a) Git](http://think-like-a-git.net/)\n",
        "- [Git from the bottom up](http://ftp.newartisans.com/pub/git.from.bottom.up.pdf)"
      ]
    },
    {
      "cell_type": "code",
      "execution_count": null,
      "metadata": {
        "id": "SFIMhczyD0yD",
        "colab": {
          "base_uri": "https://localhost:8080/"
        },
        "outputId": "b3a41b62-000e-44b0-d9a1-08a441449c38"
      },
      "outputs": [
        {
          "output_type": "stream",
          "name": "stdout",
          "text": [
            "Cloning into 'anserini'...\n",
            "remote: Enumerating objects: 48175, done.\u001b[K\n",
            "remote: Counting objects: 100% (1167/1167), done.\u001b[K\n",
            "remote: Compressing objects: 100% (379/379), done.\u001b[K\n",
            "remote: Total 48175 (delta 1018), reused 812 (delta 780), pack-reused 47008 (from 4)\u001b[K\n",
            "Receiving objects: 100% (48175/48175), 94.00 MiB | 10.07 MiB/s, done.\n",
            "Resolving deltas: 100% (36717/36717), done.\n",
            "Note: switching to 'ad5ba1c76196436f8a0e28efdb69960d4873efe3'.\n",
            "\n",
            "You are in 'detached HEAD' state. You can look around, make experimental\n",
            "changes and commit them, and you can discard any commits you make in this\n",
            "state without impacting any branches by switching back to a branch.\n",
            "\n",
            "If you want to create a new branch to retain commits you create, you may\n",
            "do so (now or later) by using -c with the switch command. Example:\n",
            "\n",
            "  git switch -c <new-branch-name>\n",
            "\n",
            "Or undo this operation with:\n",
            "\n",
            "  git switch -\n",
            "\n",
            "Turn off this advice by setting config variable advice.detachedHead to false\n",
            "\n",
            "HEAD is now at ad5ba1c7 Release notes for v0.9.2 (#1197)\n"
          ]
        }
      ],
      "source": [
        "!git clone https://github.com/castorini/anserini.git\n",
        "!cd anserini && git checkout ad5ba1c76196436f8a0e28efdb69960d4873efe3"
      ]
    },
    {
      "cell_type": "markdown",
      "metadata": {
        "id": "NtZfTTOqZh8C"
      },
      "source": [
        "Set up Java 11:"
      ]
    },
    {
      "cell_type": "code",
      "execution_count": null,
      "metadata": {
        "id": "VLHfZ3PPZjIw",
        "colab": {
          "base_uri": "https://localhost:8080/"
        },
        "outputId": "a6c05dcc-be8b-4836-cc4b-36a077885e55"
      },
      "outputs": [
        {
          "output_type": "stream",
          "name": "stdout",
          "text": [
            "Reading package lists... Done\n",
            "Building dependency tree... Done\n",
            "Reading state information... Done\n",
            "openjdk-11-jdk-headless is already the newest version (11.0.26+4-1ubuntu1~22.04).\n",
            "0 upgraded, 0 newly installed, 0 to remove and 29 not upgraded.\n",
            "env: JAVA_HOME=/usr/lib/jvm/java-11-openjdk-amd64\n"
          ]
        }
      ],
      "source": [
        "!apt-get install -y openjdk-11-jdk-headless\n",
        "%env JAVA_HOME=/usr/lib/jvm/java-11-openjdk-amd64"
      ]
    },
    {
      "cell_type": "markdown",
      "metadata": {
        "id": "mHNC0K6mfu3I"
      },
      "source": [
        "After cloning the Anserini repo, we should build it using Maven."
      ]
    },
    {
      "cell_type": "code",
      "execution_count": null,
      "metadata": {
        "id": "YI0TsF0sf3qe",
        "colab": {
          "base_uri": "https://localhost:8080/"
        },
        "outputId": "5d48e562-ffca-4668-8c4a-bbedfb8f5c79"
      },
      "outputs": [
        {
          "output_type": "stream",
          "name": "stdout",
          "text": [
            "Reading package lists...\n",
            "Building dependency tree...\n",
            "Reading state information...\n",
            "The following additional packages will be installed:\n",
            "  libaopalliance-java libapache-pom-java libatinject-jsr330-api-java libcdi-api-java\n",
            "  libcommons-cli-java libcommons-io-java libcommons-lang3-java libcommons-parent-java\n",
            "  libgeronimo-annotation-1.3-spec-java libgeronimo-interceptor-3.0-spec-java libguava-java\n",
            "  libguice-java libhawtjni-runtime-java libjansi-java libjansi-native-java libjsr305-java\n",
            "  libmaven-parent-java libmaven-resolver-java libmaven-shared-utils-java libmaven3-core-java\n",
            "  libplexus-cipher-java libplexus-classworlds-java libplexus-component-annotations-java\n",
            "  libplexus-interpolation-java libplexus-sec-dispatcher-java libplexus-utils2-java\n",
            "  libsisu-inject-java libsisu-plexus-java libslf4j-java libwagon-file-java\n",
            "  libwagon-http-shaded-java libwagon-provider-api-java\n",
            "Suggested packages:\n",
            "  libaopalliance-java-doc libatinject-jsr330-api-java-doc libel-api-java libcommons-io-java-doc\n",
            "  libcommons-lang3-java-doc libasm-java libcglib-java libjsr305-java-doc\n",
            "  libmaven-shared-utils-java-doc liblogback-java libplexus-classworlds-java-doc\n",
            "  libplexus-sec-dispatcher-java-doc libplexus-utils2-java-doc junit4 testng libcommons-logging-java\n",
            "  liblog4j1.2-java\n",
            "The following NEW packages will be installed:\n",
            "  libaopalliance-java libapache-pom-java libatinject-jsr330-api-java libcdi-api-java\n",
            "  libcommons-cli-java libcommons-io-java libcommons-lang3-java libcommons-parent-java\n",
            "  libgeronimo-annotation-1.3-spec-java libgeronimo-interceptor-3.0-spec-java libguava-java\n",
            "  libguice-java libhawtjni-runtime-java libjansi-java libjansi-native-java libjsr305-java\n",
            "  libmaven-parent-java libmaven-resolver-java libmaven-shared-utils-java libmaven3-core-java\n",
            "  libplexus-cipher-java libplexus-classworlds-java libplexus-component-annotations-java\n",
            "  libplexus-interpolation-java libplexus-sec-dispatcher-java libplexus-utils2-java\n",
            "  libsisu-inject-java libsisu-plexus-java libslf4j-java libwagon-file-java\n",
            "  libwagon-http-shaded-java libwagon-provider-api-java maven\n",
            "0 upgraded, 33 newly installed, 0 to remove and 29 not upgraded.\n",
            "Need to get 10.2 MB of archives.\n",
            "After this operation, 13.3 MB of additional disk space will be used.\n",
            "Get:1 http://archive.ubuntu.com/ubuntu jammy/universe amd64 libapache-pom-java all 18-1 [4,720 B]\n",
            "Get:2 http://archive.ubuntu.com/ubuntu jammy/universe amd64 libatinject-jsr330-api-java all 1.0+ds1-5 [5,348 B]\n",
            "Get:3 http://archive.ubuntu.com/ubuntu jammy/universe amd64 libgeronimo-interceptor-3.0-spec-java all 1.0.1-4fakesync [8,616 B]\n",
            "Get:4 http://archive.ubuntu.com/ubuntu jammy/universe amd64 libcdi-api-java all 1.2-3 [54.3 kB]\n",
            "Get:5 http://archive.ubuntu.com/ubuntu jammy/universe amd64 libcommons-cli-java all 1.4-2 [55.8 kB]\n",
            "Get:6 http://archive.ubuntu.com/ubuntu jammy/universe amd64 libcommons-parent-java all 43-1 [10.8 kB]\n",
            "Get:7 http://archive.ubuntu.com/ubuntu jammy/universe amd64 libcommons-io-java all 2.11.0-2 [297 kB]\n",
            "Get:8 http://archive.ubuntu.com/ubuntu jammy/universe amd64 libcommons-lang3-java all 3.11-1 [526 kB]\n",
            "Get:9 http://archive.ubuntu.com/ubuntu jammy/universe amd64 libgeronimo-annotation-1.3-spec-java all 1.3-1 [11.2 kB]\n",
            "Get:10 http://archive.ubuntu.com/ubuntu jammy/universe amd64 libjsr305-java all 0.1~+svn49-11 [27.0 kB]\n",
            "Get:11 http://archive.ubuntu.com/ubuntu jammy/universe amd64 libguava-java all 29.0-6 [2,418 kB]\n",
            "Get:12 http://archive.ubuntu.com/ubuntu jammy/universe amd64 libaopalliance-java all 20070526-6 [9,084 B]\n",
            "Get:13 http://archive.ubuntu.com/ubuntu jammy/universe amd64 libguice-java all 4.2.3-2 [1,434 kB]\n",
            "Get:14 http://archive.ubuntu.com/ubuntu jammy/universe amd64 libhawtjni-runtime-java all 1.17-1 [28.8 kB]\n",
            "Get:15 http://archive.ubuntu.com/ubuntu jammy/universe amd64 libjansi-native-java all 1.8-1 [23.8 kB]\n",
            "Get:16 http://archive.ubuntu.com/ubuntu jammy/universe amd64 libjansi-java all 1.18-1 [56.8 kB]\n",
            "Get:17 http://archive.ubuntu.com/ubuntu jammy/universe amd64 libmaven-parent-java all 31-2 [5,140 B]\n",
            "Get:18 http://archive.ubuntu.com/ubuntu jammy/universe amd64 libplexus-utils2-java all 3.3.0-1 [250 kB]\n",
            "Get:19 http://archive.ubuntu.com/ubuntu jammy/universe amd64 libwagon-provider-api-java all 3.3.4-1 [48.5 kB]\n",
            "Get:20 http://archive.ubuntu.com/ubuntu jammy/universe amd64 libmaven-resolver-java all 1.4.2-3build1 [555 kB]\n",
            "Get:21 http://archive.ubuntu.com/ubuntu jammy-updates/universe amd64 libmaven-shared-utils-java all 3.3.0-1ubuntu0.22.04.1 [148 kB]\n",
            "Get:22 http://archive.ubuntu.com/ubuntu jammy/universe amd64 libplexus-cipher-java all 1.8-2 [15.1 kB]\n",
            "Get:23 http://archive.ubuntu.com/ubuntu jammy/universe amd64 libplexus-classworlds-java all 2.6.0-1 [49.4 kB]\n",
            "Get:24 http://archive.ubuntu.com/ubuntu jammy/universe amd64 libplexus-component-annotations-java all 2.1.0-1 [6,564 B]\n",
            "Get:25 http://archive.ubuntu.com/ubuntu jammy/universe amd64 libplexus-interpolation-java all 1.26-1 [76.8 kB]\n",
            "Get:26 http://archive.ubuntu.com/ubuntu jammy/universe amd64 libplexus-sec-dispatcher-java all 1.4-4 [28.1 kB]\n",
            "Get:27 http://archive.ubuntu.com/ubuntu jammy/universe amd64 libslf4j-java all 1.7.32-1 [141 kB]\n",
            "Get:28 http://archive.ubuntu.com/ubuntu jammy/universe amd64 libsisu-inject-java all 0.3.4-2 [347 kB]\n",
            "Get:29 http://archive.ubuntu.com/ubuntu jammy/universe amd64 libsisu-plexus-java all 0.3.4-3 [181 kB]\n",
            "Get:30 http://archive.ubuntu.com/ubuntu jammy/universe amd64 libmaven3-core-java all 3.6.3-5 [1,535 kB]\n",
            "Get:31 http://archive.ubuntu.com/ubuntu jammy/universe amd64 libwagon-file-java all 3.3.4-1 [7,928 B]\n",
            "Get:32 http://archive.ubuntu.com/ubuntu jammy/universe amd64 libwagon-http-shaded-java all 3.3.4-1 [1,855 kB]\n",
            "Get:33 http://archive.ubuntu.com/ubuntu jammy/universe amd64 maven all 3.6.3-5 [17.8 kB]\n",
            "Fetched 10.2 MB in 0s (34.9 MB/s)\n",
            "Extracting templates from packages: 100%\n",
            "Selecting previously unselected package libapache-pom-java.\n",
            "(Reading database ... 126209 files and directories currently installed.)\n",
            "Preparing to unpack .../00-libapache-pom-java_18-1_all.deb ...\n",
            "Unpacking libapache-pom-java (18-1) ...\n",
            "Selecting previously unselected package libatinject-jsr330-api-java.\n",
            "Preparing to unpack .../01-libatinject-jsr330-api-java_1.0+ds1-5_all.deb ...\n",
            "Unpacking libatinject-jsr330-api-java (1.0+ds1-5) ...\n",
            "Selecting previously unselected package libgeronimo-interceptor-3.0-spec-java.\n",
            "Preparing to unpack .../02-libgeronimo-interceptor-3.0-spec-java_1.0.1-4fakesync_all.deb ...\n",
            "Unpacking libgeronimo-interceptor-3.0-spec-java (1.0.1-4fakesync) ...\n",
            "Selecting previously unselected package libcdi-api-java.\n",
            "Preparing to unpack .../03-libcdi-api-java_1.2-3_all.deb ...\n",
            "Unpacking libcdi-api-java (1.2-3) ...\n",
            "Selecting previously unselected package libcommons-cli-java.\n",
            "Preparing to unpack .../04-libcommons-cli-java_1.4-2_all.deb ...\n",
            "Unpacking libcommons-cli-java (1.4-2) ...\n",
            "Selecting previously unselected package libcommons-parent-java.\n",
            "Preparing to unpack .../05-libcommons-parent-java_43-1_all.deb ...\n",
            "Unpacking libcommons-parent-java (43-1) ...\n",
            "Selecting previously unselected package libcommons-io-java.\n",
            "Preparing to unpack .../06-libcommons-io-java_2.11.0-2_all.deb ...\n",
            "Unpacking libcommons-io-java (2.11.0-2) ...\n",
            "Selecting previously unselected package libcommons-lang3-java.\n",
            "Preparing to unpack .../07-libcommons-lang3-java_3.11-1_all.deb ...\n",
            "Unpacking libcommons-lang3-java (3.11-1) ...\n",
            "Selecting previously unselected package libgeronimo-annotation-1.3-spec-java.\n",
            "Preparing to unpack .../08-libgeronimo-annotation-1.3-spec-java_1.3-1_all.deb ...\n",
            "Unpacking libgeronimo-annotation-1.3-spec-java (1.3-1) ...\n",
            "Selecting previously unselected package libjsr305-java.\n",
            "Preparing to unpack .../09-libjsr305-java_0.1~+svn49-11_all.deb ...\n",
            "Unpacking libjsr305-java (0.1~+svn49-11) ...\n",
            "Selecting previously unselected package libguava-java.\n",
            "Preparing to unpack .../10-libguava-java_29.0-6_all.deb ...\n",
            "Unpacking libguava-java (29.0-6) ...\n",
            "Selecting previously unselected package libaopalliance-java.\n",
            "Preparing to unpack .../11-libaopalliance-java_20070526-6_all.deb ...\n",
            "Unpacking libaopalliance-java (20070526-6) ...\n",
            "Selecting previously unselected package libguice-java.\n",
            "Preparing to unpack .../12-libguice-java_4.2.3-2_all.deb ...\n",
            "Unpacking libguice-java (4.2.3-2) ...\n",
            "Selecting previously unselected package libhawtjni-runtime-java.\n",
            "Preparing to unpack .../13-libhawtjni-runtime-java_1.17-1_all.deb ...\n",
            "Unpacking libhawtjni-runtime-java (1.17-1) ...\n",
            "Selecting previously unselected package libjansi-native-java.\n",
            "Preparing to unpack .../14-libjansi-native-java_1.8-1_all.deb ...\n",
            "Unpacking libjansi-native-java (1.8-1) ...\n",
            "Selecting previously unselected package libjansi-java.\n",
            "Preparing to unpack .../15-libjansi-java_1.18-1_all.deb ...\n",
            "Unpacking libjansi-java (1.18-1) ...\n",
            "Selecting previously unselected package libmaven-parent-java.\n",
            "Preparing to unpack .../16-libmaven-parent-java_31-2_all.deb ...\n",
            "Unpacking libmaven-parent-java (31-2) ...\n",
            "Selecting previously unselected package libplexus-utils2-java.\n",
            "Preparing to unpack .../17-libplexus-utils2-java_3.3.0-1_all.deb ...\n",
            "Unpacking libplexus-utils2-java (3.3.0-1) ...\n",
            "Selecting previously unselected package libwagon-provider-api-java.\n",
            "Preparing to unpack .../18-libwagon-provider-api-java_3.3.4-1_all.deb ...\n",
            "Unpacking libwagon-provider-api-java (3.3.4-1) ...\n",
            "Selecting previously unselected package libmaven-resolver-java.\n",
            "Preparing to unpack .../19-libmaven-resolver-java_1.4.2-3build1_all.deb ...\n",
            "Unpacking libmaven-resolver-java (1.4.2-3build1) ...\n",
            "Selecting previously unselected package libmaven-shared-utils-java.\n",
            "Preparing to unpack .../20-libmaven-shared-utils-java_3.3.0-1ubuntu0.22.04.1_all.deb ...\n",
            "Unpacking libmaven-shared-utils-java (3.3.0-1ubuntu0.22.04.1) ...\n",
            "Selecting previously unselected package libplexus-cipher-java.\n",
            "Preparing to unpack .../21-libplexus-cipher-java_1.8-2_all.deb ...\n",
            "Unpacking libplexus-cipher-java (1.8-2) ...\n",
            "Selecting previously unselected package libplexus-classworlds-java.\n",
            "Preparing to unpack .../22-libplexus-classworlds-java_2.6.0-1_all.deb ...\n",
            "Unpacking libplexus-classworlds-java (2.6.0-1) ...\n",
            "Selecting previously unselected package libplexus-component-annotations-java.\n",
            "Preparing to unpack .../23-libplexus-component-annotations-java_2.1.0-1_all.deb ...\n",
            "Unpacking libplexus-component-annotations-java (2.1.0-1) ...\n",
            "Selecting previously unselected package libplexus-interpolation-java.\n",
            "Preparing to unpack .../24-libplexus-interpolation-java_1.26-1_all.deb ...\n",
            "Unpacking libplexus-interpolation-java (1.26-1) ...\n",
            "Selecting previously unselected package libplexus-sec-dispatcher-java.\n",
            "Preparing to unpack .../25-libplexus-sec-dispatcher-java_1.4-4_all.deb ...\n",
            "Unpacking libplexus-sec-dispatcher-java (1.4-4) ...\n",
            "Selecting previously unselected package libslf4j-java.\n",
            "Preparing to unpack .../26-libslf4j-java_1.7.32-1_all.deb ...\n",
            "Unpacking libslf4j-java (1.7.32-1) ...\n",
            "Selecting previously unselected package libsisu-inject-java.\n",
            "Preparing to unpack .../27-libsisu-inject-java_0.3.4-2_all.deb ...\n",
            "Unpacking libsisu-inject-java (0.3.4-2) ...\n",
            "Selecting previously unselected package libsisu-plexus-java.\n",
            "Preparing to unpack .../28-libsisu-plexus-java_0.3.4-3_all.deb ...\n",
            "Unpacking libsisu-plexus-java (0.3.4-3) ...\n",
            "Selecting previously unselected package libmaven3-core-java.\n",
            "Preparing to unpack .../29-libmaven3-core-java_3.6.3-5_all.deb ...\n",
            "Unpacking libmaven3-core-java (3.6.3-5) ...\n",
            "Selecting previously unselected package libwagon-file-java.\n",
            "Preparing to unpack .../30-libwagon-file-java_3.3.4-1_all.deb ...\n",
            "Unpacking libwagon-file-java (3.3.4-1) ...\n",
            "Selecting previously unselected package libwagon-http-shaded-java.\n",
            "Preparing to unpack .../31-libwagon-http-shaded-java_3.3.4-1_all.deb ...\n",
            "Unpacking libwagon-http-shaded-java (3.3.4-1) ...\n",
            "Selecting previously unselected package maven.\n",
            "Preparing to unpack .../32-maven_3.6.3-5_all.deb ...\n",
            "Unpacking maven (3.6.3-5) ...\n",
            "Setting up libslf4j-java (1.7.32-1) ...\n",
            "Setting up libplexus-utils2-java (3.3.0-1) ...\n",
            "Setting up libplexus-classworlds-java (2.6.0-1) ...\n",
            "Setting up libjsr305-java (0.1~+svn49-11) ...\n",
            "Setting up libaopalliance-java (20070526-6) ...\n",
            "Setting up libcommons-cli-java (1.4-2) ...\n",
            "Setting up libplexus-component-annotations-java (2.1.0-1) ...\n",
            "Setting up libplexus-cipher-java (1.8-2) ...\n",
            "Setting up libgeronimo-annotation-1.3-spec-java (1.3-1) ...\n",
            "Setting up libgeronimo-interceptor-3.0-spec-java (1.0.1-4fakesync) ...\n",
            "Setting up libapache-pom-java (18-1) ...\n",
            "Setting up libatinject-jsr330-api-java (1.0+ds1-5) ...\n",
            "Setting up libplexus-interpolation-java (1.26-1) ...\n",
            "Setting up libplexus-sec-dispatcher-java (1.4-4) ...\n",
            "Setting up libwagon-http-shaded-java (3.3.4-1) ...\n",
            "Setting up libcdi-api-java (1.2-3) ...\n",
            "Setting up libhawtjni-runtime-java (1.17-1) ...\n",
            "Setting up libwagon-provider-api-java (3.3.4-1) ...\n",
            "Setting up libmaven-parent-java (31-2) ...\n",
            "Setting up libcommons-parent-java (43-1) ...\n",
            "Setting up libsisu-inject-java (0.3.4-2) ...\n",
            "Setting up libsisu-plexus-java (0.3.4-3) ...\n",
            "Setting up libmaven-resolver-java (1.4.2-3build1) ...\n",
            "Setting up libguava-java (29.0-6) ...\n",
            "Setting up libcommons-lang3-java (3.11-1) ...\n",
            "Setting up libjansi-native-java (1.8-1) ...\n",
            "Setting up libwagon-file-java (3.3.4-1) ...\n",
            "Setting up libcommons-io-java (2.11.0-2) ...\n",
            "Setting up libguice-java (4.2.3-2) ...\n",
            "Setting up libjansi-java (1.18-1) ...\n",
            "Setting up libmaven-shared-utils-java (3.3.0-1ubuntu0.22.04.1) ...\n",
            "Setting up libmaven3-core-java (3.6.3-5) ...\n",
            "Setting up maven (3.6.3-5) ...\n",
            "update-alternatives: using /usr/share/maven/bin/mvn to provide /usr/bin/mvn (mvn) in auto mode\n"
          ]
        }
      ],
      "source": [
        "# Install Maven\n",
        "!apt-get install -q maven"
      ]
    },
    {
      "cell_type": "markdown",
      "metadata": {
        "id": "5RfnQeoVAFSq"
      },
      "source": [
        "Now is the time to build the `trec_eval` tool (more on this later):"
      ]
    },
    {
      "cell_type": "code",
      "execution_count": null,
      "metadata": {
        "id": "0J7rJR45ABvd",
        "colab": {
          "base_uri": "https://localhost:8080/"
        },
        "outputId": "2307c85a-5af8-4d88-9584-2fc4507694b2"
      },
      "outputs": [
        {
          "output_type": "stream",
          "name": "stdout",
          "text": [
            "trec_eval.9.0.4/\n",
            "trec_eval.9.0.4/m_prefs_pair.c\n",
            "trec_eval.9.0.4/m_ndcg_p.c\n",
            "trec_eval.9.0.4/m_infap.c\n",
            "trec_eval.9.0.4/m_num_q.c\n",
            "trec_eval.9.0.4/m_iprec_at_recall.c\n",
            "trec_eval.9.0.4/form_prefs_counts.c\n",
            "trec_eval.9.0.4/m_prefs_num_prefs_ful_ret.c\n",
            "trec_eval.9.0.4/utility_pool.c\n",
            "trec_eval.9.0.4/m_binG.c\n",
            "trec_eval.9.0.4/meas_avg.c\n",
            "trec_eval.9.0.4/m_gm_bpref.c\n",
            "trec_eval.9.0.4/m_runid.c\n",
            "trec_eval.9.0.4/m_bpref.c\n",
            "trec_eval.9.0.4/m_gm_map.c\n",
            "trec_eval.9.0.4/trec_eval.h\n",
            "trec_eval.9.0.4/m_yaap.c\n",
            "trec_eval.9.0.4/m_relstring.c\n",
            "trec_eval.9.0.4/m_Rprec.c\n",
            "trec_eval.9.0.4/m_prefs_avgjg.c\n",
            "trec_eval.9.0.4/m_success.c\n",
            "trec_eval.9.0.4/m_ndcg.c\n",
            "trec_eval.9.0.4/functions.h\n",
            "trec_eval.9.0.4/m_P_avgjg.c\n",
            "trec_eval.9.0.4/test/\n",
            "trec_eval.9.0.4/test/qrels.rel_level\n",
            "trec_eval.9.0.4/test/results.test\n",
            "trec_eval.9.0.4/test/qrels.test\n",
            "trec_eval.9.0.4/test/out.test.qrels_jg\n",
            "trec_eval.9.0.4/test/out.test.meas_params\n",
            "trec_eval.9.0.4/test/out.test.a\n",
            "trec_eval.9.0.4/test/out.test.prefs\n",
            "trec_eval.9.0.4/test/out.test.aqcM\n",
            "trec_eval.9.0.4/test/out.test.aql\n",
            "trec_eval.9.0.4/test/prefs.test\n",
            "trec_eval.9.0.4/test/out.test\n",
            "trec_eval.9.0.4/test/out.test.aq\n",
            "trec_eval.9.0.4/test/out.test.aqc\n",
            "trec_eval.9.0.4/test/out.test.qrels_prefs\n",
            "trec_eval.9.0.4/test/zscores_file\n",
            "trec_eval.9.0.4/test/qrels.123\n",
            "trec_eval.9.0.4/test/out.test.aqZ\n",
            "trec_eval.9.0.4/test/results.trunc\n",
            "trec_eval.9.0.4/test/prefs.results.test\n",
            "trec_eval.9.0.4/test/prefs.rank20\n",
            "trec_eval.9.0.4/m_11pt_avg.c\n",
            "trec_eval.9.0.4/m_G.c\n",
            "trec_eval.9.0.4/m_num_rel.c\n",
            "trec_eval.9.0.4/m_map_cut.c\n",
            "trec_eval.9.0.4/m_prefs_avgjg_ret.c\n",
            "trec_eval.9.0.4/m_Rprec_mult.c\n",
            "trec_eval.9.0.4/Makefile\n",
            "trec_eval.9.0.4/m_map_avgjg.c\n",
            "trec_eval.9.0.4/get_qrels_prefs.c\n",
            "trec_eval.9.0.4/README\n",
            "trec_eval.9.0.4/m_set_rel_P.c\n",
            "trec_eval.9.0.4/sysfunc.h\n",
            "trec_eval.9.0.4/m_prefs_pair_ret.c\n",
            "trec_eval.9.0.4/convert_zscores.c\n",
            "trec_eval.9.0.4/m_ndcg_cut.c\n",
            "trec_eval.9.0.4/m_prefs_pair_imp.c\n",
            "trec_eval.9.0.4/meas_print_single.c\n",
            "trec_eval.9.0.4/meas_print_final.c\n",
            "trec_eval.9.0.4/trec_eval.c\n",
            "trec_eval.9.0.4/m_num_ret.c\n",
            "trec_eval.9.0.4/get_prefs.c\n",
            "trec_eval.9.0.4/m_P.c\n",
            "trec_eval.9.0.4/get_qrels_jg.c\n",
            "trec_eval.9.0.4/m_rel_P.c\n",
            "trec_eval.9.0.4/meas_acc.c\n",
            "trec_eval.9.0.4/m_prefs_simp.c\n",
            "trec_eval.9.0.4/m_recall.c\n",
            "trec_eval.9.0.4/trec_format.h\n",
            "trec_eval.9.0.4/m_ndcg_rel.c\n",
            "trec_eval.9.0.4/m_num_nonrel_judged_ret.c\n",
            "trec_eval.9.0.4/formats.c\n",
            "trec_eval.9.0.4/bpref_bug\n",
            "trec_eval.9.0.4/README.windows.md\n",
            "trec_eval.9.0.4/m_prefs_num_prefs_ful.c\n",
            "trec_eval.9.0.4/m_set_map.c\n",
            "trec_eval.9.0.4/get_qrels.c\n",
            "trec_eval.9.0.4/m_set_F.c\n",
            "trec_eval.9.0.4/measures.c\n",
            "trec_eval.9.0.4/common.h\n",
            "trec_eval.9.0.4/meas_init.c\n",
            "trec_eval.9.0.4/m_recip_rank.c\n",
            "trec_eval.9.0.4/m_set_recall.c\n",
            "trec_eval.9.0.4/get_trec_results.c\n",
            "trec_eval.9.0.4/m_prefs_simp_ret.c\n",
            "trec_eval.9.0.4/m_num_rel_ret.c\n",
            "trec_eval.9.0.4/m_map.c\n",
            "trec_eval.9.0.4/m_utility.c\n",
            "trec_eval.9.0.4/form_res_rels.c\n",
            "trec_eval.9.0.4/form_res_rels_jg.c\n",
            "trec_eval.9.0.4/m_prefs_simp_imp.c\n",
            "trec_eval.9.0.4/m_prefs_num_prefs_poss.c\n",
            "trec_eval.9.0.4/m_prefs_avgjg_Rnonrel.c\n",
            "trec_eval.9.0.4/m_prefs_avgjg_Rnonrel_ret.c\n",
            "trec_eval.9.0.4/m_set_P.c\n",
            "trec_eval.9.0.4/m_prefs_avgjg_imp.c\n",
            "trec_eval.9.0.4/m_Rndcg.c\n",
            "trec_eval.9.0.4/CHANGELOG\n",
            "trec_eval.9.0.4/m_Rprec_mult_avgjg.c\n",
            "trec_eval.9.0.4/get_zscores.c\n",
            "gcc -g -I.  -Wall -DVERSIONID=\\\"9.0.4\\\"  -o trec_eval trec_eval.c formats.c meas_init.c meas_acc.c meas_avg.c meas_print_single.c meas_print_final.c get_qrels.c get_trec_results.c get_prefs.c get_qrels_prefs.c get_qrels_jg.c form_res_rels.c form_res_rels_jg.c form_prefs_counts.c utility_pool.c get_zscores.c convert_zscores.c measures.c  m_map.c m_P.c m_num_q.c m_num_ret.c m_num_rel.c m_num_rel_ret.c m_gm_map.c m_Rprec.c m_recip_rank.c m_bpref.c m_iprec_at_recall.c m_recall.c m_Rprec_mult.c m_utility.c m_11pt_avg.c m_ndcg.c m_ndcg_cut.c m_Rndcg.c m_ndcg_rel.c m_binG.c m_G.c m_rel_P.c m_success.c m_infap.c m_map_cut.c m_gm_bpref.c m_runid.c m_relstring.c m_set_P.c m_set_recall.c m_set_rel_P.c m_set_map.c m_set_F.c m_num_nonrel_judged_ret.c m_prefs_num_prefs_poss.c m_prefs_num_prefs_ful.c m_prefs_num_prefs_ful_ret.c m_prefs_simp.c m_prefs_pair.c m_prefs_avgjg.c m_prefs_avgjg_Rnonrel.c m_prefs_simp_ret.c m_prefs_pair_ret.c m_prefs_avgjg_ret.c m_prefs_avgjg_Rnonrel_ret.c m_prefs_simp_imp.c m_prefs_pair_imp.c m_prefs_avgjg_imp.c m_map_avgjg.c m_Rprec_mult_avgjg.c m_P_avgjg.c m_yaap.c -lm\n"
          ]
        }
      ],
      "source": [
        "!cd anserini/eval && tar xvfz trec_eval.9.0.4.tar.gz && cd trec_eval.9.0.4 && make"
      ]
    },
    {
      "cell_type": "markdown",
      "metadata": {
        "id": "EM-RdvPtAjbo"
      },
      "source": [
        "Now lets build anserini. Please note that Maven has rather verbose logging, but so you only output the final lines that indicate whether or not the build succeeded."
      ]
    },
    {
      "cell_type": "code",
      "execution_count": null,
      "metadata": {
        "id": "JV-GYvnEAdR8",
        "colab": {
          "base_uri": "https://localhost:8080/"
        },
        "outputId": "a5a8eaf6-e036-4efd-8b76-cdf4816f243f"
      },
      "outputs": [
        {
          "output_type": "stream",
          "name": "stdout",
          "text": [
            "[\u001b[1;34mINFO\u001b[m] \u001b[1;32mBUILD SUCCESS\u001b[m\n"
          ]
        }
      ],
      "source": [
        "# Build Anserini\n",
        "!cd anserini && mvn clean package appassembler:assemble | grep \"BUILD\""
      ]
    },
    {
      "cell_type": "markdown",
      "metadata": {
        "id": "sOxCxt9wc9OL"
      },
      "source": [
        "## Data Preparation"
      ]
    },
    {
      "cell_type": "markdown",
      "metadata": {
        "id": "Y2-J2uyKfh2D"
      },
      "source": [
        "MS MARCO (MicroSoft MAchine Reading COmprehension) is a large-scale dataset that defines many tasks from question answering to ranking.\n",
        "Here we focus on the collection designed for passage re-ranking.\n",
        "\n",
        "This collection is composed of the top 1000 most relevant passages for each query, as retrieved by BM25.\n",
        "\n",
        "First, create a directory named `data/msmarco_passage` to hold the collection. Next, download the MS MARCO passage collection from the official MS MARCO mirror and extract the dataset."
      ]
    },
    {
      "cell_type": "code",
      "execution_count": null,
      "metadata": {
        "id": "P50lUocfojwP",
        "colab": {
          "base_uri": "https://localhost:8080/"
        },
        "outputId": "b921b712-bffe-402a-ad7e-4a4ff0a1b023"
      },
      "outputs": [
        {
          "output_type": "stream",
          "name": "stdout",
          "text": [
            "--2025-03-26 18:21:44--  https://msmarco.z22.web.core.windows.net/msmarcoranking/collectionandqueries.tar.gz\n",
            "Resolving msmarco.z22.web.core.windows.net (msmarco.z22.web.core.windows.net)... 20.150.34.1\n",
            "Connecting to msmarco.z22.web.core.windows.net (msmarco.z22.web.core.windows.net)|20.150.34.1|:443... connected.\n",
            "HTTP request sent, awaiting response... 200 OK\n",
            "Length: 1057717952 (1009M) [application/gzip]\n",
            "Saving to: ‘collectionandqueries.tar.gz’\n",
            "\n",
            "collectionandquerie 100%[===================>]   1009M  12.9MB/s    in 2m 47s  \n",
            "\n",
            "2025-03-26 18:24:32 (6.05 MB/s) - ‘collectionandqueries.tar.gz’ saved [1057717952/1057717952]\n",
            "\n",
            "collection.tsv\n",
            "qrels.dev.small.tsv\n",
            "qrels.train.tsv\n",
            "queries.dev.small.tsv\n",
            "queries.dev.tsv\n",
            "queries.eval.small.tsv\n",
            "queries.eval.tsv\n",
            "queries.train.tsv\n"
          ]
        }
      ],
      "source": [
        "!mkdir -p data/msmarco_passage\n",
        "!wget https://msmarco.z22.web.core.windows.net/msmarcoranking/collectionandqueries.tar.gz\n",
        "!tar -xvf collectionandqueries.tar.gz -C data/msmarco_passage"
      ]
    },
    {
      "cell_type": "markdown",
      "metadata": {
        "id": "7tvrnDt_W36P"
      },
      "source": [
        "Let's start exploring the passages in the collection:"
      ]
    },
    {
      "cell_type": "code",
      "execution_count": null,
      "metadata": {
        "id": "B7PNkiCkXEek",
        "colab": {
          "base_uri": "https://localhost:8080/"
        },
        "outputId": "2c5ad6bc-7b67-4883-acaa-daa2d02d117e"
      },
      "outputs": [
        {
          "output_type": "stream",
          "name": "stdout",
          "text": [
            "8841823 data/msmarco_passage/collection.tsv\n",
            "0\tThe presence of communication amid scientific minds was equally important to the success of the Manhattan Project as scientific intellect was. The only cloud hanging over the impressive achievement of the atomic researchers and engineers is what their success truly meant; hundreds of thousands of innocent lives obliterated.\n",
            "1\tThe Manhattan Project and its atomic bomb helped bring an end to World War II. Its legacy of peaceful uses of atomic energy continues to have an impact on history and science.\n",
            "2\tEssay on The Manhattan Project - The Manhattan Project The Manhattan Project was to see if making an atomic bomb possible. The success of this project would forever change the world forever making it known that something this powerful can be manmade.\n",
            "3\tThe Manhattan Project was the name for a project conducted during World War II, to develop the first atomic bomb. It refers specifically to the period of the project from 194 â¦ 2-1946 under the control of the U.S. Army Corps of Engineers, under the administration of General Leslie R. Groves.\n",
            "4\tversions of each volume as well as complementary websites. The first websiteâThe Manhattan Project: An Interactive Historyâis available on the Office of History and Heritage Resources website, http://www.cfo. doe.gov/me70/history. The Office of History and Heritage Resources and the National Nuclear Security\n"
          ]
        }
      ],
      "source": [
        "file=\"data/msmarco_passage/collection.tsv\"\n",
        "!wc -l $file\n",
        "!head -5 $file"
      ]
    },
    {
      "cell_type": "markdown",
      "metadata": {
        "id": "zx6gJbW9XZt-"
      },
      "source": [
        "`collection.tsv` contains 8841823 passages, each labeled with a unique passage ID."
      ]
    },
    {
      "cell_type": "markdown",
      "metadata": {
        "id": "k8EwBpcoYN9G"
      },
      "source": [
        "### Exercise #1\n",
        "Find how many passages contain the phrase \"South Africa\" using `grep`, `wc` and the pipe operator `|`.\n",
        "Also output the first 10 passages."
      ]
    },
    {
      "cell_type": "code",
      "execution_count": null,
      "metadata": {
        "id": "CgajKG7OYOXQ"
      },
      "outputs": [],
      "source": []
    },
    {
      "cell_type": "markdown",
      "metadata": {
        "id": "_q7IcAxZZZdS"
      },
      "source": [
        "Now let's look at the development queries.\n",
        "We will be using `queries/qrels.dev.small.tsv` for demonstration purposes, which constitutes a smaller subset of the queries (6,980 queries compared to the 101,093 queries of the original)."
      ]
    },
    {
      "cell_type": "code",
      "execution_count": null,
      "metadata": {
        "id": "VDTUAaI5Zln6",
        "colab": {
          "base_uri": "https://localhost:8080/"
        },
        "outputId": "8c0eea9a-d878-4703-d6e6-e52aa46adf78"
      },
      "outputs": [
        {
          "output_type": "stream",
          "name": "stdout",
          "text": [
            "6980 data/msmarco_passage/queries.dev.small.tsv\n"
          ]
        }
      ],
      "source": [
        "!wc -l data/msmarco_passage/queries.dev.small.tsv"
      ]
    },
    {
      "cell_type": "markdown",
      "metadata": {
        "id": "p4GKPn_eabkm"
      },
      "source": [
        "### Exercise #2\n",
        "Output the top 3 queries that contain the term \"football\" and count the total number of words in them."
      ]
    },
    {
      "cell_type": "code",
      "execution_count": null,
      "metadata": {
        "id": "FM7paOITbuyx"
      },
      "outputs": [],
      "source": []
    },
    {
      "cell_type": "markdown",
      "metadata": {
        "id": "dAakebUMc2Hr"
      },
      "source": [
        "The final important component of the collection is the qrels files:"
      ]
    },
    {
      "cell_type": "code",
      "execution_count": null,
      "metadata": {
        "id": "jBtmYJu1c_mc",
        "colab": {
          "base_uri": "https://localhost:8080/"
        },
        "outputId": "29e1629f-c14a-4872-974f-8535d9055074"
      },
      "outputs": [
        {
          "output_type": "stream",
          "name": "stdout",
          "text": [
            "300674\t0\t7067032\t1\n",
            "125705\t0\t7067056\t1\n",
            "94798\t0\t7067181\t1\n",
            "9083\t0\t7067274\t1\n",
            "174249\t0\t7067348\t1\n"
          ]
        }
      ],
      "source": [
        "!head -5 data/msmarco_passage/qrels.dev.small.tsv"
      ]
    },
    {
      "cell_type": "markdown",
      "metadata": {
        "id": "hoxreCJ9dHJu"
      },
      "source": [
        "### Exercise #3\n",
        "Get the query ID of the query `average pay for nfl football players (39908)` from the previous exercise and see how many passages it is associated with."
      ]
    },
    {
      "cell_type": "code",
      "execution_count": null,
      "metadata": {
        "id": "-IzufgMcdRPl"
      },
      "outputs": [],
      "source": []
    },
    {
      "cell_type": "markdown",
      "metadata": {
        "id": "6eQO468kdwxW"
      },
      "source": [
        "### Exercise #4\n",
        "Check the first passage that the query is associated with from the `collection.tsv` file.\n",
        "Does it make sense?"
      ]
    },
    {
      "cell_type": "code",
      "execution_count": null,
      "metadata": {
        "id": "pWrIy5B_e4H4"
      },
      "outputs": [],
      "source": []
    },
    {
      "cell_type": "markdown",
      "metadata": {
        "id": "yGxMRIVmgKWP"
      },
      "source": [
        "As you can see, the original MS MARCO collection is a tab-separated values (TSV) file.\n",
        "We need to convert the collection into the jsonl format that can be processed by Anserini.\n",
        "jsonl files contain JSON object per line."
      ]
    },
    {
      "cell_type": "code",
      "execution_count": null,
      "metadata": {
        "id": "wwl0o9R1ggZo",
        "colab": {
          "base_uri": "https://localhost:8080/"
        },
        "outputId": "f6c9c93e-1b5b-4496-b0c6-0f0e7ab1d961"
      },
      "outputs": [
        {
          "output_type": "stream",
          "name": "stdout",
          "text": [
            "Converting collection...\n",
            "Converted 0 docs in 1 files\n",
            "Converted 100000 docs in 1 files\n",
            "Converted 200000 docs in 1 files\n",
            "Converted 300000 docs in 1 files\n",
            "Converted 400000 docs in 1 files\n",
            "Converted 500000 docs in 1 files\n",
            "Converted 600000 docs in 1 files\n",
            "Converted 700000 docs in 1 files\n",
            "Converted 800000 docs in 1 files\n",
            "Converted 900000 docs in 1 files\n",
            "Converted 1000000 docs in 2 files\n",
            "Converted 1100000 docs in 2 files\n",
            "Converted 1200000 docs in 2 files\n",
            "Converted 1300000 docs in 2 files\n",
            "Converted 1400000 docs in 2 files\n",
            "Converted 1500000 docs in 2 files\n",
            "Converted 1600000 docs in 2 files\n",
            "Converted 1700000 docs in 2 files\n",
            "Converted 1800000 docs in 2 files\n",
            "Converted 1900000 docs in 2 files\n",
            "Converted 2000000 docs in 3 files\n",
            "Converted 2100000 docs in 3 files\n",
            "Converted 2200000 docs in 3 files\n",
            "Converted 2300000 docs in 3 files\n",
            "Converted 2400000 docs in 3 files\n",
            "Converted 2500000 docs in 3 files\n",
            "Converted 2600000 docs in 3 files\n",
            "Converted 2700000 docs in 3 files\n",
            "Converted 2800000 docs in 3 files\n",
            "Converted 2900000 docs in 3 files\n",
            "Converted 3000000 docs in 4 files\n",
            "Converted 3100000 docs in 4 files\n",
            "Converted 3200000 docs in 4 files\n",
            "Converted 3300000 docs in 4 files\n",
            "Converted 3400000 docs in 4 files\n",
            "Converted 3500000 docs in 4 files\n",
            "Converted 3600000 docs in 4 files\n",
            "Converted 3700000 docs in 4 files\n",
            "Converted 3800000 docs in 4 files\n",
            "Converted 3900000 docs in 4 files\n",
            "Converted 4000000 docs in 5 files\n",
            "Converted 4100000 docs in 5 files\n",
            "Converted 4200000 docs in 5 files\n",
            "Converted 4300000 docs in 5 files\n",
            "Converted 4400000 docs in 5 files\n",
            "Converted 4500000 docs in 5 files\n",
            "Converted 4600000 docs in 5 files\n",
            "Converted 4700000 docs in 5 files\n",
            "Converted 4800000 docs in 5 files\n",
            "Converted 4900000 docs in 5 files\n",
            "Converted 5000000 docs in 6 files\n",
            "Converted 5100000 docs in 6 files\n",
            "Converted 5200000 docs in 6 files\n",
            "Converted 5300000 docs in 6 files\n",
            "Converted 5400000 docs in 6 files\n",
            "Converted 5500000 docs in 6 files\n",
            "Converted 5600000 docs in 6 files\n",
            "Converted 5700000 docs in 6 files\n",
            "Converted 5800000 docs in 6 files\n",
            "Converted 5900000 docs in 6 files\n",
            "Converted 6000000 docs in 7 files\n",
            "Converted 6100000 docs in 7 files\n",
            "Converted 6200000 docs in 7 files\n",
            "Converted 6300000 docs in 7 files\n",
            "Converted 6400000 docs in 7 files\n",
            "Converted 6500000 docs in 7 files\n",
            "Converted 6600000 docs in 7 files\n",
            "Converted 6700000 docs in 7 files\n",
            "Converted 6800000 docs in 7 files\n",
            "Converted 6900000 docs in 7 files\n",
            "Converted 7000000 docs in 8 files\n",
            "Converted 7100000 docs in 8 files\n",
            "Converted 7200000 docs in 8 files\n",
            "Converted 7300000 docs in 8 files\n",
            "Converted 7400000 docs in 8 files\n",
            "Converted 7500000 docs in 8 files\n",
            "Converted 7600000 docs in 8 files\n",
            "Converted 7700000 docs in 8 files\n",
            "Converted 7800000 docs in 8 files\n",
            "Converted 7900000 docs in 8 files\n",
            "Converted 8000000 docs in 9 files\n",
            "Converted 8100000 docs in 9 files\n",
            "Converted 8200000 docs in 9 files\n",
            "Converted 8300000 docs in 9 files\n",
            "Converted 8400000 docs in 9 files\n",
            "Converted 8500000 docs in 9 files\n",
            "Converted 8600000 docs in 9 files\n",
            "Converted 8700000 docs in 9 files\n",
            "Converted 8800000 docs in 9 files\n",
            "Done!\n"
          ]
        }
      ],
      "source": [
        "!cd anserini && python ./src/main/python/msmarco/convert_collection_to_jsonl.py \\\n",
        " --collection_path ../data/msmarco_passage/collection.tsv --output_folder ../data/msmarco_passage/collection_jsonl"
      ]
    },
    {
      "cell_type": "markdown",
      "metadata": {
        "id": "ap421Se6gqa7"
      },
      "source": [
        "The above command should generate 9 jsonl files in our `data/msmarco_passage/collection_jsonl` directory, each with 1M lines (except for the last one, which should have 841,823 lines)."
      ]
    },
    {
      "cell_type": "code",
      "execution_count": null,
      "metadata": {
        "id": "xZR9OEVFgzpy",
        "colab": {
          "base_uri": "https://localhost:8080/"
        },
        "outputId": "3559074c-6d4d-4129-9aff-6ca308b34c7b"
      },
      "outputs": [
        {
          "output_type": "stream",
          "name": "stdout",
          "text": [
            "   1000000 data/msmarco_passage/collection_jsonl/docs00.json\n",
            "   1000000 data/msmarco_passage/collection_jsonl/docs01.json\n",
            "   1000000 data/msmarco_passage/collection_jsonl/docs02.json\n",
            "   1000000 data/msmarco_passage/collection_jsonl/docs03.json\n",
            "   1000000 data/msmarco_passage/collection_jsonl/docs04.json\n",
            "   1000000 data/msmarco_passage/collection_jsonl/docs05.json\n",
            "   1000000 data/msmarco_passage/collection_jsonl/docs06.json\n",
            "   1000000 data/msmarco_passage/collection_jsonl/docs07.json\n",
            "    841823 data/msmarco_passage/collection_jsonl/docs08.json\n",
            "   8841823 total\n"
          ]
        }
      ],
      "source": [
        "!wc -l data/msmarco_passage/collection_jsonl/*"
      ]
    },
    {
      "cell_type": "markdown",
      "metadata": {
        "id": "tFmhUkUOexI-"
      },
      "source": [
        "jsonl files are JSON files with keys `id` and `contents`:"
      ]
    },
    {
      "cell_type": "code",
      "execution_count": null,
      "metadata": {
        "id": "Xd62bv8bexUm",
        "colab": {
          "base_uri": "https://localhost:8080/"
        },
        "outputId": "9f823630-52f2-4aa1-c734-ac9836cef962"
      },
      "outputs": [
        {
          "output_type": "stream",
          "name": "stdout",
          "text": [
            "{\"id\": \"0\", \"contents\": \"The presence of communication amid scientific minds was equally important to the success of the Manhattan Project as scientific intellect was. The only cloud hanging over the impressive achievement of the atomic researchers and engineers is what their success truly meant; hundreds of thousands of innocent lives obliterated.\"}\n",
            "{\"id\": \"1\", \"contents\": \"The Manhattan Project and its atomic bomb helped bring an end to World War II. Its legacy of peaceful uses of atomic energy continues to have an impact on history and science.\"}\n",
            "{\"id\": \"2\", \"contents\": \"Essay on The Manhattan Project - The Manhattan Project The Manhattan Project was to see if making an atomic bomb possible. The success of this project would forever change the world forever making it known that something this powerful can be manmade.\"}\n",
            "{\"id\": \"3\", \"contents\": \"The Manhattan Project was the name for a project conducted during World War II, to develop the first atomic bomb. It refers specifically to the period of the project from 194 \\u00e2\\u0080\\u00a6 2-1946 under the control of the U.S. Army Corps of Engineers, under the administration of General Leslie R. Groves.\"}\n",
            "{\"id\": \"4\", \"contents\": \"versions of each volume as well as complementary websites. The first website\\u00e2\\u0080\\u0093The Manhattan Project: An Interactive History\\u00e2\\u0080\\u0093is available on the Office of History and Heritage Resources website, http://www.cfo. doe.gov/me70/history. The Office of History and Heritage Resources and the National Nuclear Security\"}\n"
          ]
        }
      ],
      "source": [
        "!head -5 data/msmarco_passage/collection_jsonl/docs00.json"
      ]
    },
    {
      "cell_type": "markdown",
      "metadata": {
        "id": "S7_kBEkxivcs"
      },
      "source": [
        "Let's remove the original files to make room for the index.\n",
        "Check the contents of `data/msmarco_passage` before and after.\n",
        "Alternatively, you can look at your filesystem in the menu on the left by clicking the bottom icon."
      ]
    },
    {
      "cell_type": "code",
      "execution_count": null,
      "metadata": {
        "id": "A7zunsLHiyMh",
        "colab": {
          "base_uri": "https://localhost:8080/"
        },
        "outputId": "657581b7-6122-4ad9-da3f-340bb600fcb2"
      },
      "outputs": [
        {
          "output_type": "stream",
          "name": "stdout",
          "text": [
            "collection_jsonl     qrels.train.tsv\t    queries.eval.small.tsv\n",
            "collection.tsv\t     queries.dev.small.tsv  queries.eval.tsv\n",
            "qrels.dev.small.tsv  queries.dev.tsv\t    queries.train.tsv\n",
            "collection_jsonl\n"
          ]
        }
      ],
      "source": [
        "!ls data/msmarco_passage\n",
        "!rm data/msmarco_passage/*.tsv\n",
        "!ls data/msmarco_passage\n",
        "!rm -rf sample_data"
      ]
    },
    {
      "cell_type": "markdown",
      "metadata": {
        "id": "OnEa9PuhEFgT"
      },
      "source": [
        "## Indexing\n",
        "\n",
        "Some common indexing options with Anserini:\n",
        "\n",
        "- `input`: Path to collection\n",
        "- `threads`: Number of threads to run\n",
        "- `collection`: Type of Anserini Collection, e.g., LuceneDocumentGenerator, TweetGenerator (subclass of LuceneDocumentGenerator for TREC Microblog)\n",
        "- `index`: Path to index output\n",
        "- `storePositions`: Boolean flag to store positions\n",
        "- `storeDocvectors`: Boolean flag to store document vbectors\n",
        "- `storeRawDocs`: Boolean flag to store raw document text\n",
        "- `keepStopwords`: Boolean flag to keep stopwords (False by default)\n",
        "- `stemmer`: Stemmer to use ([Porter](http://snowball.tartarus.org/algorithms/porter/stemmer.html) by default)\n",
        "\n",
        "We now have everything in place to index the collection.\n",
        "The process takes about 10 minutes; in the meantime, you can already work on the next colab or take a break."
      ]
    },
    {
      "cell_type": "code",
      "execution_count": null,
      "metadata": {
        "id": "EG0p1FrCEGh-",
        "colab": {
          "base_uri": "https://localhost:8080/"
        },
        "outputId": "13cef258-a0b3-4412-da6d-db3fed031f87"
      },
      "outputs": [
        {
          "output_type": "stream",
          "name": "stdout",
          "text": [
            "2025-03-26 18:26:37,064 INFO  [main] index.IndexCollection (IndexCollection.java:636) - Setting log level to INFO\n",
            "2025-03-26 18:26:37,071 INFO  [main] index.IndexCollection (IndexCollection.java:639) - Starting indexer...\n",
            "2025-03-26 18:26:37,072 INFO  [main] index.IndexCollection (IndexCollection.java:640) - ============ Loading Parameters ============\n",
            "2025-03-26 18:26:37,073 INFO  [main] index.IndexCollection (IndexCollection.java:641) - DocumentCollection path: ../data/msmarco_passage/collection_jsonl\n",
            "2025-03-26 18:26:37,074 INFO  [main] index.IndexCollection (IndexCollection.java:642) - CollectionClass: JsonCollection\n",
            "2025-03-26 18:26:37,075 INFO  [main] index.IndexCollection (IndexCollection.java:643) - Generator: DefaultLuceneDocumentGenerator\n",
            "2025-03-26 18:26:37,075 INFO  [main] index.IndexCollection (IndexCollection.java:644) - Threads: 9\n",
            "2025-03-26 18:26:37,076 INFO  [main] index.IndexCollection (IndexCollection.java:645) - Stemmer: porter\n",
            "2025-03-26 18:26:37,077 INFO  [main] index.IndexCollection (IndexCollection.java:646) - Keep stopwords? false\n",
            "2025-03-26 18:26:37,077 INFO  [main] index.IndexCollection (IndexCollection.java:647) - Stopwords:  null\n",
            "2025-03-26 18:26:37,078 INFO  [main] index.IndexCollection (IndexCollection.java:648) - Store positions? true\n",
            "2025-03-26 18:26:37,078 INFO  [main] index.IndexCollection (IndexCollection.java:649) - Store docvectors? true\n",
            "2025-03-26 18:26:37,079 INFO  [main] index.IndexCollection (IndexCollection.java:650) - Store document \"contents\" field? false\n",
            "2025-03-26 18:26:37,079 INFO  [main] index.IndexCollection (IndexCollection.java:651) - Store document \"raw\" field? true\n",
            "2025-03-26 18:26:37,080 INFO  [main] index.IndexCollection (IndexCollection.java:652) - Optimize (merge segments)? false\n",
            "2025-03-26 18:26:37,080 INFO  [main] index.IndexCollection (IndexCollection.java:653) - Whitelist: null\n",
            "2025-03-26 18:26:37,081 INFO  [main] index.IndexCollection (IndexCollection.java:673) - Directly building Lucene indexes...\n",
            "2025-03-26 18:26:37,081 INFO  [main] index.IndexCollection (IndexCollection.java:674) - Index path: ../indexes/lucene-index.msmarco-passage.pos+docvectors+rawdocs\n",
            "2025-03-26 18:26:37,091 INFO  [main] index.IndexCollection (IndexCollection.java:723) - ============ Indexing Collection ============\n",
            "2025-03-26 18:26:37,365 INFO  [main] index.IndexCollection (IndexCollection.java:784) - Thread pool with 9 threads initialized.\n",
            "2025-03-26 18:26:37,370 INFO  [main] index.IndexCollection (IndexCollection.java:786) - Initializing collection in ../data/msmarco_passage/collection_jsonl\n",
            "2025-03-26 18:26:37,374 INFO  [main] index.IndexCollection (IndexCollection.java:789) - 9 files found\n",
            "2025-03-26 18:26:37,374 INFO  [main] index.IndexCollection (IndexCollection.java:790) - Starting to index...\n",
            "2025-03-26 18:27:37,393 INFO  [main] index.IndexCollection (IndexCollection.java:810) - 0.00% of files completed, 450,000 documents indexed\n",
            "2025-03-26 18:28:37,395 INFO  [main] index.IndexCollection (IndexCollection.java:810) - 0.00% of files completed, 1,170,000 documents indexed\n",
            "2025-03-26 18:29:37,397 INFO  [main] index.IndexCollection (IndexCollection.java:810) - 0.00% of files completed, 1,930,000 documents indexed\n",
            "2025-03-26 18:30:37,399 INFO  [main] index.IndexCollection (IndexCollection.java:810) - 0.00% of files completed, 2,660,000 documents indexed\n",
            "2025-03-26 18:31:37,401 INFO  [main] index.IndexCollection (IndexCollection.java:810) - 0.00% of files completed, 3,410,000 documents indexed\n",
            "2025-03-26 18:32:37,402 INFO  [main] index.IndexCollection (IndexCollection.java:810) - 0.00% of files completed, 4,150,000 documents indexed\n",
            "2025-03-26 18:33:37,404 INFO  [main] index.IndexCollection (IndexCollection.java:810) - 0.00% of files completed, 4,880,000 documents indexed\n",
            "2025-03-26 18:34:37,416 INFO  [main] index.IndexCollection (IndexCollection.java:810) - 0.00% of files completed, 5,640,000 documents indexed\n",
            "2025-03-26 18:35:37,425 INFO  [main] index.IndexCollection (IndexCollection.java:810) - 0.00% of files completed, 6,330,000 documents indexed\n",
            "2025-03-26 18:36:37,430 INFO  [main] index.IndexCollection (IndexCollection.java:810) - 0.00% of files completed, 7,040,000 documents indexed\n",
            "2025-03-26 18:37:37,466 INFO  [main] index.IndexCollection (IndexCollection.java:810) - 11.11% of files completed, 7,751,823 documents indexed\n",
            "2025-03-26 18:38:37,467 INFO  [main] index.IndexCollection (IndexCollection.java:810) - 11.11% of files completed, 8,461,823 documents indexed\n",
            "2025-03-26 18:40:47,239 INFO  [main] index.IndexCollection (IndexCollection.java:874) - Indexing Complete! 8,841,823 documents indexed\n",
            "2025-03-26 18:40:47,242 INFO  [main] index.IndexCollection (IndexCollection.java:875) - ============ Final Counter Values ============\n",
            "2025-03-26 18:40:47,243 INFO  [main] index.IndexCollection (IndexCollection.java:876) - indexed:        8,841,823\n",
            "2025-03-26 18:40:47,243 INFO  [main] index.IndexCollection (IndexCollection.java:877) - unindexable:            0\n",
            "2025-03-26 18:40:47,243 INFO  [main] index.IndexCollection (IndexCollection.java:878) - empty:                  0\n",
            "2025-03-26 18:40:47,244 INFO  [main] index.IndexCollection (IndexCollection.java:879) - skipped:                0\n",
            "2025-03-26 18:40:47,244 INFO  [main] index.IndexCollection (IndexCollection.java:880) - errors:                 0\n",
            "2025-03-26 18:40:47,264 INFO  [main] index.IndexCollection (IndexCollection.java:883) - Total 8,841,823 documents indexed in 00:14:10\n"
          ]
        }
      ],
      "source": [
        "!cd anserini && sh target/appassembler/bin/IndexCollection -collection JsonCollection -input ../data/msmarco_passage/collection_jsonl \\\n",
        " -index ../indexes/lucene-index.msmarco-passage.pos+docvectors+rawdocs -generator DefaultLuceneDocumentGenerator -threads 9 \\\n",
        " -storePositions -storeDocvectors -storeRaw"
      ]
    },
    {
      "cell_type": "markdown",
      "metadata": {
        "id": "EXDsGo30a7Pg"
      },
      "source": [
        "Check the size of the index at the specified destination:"
      ]
    },
    {
      "cell_type": "code",
      "execution_count": null,
      "metadata": {
        "id": "kwuGDOW-a97r",
        "colab": {
          "base_uri": "https://localhost:8080/"
        },
        "outputId": "84c28167-e81e-42eb-f81a-b08c9c1afb89"
      },
      "outputs": [
        {
          "output_type": "stream",
          "name": "stdout",
          "text": [
            "4.1G\tindexes/lucene-index.msmarco-passage.pos+docvectors+rawdocs\n"
          ]
        }
      ],
      "source": [
        "!du -h indexes/lucene-index.msmarco-passage.pos+docvectors+rawdocs"
      ]
    },
    {
      "cell_type": "markdown",
      "metadata": {
        "id": "U3F97ppoz7GH"
      },
      "source": [
        "## Explore the Index"
      ]
    },
    {
      "cell_type": "markdown",
      "metadata": {
        "id": "I3y-nap2bBFX"
      },
      "source": [
        "We can explore the index with [Pyserini](https://github.com/castorini/pyserini), the Python interface to Anserini."
      ]
    },
    {
      "cell_type": "markdown",
      "metadata": {
        "id": "i7mfRPK8mlKv"
      },
      "source": [
        "### Setup"
      ]
    },
    {
      "cell_type": "markdown",
      "metadata": {
        "id": "3AgSkzr0mobG"
      },
      "source": [
        "Install Python dependencies:"
      ]
    },
    {
      "cell_type": "code",
      "execution_count": null,
      "metadata": {
        "id": "CBlm_2LwmqNS",
        "colab": {
          "base_uri": "https://localhost:8080/"
        },
        "outputId": "fedd47a0-255a-4f0d-ea9a-68c52aba058e"
      },
      "outputs": [
        {
          "output_type": "stream",
          "name": "stdout",
          "text": [
            "Collecting pyjnius==1.2.1\n",
            "  Downloading pyjnius-1.2.1.tar.gz (40 kB)\n",
            "\u001b[?25l     \u001b[90m━━━━━━━━━━━━━━━━━━━━━━━━━━━━━━━━━━━━━━━━\u001b[0m \u001b[32m0.0/41.0 kB\u001b[0m \u001b[31m?\u001b[0m eta \u001b[36m-:--:--\u001b[0m\r\u001b[2K     \u001b[90m━━━━━━━━━━━━━━━━━━━━━━━━━━━━━━━━━━━━━━━━\u001b[0m \u001b[32m41.0/41.0 kB\u001b[0m \u001b[31m2.4 MB/s\u001b[0m eta \u001b[36m0:00:00\u001b[0m\n",
            "\u001b[?25h  Preparing metadata (setup.py) ... \u001b[?25l\u001b[?25hdone\n",
            "Requirement already satisfied: six>=1.7.0 in /usr/local/lib/python3.11/dist-packages (from pyjnius==1.2.1) (1.17.0)\n",
            "Requirement already satisfied: cython in /usr/local/lib/python3.11/dist-packages (from pyjnius==1.2.1) (3.0.12)\n",
            "Building wheels for collected packages: pyjnius\n",
            "  \u001b[1;31merror\u001b[0m: \u001b[1msubprocess-exited-with-error\u001b[0m\n",
            "  \n",
            "  \u001b[31m×\u001b[0m \u001b[32mpython setup.py bdist_wheel\u001b[0m did not run successfully.\n",
            "  \u001b[31m│\u001b[0m exit code: \u001b[1;36m1\u001b[0m\n",
            "  \u001b[31m╰─>\u001b[0m See above for output.\n",
            "  \n",
            "  \u001b[1;35mnote\u001b[0m: This error originates from a subprocess, and is likely not a problem with pip.\n",
            "  Building wheel for pyjnius (setup.py) ... \u001b[?25lerror\n",
            "\u001b[31m  ERROR: Failed building wheel for pyjnius\u001b[0m\u001b[31m\n",
            "\u001b[0m\u001b[?25h  Running setup.py clean for pyjnius\n",
            "Failed to build pyjnius\n",
            "\u001b[31mERROR: ERROR: Failed to build installable wheels for some pyproject.toml based projects (pyjnius)\u001b[0m\u001b[31m\n",
            "\u001b[0mCollecting pyserini==0.9.2.0\n",
            "  Downloading pyserini-0.9.2.0-py3-none-any.whl.metadata (1.6 kB)\n",
            "Requirement already satisfied: Cython in /usr/local/lib/python3.11/dist-packages (from pyserini==0.9.2.0) (3.0.12)\n",
            "Collecting pyjnius (from pyserini==0.9.2.0)\n",
            "  Downloading pyjnius-1.6.1-cp311-cp311-manylinux_2_17_x86_64.manylinux2014_x86_64.whl.metadata (10 kB)\n",
            "Downloading pyserini-0.9.2.0-py3-none-any.whl (57.8 MB)\n",
            "\u001b[2K   \u001b[90m━━━━━━━━━━━━━━━━━━━━━━━━━━━━━━━━━━━━━━━━\u001b[0m \u001b[32m57.8/57.8 MB\u001b[0m \u001b[31m15.3 MB/s\u001b[0m eta \u001b[36m0:00:00\u001b[0m\n",
            "\u001b[?25hDownloading pyjnius-1.6.1-cp311-cp311-manylinux_2_17_x86_64.manylinux2014_x86_64.whl (1.6 MB)\n",
            "\u001b[2K   \u001b[90m━━━━━━━━━━━━━━━━━━━━━━━━━━━━━━━━━━━━━━━━\u001b[0m \u001b[32m1.6/1.6 MB\u001b[0m \u001b[31m51.5 MB/s\u001b[0m eta \u001b[36m0:00:00\u001b[0m\n",
            "\u001b[?25hInstalling collected packages: pyjnius, pyserini\n",
            "Successfully installed pyjnius-1.6.1 pyserini-0.9.2.0\n"
          ]
        }
      ],
      "source": [
        "!pip install pyjnius==1.2.1\n",
        "!pip install pyserini==0.9.2.0\n",
        "\n",
        "import os\n",
        "os.environ['JAVA_HOME'] = '/usr/lib/jvm/java-11-openjdk-amd64'"
      ]
    },
    {
      "cell_type": "markdown",
      "metadata": {
        "id": "qebCOu3vmtVc"
      },
      "source": [
        "Fix known issue with pyjnius (see [this explanation](https://github.com/castorini/pyserini/blob/master/README.md#known-issues) for details):"
      ]
    },
    {
      "cell_type": "code",
      "execution_count": null,
      "metadata": {
        "id": "V-9Ij-VEmy0Z"
      },
      "outputs": [],
      "source": [
        "!mkdir -p /usr/lib/jvm/java-1.11.0-openjdk-amd64/jre/lib/amd64/server/\n",
        "!ln -s /usr/lib/jvm/java-1.11.0-openjdk-amd64/lib/server/libjvm.so /usr/lib/jvm/java-1.11.0-openjdk-amd64/jre/lib/amd64/server/libjvm.so"
      ]
    },
    {
      "cell_type": "markdown",
      "metadata": {
        "id": "clT0MAQ_HaU8"
      },
      "source": [
        "Let's point Pyserini to the Anserini jar that we built earlier:"
      ]
    },
    {
      "cell_type": "code",
      "execution_count": null,
      "metadata": {
        "id": "liucF_AqHda1"
      },
      "outputs": [],
      "source": [
        "os.environ['ANSERINI_CLASSPATH'] = 'anserini/target'"
      ]
    },
    {
      "cell_type": "code",
      "execution_count": null,
      "metadata": {
        "id": "JZz5f1CuHODJ"
      },
      "outputs": [],
      "source": [
        "from pyserini.index import pyutils\n",
        "\n",
        "index_utils = pyutils.IndexReaderUtils('indexes/lucene-index.msmarco-passage.pos+docvectors+rawdocs')"
      ]
    },
    {
      "cell_type": "markdown",
      "metadata": {
        "id": "2qDr_6ITIys1"
      },
      "source": [
        "Collection frequency corresponds to the total number of times a term appears in the index.\n",
        "Document frequency, as the name implies, refers to the number of documents that contains the term.\n",
        "\n",
        "For example, consider a toy index that looks like:\n",
        "\n",
        "```\n",
        "Document 1: \"here is some text here is some more text\"\n",
        "Document 2: \"more texts\"\n",
        "Document 3: \"here is a test\"\n",
        "```\n",
        "\n",
        "The collection frequency of the term `text` is 3 (2 times in Document 1 and once in Document 2).\n",
        "However, its document frequency is 2.\n",
        "Intuitively, document frequency is always equal to or less than collection frequency."
      ]
    },
    {
      "cell_type": "markdown",
      "metadata": {
        "id": "6skB5TMlHTgf"
      },
      "source": [
        "Let's choose a term, say, `played`.\n",
        "We can now compute the collection and document frequencies of the term:"
      ]
    },
    {
      "cell_type": "code",
      "execution_count": null,
      "metadata": {
        "id": "O5AmhPq0Hd07",
        "colab": {
          "base_uri": "https://localhost:8080/"
        },
        "outputId": "a1637c8b-0cc6-4ac4-8f44-2d938785d7a3"
      },
      "outputs": [
        {
          "output_type": "stream",
          "name": "stdout",
          "text": [
            "Stemmed form: ['plai']\n",
            "Collection frequency: 155044\n",
            "Document frequency: 200696\n"
          ]
        }
      ],
      "source": [
        "term = 'played'\n",
        "\n",
        "stemmed_form = index_utils.analyze(term)\n",
        "collection_freq, doc_freq = index_utils.get_term_counts(term)\n",
        "\n",
        "print('Stemmed form: {stemmed_form}\\nCollection frequency: {collection_freq}\\nDocument frequency: {doc_freq}'.format(stemmed_form=stemmed_form, collection_freq=collection_freq, doc_freq=doc_freq))"
      ]
    },
    {
      "cell_type": "markdown",
      "metadata": {
        "id": "QRqFcgDMnEnP"
      },
      "source": [
        "### Exercise #5\n",
        "Get the same statistics for the term `playing`.\n",
        "Compare the collection and document frequencies to that of the term `played`.\n",
        "Why are they different/the same?"
      ]
    },
    {
      "cell_type": "code",
      "execution_count": null,
      "metadata": {
        "id": "EFyle6m4nJun"
      },
      "outputs": [],
      "source": []
    },
    {
      "cell_type": "markdown",
      "metadata": {
        "id": "3-mb5NWoHgtn"
      },
      "source": [
        "In simple terms, we can think of the index as a dictionary of terms each of which is a postings list.\n",
        "A postings list includes a list of document IDs that contains a given term, and optionally the number of occurrences in that particular document.\n",
        "Because we also stored the positions while indexing the collection, we can also access the positions at which the term appears.\n",
        "\n",
        "Let's get the postings list for the term `rondebosch`:"
      ]
    },
    {
      "cell_type": "code",
      "execution_count": null,
      "metadata": {
        "id": "iaYSPtJfHm8l",
        "colab": {
          "base_uri": "https://localhost:8080/"
        },
        "outputId": "1dbf144b-ad34-4e68-bd23-b09cdca10d9c"
      },
      "outputs": [
        {
          "output_type": "stream",
          "name": "stdout",
          "text": [
            "Document ID: 497805 | Term frequency: 1 | Positions: 0\n",
            "Document ID: 5119860 | Term frequency: 1 | Positions: 19\n",
            "Document ID: 6219998 | Term frequency: 1 | Positions: 54\n",
            "Document ID: 7889572 | Term frequency: 2 | Positions: 21,37\n"
          ]
        }
      ],
      "source": [
        "postings_list = index_utils.get_postings_list('rondebosch')\n",
        "\n",
        "for posting in postings_list:\n",
        "  print('Document ID: {docid} | Term frequency: {term_freq} | Positions: {pos}'.format(docid=posting.docid, term_freq=posting.tf, pos=','.join([str(p) for p in posting.positions])))"
      ]
    },
    {
      "cell_type": "markdown",
      "metadata": {
        "id": "vWH51Cmfp4Ls"
      },
      "source": [
        "### Exercise #6\n",
        "Note that tokens are stemmed prior to indexing.\n",
        "For example, both `played` and `playing` would share the same postings list.\n",
        "Confirm this by building the postings list for `playing`."
      ]
    },
    {
      "cell_type": "code",
      "execution_count": null,
      "metadata": {
        "id": "MgEp3nBnc_i0"
      },
      "outputs": [],
      "source": []
    },
    {
      "cell_type": "markdown",
      "metadata": {
        "id": "m6q8zNrQH2Bb"
      },
      "source": [
        "Let's get its document vector of two documents:"
      ]
    },
    {
      "cell_type": "code",
      "execution_count": null,
      "metadata": {
        "id": "23T_OfPRHxGk",
        "colab": {
          "base_uri": "https://localhost:8080/"
        },
        "outputId": "0e6b3a73-a397-4d2d-b2ee-f5ba16d8325c"
      },
      "outputs": [
        {
          "output_type": "stream",
          "name": "stdout",
          "text": [
            "{'24': 1, 'japan': 1, 'south': 1, 'against': 1, 'point': 2, 'score': 3, 'total': 1, '1995': 1, 'world': 3, 'four': 1, 'record': 1, 'have': 1, 'zealand': 2, 'win': 2, 'all': 1, 'new': 2, 'africa': 1, 'went': 1, '17': 1, 'black': 1, 'match': 2, 'tri': 2, 'team': 2, 'most': 2, '1,023': 1, '145': 1, 'june': 1, '4': 1, '21': 1, 'cup': 3}\n",
            "{'africa': 1, 'multipl': 1, 'held': 1, 'japan': 1, 'nation': 1, 'south': 2, 'asia': 1, 'onli': 1, '2010': 1, 'tournament': 1, 'fifa': 1, 'korea': 1, 'world': 2, 'african': 1, '2002': 1, 'becam': 1, 'host': 3, 'first': 2, 'jointli': 1, 'cup': 2, 'on': 1}\n"
          ]
        }
      ],
      "source": [
        "doc_vector1 = index_utils.get_document_vector('2803')\n",
        "doc_vector2 = index_utils.get_document_vector('3983')\n",
        "\n",
        "print(doc_vector1)\n",
        "print(doc_vector2)"
      ]
    },
    {
      "cell_type": "markdown",
      "metadata": {
        "id": "XFtWIIQoqbs9"
      },
      "source": [
        "Let's view the original passages:"
      ]
    },
    {
      "cell_type": "code",
      "execution_count": null,
      "metadata": {
        "id": "E5O0urUqZzc2",
        "colab": {
          "base_uri": "https://localhost:8080/"
        },
        "outputId": "568551db-bbf9-4a11-9530-5e437dc32ee4"
      },
      "outputs": [
        {
          "output_type": "stream",
          "name": "stdout",
          "text": [
            "Most tries scored by a team in a World Cup match. New Zealand scored a record 21 tries in a win against Japan at South Africa on 4 June 1995. The All Blacks went to win 145-17. Most total team points in World Cups. New Zealand have scored 1,023 points in 24 matches in four World Cups.\n",
            "The 2002 FIFA World Cup, hosted jointly by South Korea and Japan, was the first one held in Asia, and the only tournament with multiple hosts. South Africa became the first African nation to host the World Cup in 2010.\n"
          ]
        }
      ],
      "source": [
        "raw_doc1 = index_utils.doc_raw('2803')\n",
        "raw_doc2 = index_utils.doc_raw('3983')\n",
        "\n",
        "print(raw_doc1)\n",
        "print(raw_doc2)"
      ]
    },
    {
      "cell_type": "markdown",
      "metadata": {
        "id": "FLwxKl9yOEJE"
      },
      "source": [
        "The document vector gives a succinct representation of the overall document.\n",
        "We can use the respective representations of two documents to judge their similarity."
      ]
    },
    {
      "cell_type": "code",
      "execution_count": null,
      "metadata": {
        "id": "7HWZtyiBOSHx",
        "colab": {
          "base_uri": "https://localhost:8080/"
        },
        "outputId": "abf59e3f-07be-40ae-e4d0-cef90c374ed8"
      },
      "outputs": [
        {
          "output_type": "execute_result",
          "data": {
            "text/plain": [
              "0.044186420844667146"
            ]
          },
          "metadata": {},
          "execution_count": 24
        }
      ],
      "source": [
        "import math\n",
        "\n",
        "def dot_prod(doc1, doc2):\n",
        "  tokens1 = set(doc1.keys())\n",
        "  tokens2 = set(doc2.keys())\n",
        "  all_tokens = list(tokens1 & tokens2)  # Get common tokens (otherwise different sized dicts)\n",
        "  return sum(doc1[t] * doc2[t] for t in all_tokens)\n",
        "\n",
        "def cosine_similarity(doc1, doc2):\n",
        "  return dot_prod(doc1, doc2) / (math.sqrt(dot_prod(doc1, doc1)) * dot_prod(doc2, doc2))\n",
        "\n",
        "cosine_similarity(doc_vector1, doc_vector2)"
      ]
    },
    {
      "cell_type": "markdown",
      "metadata": {
        "id": "0ws2OsICu5tM"
      },
      "source": [
        "### Exercise #7\n",
        "Pick different pairs of documents, and compute the cosine similarity between them."
      ]
    },
    {
      "cell_type": "code",
      "execution_count": null,
      "metadata": {
        "id": "HFKV7BdRdArr"
      },
      "outputs": [],
      "source": []
    }
  ],
  "metadata": {
    "colab": {
      "provenance": [],
      "include_colab_link": true
    },
    "kernelspec": {
      "display_name": "Python 3",
      "language": "python",
      "name": "python3"
    },
    "language_info": {
      "codemirror_mode": {
        "name": "ipython",
        "version": 3
      },
      "file_extension": ".py",
      "mimetype": "text/x-python",
      "name": "python",
      "nbconvert_exporter": "python",
      "pygments_lexer": "ipython3",
      "version": "3.7.2"
    }
  },
  "nbformat": 4,
  "nbformat_minor": 0
}