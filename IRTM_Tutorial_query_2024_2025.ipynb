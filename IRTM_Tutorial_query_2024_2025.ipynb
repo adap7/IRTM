{
  "cells": [
    {
      "cell_type": "markdown",
      "metadata": {
        "id": "view-in-github",
        "colab_type": "text"
      },
      "source": [
        "<a href=\"https://colab.research.google.com/github/adap7/IRTM/blob/main/IRTM_Tutorial_query_2024_2025.ipynb\" target=\"_parent\"><img src=\"https://colab.research.google.com/assets/colab-badge.svg\" alt=\"Open In Colab\"/></a>"
      ]
    },
    {
      "cell_type": "markdown",
      "metadata": {
        "id": "SupadwS7wtIm"
      },
      "source": [
        "Start by copying this into your Google Drive!!"
      ]
    },
    {
      "cell_type": "markdown",
      "metadata": {
        "id": "MY1A4vsbuqDq"
      },
      "source": [
        "# Information Retrieval & Text Mining\n",
        "![maastricht-university-logo.jpeg](data:image/jpeg;base64,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)\n",
        "## Notebook 3\n",
        "\n",
        "Version 2024-2025\n",
        "\n",
        "Adapted and updated from [here](https://github.com/castorini/anserini-notebooks-afirm2020)"
      ]
    },
    {
      "cell_type": "markdown",
      "metadata": {
        "id": "nQoMY5uxF2GU"
      },
      "source": [
        "# Indexing\n"
      ]
    },
    {
      "cell_type": "markdown",
      "metadata": {
        "id": "2wYOsdnhH_XM"
      },
      "source": [
        "We start by reindexing the dataset as we did in the previous notebook so we can query it:"
      ]
    },
    {
      "cell_type": "code",
      "execution_count": null,
      "metadata": {
        "id": "sjbq9md9GNN6",
        "colab": {
          "base_uri": "https://localhost:8080/"
        },
        "outputId": "b58476b8-6c54-4d93-e132-1e8a474ab144"
      },
      "outputs": [
        {
          "output_type": "stream",
          "name": "stdout",
          "text": [
            "Cloning into 'anserini'...\n",
            "remote: Enumerating objects: 48214, done.\u001b[K\n",
            "remote: Counting objects: 100% (1241/1241), done.\u001b[K\n",
            "remote: Compressing objects: 100% (393/393), done.\u001b[K\n",
            "remote: Total 48214 (delta 1104), reused 857 (delta 845), pack-reused 46973 (from 2)\u001b[K\n",
            "Receiving objects: 100% (48214/48214), 93.71 MiB | 13.40 MiB/s, done.\n",
            "Resolving deltas: 100% (36776/36776), done.\n",
            "Note: switching to 'ad5ba1c76196436f8a0e28efdb69960d4873efe3'.\n",
            "\n",
            "You are in 'detached HEAD' state. You can look around, make experimental\n",
            "changes and commit them, and you can discard any commits you make in this\n",
            "state without impacting any branches by switching back to a branch.\n",
            "\n",
            "If you want to create a new branch to retain commits you create, you may\n",
            "do so (now or later) by using -c with the switch command. Example:\n",
            "\n",
            "  git switch -c <new-branch-name>\n",
            "\n",
            "Or undo this operation with:\n",
            "\n",
            "  git switch -\n",
            "\n",
            "Turn off this advice by setting config variable advice.detachedHead to false\n",
            "\n",
            "HEAD is now at ad5ba1c7 Release notes for v0.9.2 (#1197)\n"
          ]
        }
      ],
      "source": [
        "!git clone https://github.com/castorini/anserini.git\n",
        "!cd anserini && git checkout ad5ba1c76196436f8a0e28efdb69960d4873efe3"
      ]
    },
    {
      "cell_type": "code",
      "source": [
        "!apt-get install -y openjdk-11-jdk-headless\n",
        "%env JAVA_HOME=/usr/lib/jvm/java-11-openjdk-amd64"
      ],
      "metadata": {
        "id": "hKSW9sx0fEMe",
        "colab": {
          "base_uri": "https://localhost:8080/"
        },
        "outputId": "54b22fb0-7ffc-45f5-eb1a-eac537775900"
      },
      "execution_count": null,
      "outputs": [
        {
          "output_type": "stream",
          "name": "stdout",
          "text": [
            "Reading package lists... Done\n",
            "Building dependency tree... Done\n",
            "Reading state information... Done\n",
            "openjdk-11-jdk-headless is already the newest version (11.0.26+4-1ubuntu1~22.04).\n",
            "0 upgraded, 0 newly installed, 0 to remove and 29 not upgraded.\n",
            "env: JAVA_HOME=/usr/lib/jvm/java-11-openjdk-amd64\n"
          ]
        }
      ]
    },
    {
      "cell_type": "code",
      "execution_count": null,
      "metadata": {
        "id": "sFmENb2zGLVr",
        "colab": {
          "base_uri": "https://localhost:8080/"
        },
        "outputId": "a3d30fa2-3d7e-447f-fa7d-057f4c08a0a3"
      },
      "outputs": [
        {
          "output_type": "stream",
          "name": "stdout",
          "text": [
            "Reading package lists...\n",
            "Building dependency tree...\n",
            "Reading state information...\n",
            "The following additional packages will be installed:\n",
            "  libaopalliance-java libapache-pom-java libatinject-jsr330-api-java libcdi-api-java\n",
            "  libcommons-cli-java libcommons-io-java libcommons-lang3-java libcommons-parent-java\n",
            "  libgeronimo-annotation-1.3-spec-java libgeronimo-interceptor-3.0-spec-java libguava-java\n",
            "  libguice-java libhawtjni-runtime-java libjansi-java libjansi-native-java libjsr305-java\n",
            "  libmaven-parent-java libmaven-resolver-java libmaven-shared-utils-java libmaven3-core-java\n",
            "  libplexus-cipher-java libplexus-classworlds-java libplexus-component-annotations-java\n",
            "  libplexus-interpolation-java libplexus-sec-dispatcher-java libplexus-utils2-java\n",
            "  libsisu-inject-java libsisu-plexus-java libslf4j-java libwagon-file-java\n",
            "  libwagon-http-shaded-java libwagon-provider-api-java\n",
            "Suggested packages:\n",
            "  libaopalliance-java-doc libatinject-jsr330-api-java-doc libel-api-java libcommons-io-java-doc\n",
            "  libcommons-lang3-java-doc libasm-java libcglib-java libjsr305-java-doc\n",
            "  libmaven-shared-utils-java-doc liblogback-java libplexus-classworlds-java-doc\n",
            "  libplexus-sec-dispatcher-java-doc libplexus-utils2-java-doc junit4 testng libcommons-logging-java\n",
            "  liblog4j1.2-java\n",
            "The following NEW packages will be installed:\n",
            "  libaopalliance-java libapache-pom-java libatinject-jsr330-api-java libcdi-api-java\n",
            "  libcommons-cli-java libcommons-io-java libcommons-lang3-java libcommons-parent-java\n",
            "  libgeronimo-annotation-1.3-spec-java libgeronimo-interceptor-3.0-spec-java libguava-java\n",
            "  libguice-java libhawtjni-runtime-java libjansi-java libjansi-native-java libjsr305-java\n",
            "  libmaven-parent-java libmaven-resolver-java libmaven-shared-utils-java libmaven3-core-java\n",
            "  libplexus-cipher-java libplexus-classworlds-java libplexus-component-annotations-java\n",
            "  libplexus-interpolation-java libplexus-sec-dispatcher-java libplexus-utils2-java\n",
            "  libsisu-inject-java libsisu-plexus-java libslf4j-java libwagon-file-java\n",
            "  libwagon-http-shaded-java libwagon-provider-api-java maven\n",
            "0 upgraded, 33 newly installed, 0 to remove and 29 not upgraded.\n",
            "Need to get 10.2 MB of archives.\n",
            "After this operation, 13.3 MB of additional disk space will be used.\n",
            "Get:1 http://archive.ubuntu.com/ubuntu jammy/universe amd64 libapache-pom-java all 18-1 [4,720 B]\n",
            "Get:2 http://archive.ubuntu.com/ubuntu jammy/universe amd64 libatinject-jsr330-api-java all 1.0+ds1-5 [5,348 B]\n",
            "Get:3 http://archive.ubuntu.com/ubuntu jammy/universe amd64 libgeronimo-interceptor-3.0-spec-java all 1.0.1-4fakesync [8,616 B]\n",
            "Get:4 http://archive.ubuntu.com/ubuntu jammy/universe amd64 libcdi-api-java all 1.2-3 [54.3 kB]\n",
            "Get:5 http://archive.ubuntu.com/ubuntu jammy/universe amd64 libcommons-cli-java all 1.4-2 [55.8 kB]\n",
            "Get:6 http://archive.ubuntu.com/ubuntu jammy/universe amd64 libcommons-parent-java all 43-1 [10.8 kB]\n",
            "Get:7 http://archive.ubuntu.com/ubuntu jammy/universe amd64 libcommons-io-java all 2.11.0-2 [297 kB]\n",
            "Get:8 http://archive.ubuntu.com/ubuntu jammy/universe amd64 libcommons-lang3-java all 3.11-1 [526 kB]\n",
            "Get:9 http://archive.ubuntu.com/ubuntu jammy/universe amd64 libgeronimo-annotation-1.3-spec-java all 1.3-1 [11.2 kB]\n",
            "Get:10 http://archive.ubuntu.com/ubuntu jammy/universe amd64 libjsr305-java all 0.1~+svn49-11 [27.0 kB]\n",
            "Get:11 http://archive.ubuntu.com/ubuntu jammy/universe amd64 libguava-java all 29.0-6 [2,418 kB]\n",
            "Get:12 http://archive.ubuntu.com/ubuntu jammy/universe amd64 libaopalliance-java all 20070526-6 [9,084 B]\n",
            "Get:13 http://archive.ubuntu.com/ubuntu jammy/universe amd64 libguice-java all 4.2.3-2 [1,434 kB]\n",
            "Get:14 http://archive.ubuntu.com/ubuntu jammy/universe amd64 libhawtjni-runtime-java all 1.17-1 [28.8 kB]\n",
            "Get:15 http://archive.ubuntu.com/ubuntu jammy/universe amd64 libjansi-native-java all 1.8-1 [23.8 kB]\n",
            "Get:16 http://archive.ubuntu.com/ubuntu jammy/universe amd64 libjansi-java all 1.18-1 [56.8 kB]\n",
            "Get:17 http://archive.ubuntu.com/ubuntu jammy/universe amd64 libmaven-parent-java all 31-2 [5,140 B]\n",
            "Get:18 http://archive.ubuntu.com/ubuntu jammy/universe amd64 libplexus-utils2-java all 3.3.0-1 [250 kB]\n",
            "Get:19 http://archive.ubuntu.com/ubuntu jammy/universe amd64 libwagon-provider-api-java all 3.3.4-1 [48.5 kB]\n",
            "Get:20 http://archive.ubuntu.com/ubuntu jammy/universe amd64 libmaven-resolver-java all 1.4.2-3build1 [555 kB]\n",
            "Get:21 http://archive.ubuntu.com/ubuntu jammy-updates/universe amd64 libmaven-shared-utils-java all 3.3.0-1ubuntu0.22.04.1 [148 kB]\n",
            "Get:22 http://archive.ubuntu.com/ubuntu jammy/universe amd64 libplexus-cipher-java all 1.8-2 [15.1 kB]\n",
            "Get:23 http://archive.ubuntu.com/ubuntu jammy/universe amd64 libplexus-classworlds-java all 2.6.0-1 [49.4 kB]\n",
            "Get:24 http://archive.ubuntu.com/ubuntu jammy/universe amd64 libplexus-component-annotations-java all 2.1.0-1 [6,564 B]\n",
            "Get:25 http://archive.ubuntu.com/ubuntu jammy/universe amd64 libplexus-interpolation-java all 1.26-1 [76.8 kB]\n",
            "Get:26 http://archive.ubuntu.com/ubuntu jammy/universe amd64 libplexus-sec-dispatcher-java all 1.4-4 [28.1 kB]\n",
            "Get:27 http://archive.ubuntu.com/ubuntu jammy/universe amd64 libslf4j-java all 1.7.32-1 [141 kB]\n",
            "Get:28 http://archive.ubuntu.com/ubuntu jammy/universe amd64 libsisu-inject-java all 0.3.4-2 [347 kB]\n",
            "Get:29 http://archive.ubuntu.com/ubuntu jammy/universe amd64 libsisu-plexus-java all 0.3.4-3 [181 kB]\n",
            "Get:30 http://archive.ubuntu.com/ubuntu jammy/universe amd64 libmaven3-core-java all 3.6.3-5 [1,535 kB]\n",
            "Get:31 http://archive.ubuntu.com/ubuntu jammy/universe amd64 libwagon-file-java all 3.3.4-1 [7,928 B]\n",
            "Get:32 http://archive.ubuntu.com/ubuntu jammy/universe amd64 libwagon-http-shaded-java all 3.3.4-1 [1,855 kB]\n",
            "Get:33 http://archive.ubuntu.com/ubuntu jammy/universe amd64 maven all 3.6.3-5 [17.8 kB]\n",
            "Fetched 10.2 MB in 2s (4,530 kB/s)\n",
            "Extracting templates from packages: 100%\n",
            "Selecting previously unselected package libapache-pom-java.\n",
            "(Reading database ... 126210 files and directories currently installed.)\n",
            "Preparing to unpack .../00-libapache-pom-java_18-1_all.deb ...\n",
            "Unpacking libapache-pom-java (18-1) ...\n",
            "Selecting previously unselected package libatinject-jsr330-api-java.\n",
            "Preparing to unpack .../01-libatinject-jsr330-api-java_1.0+ds1-5_all.deb ...\n",
            "Unpacking libatinject-jsr330-api-java (1.0+ds1-5) ...\n",
            "Selecting previously unselected package libgeronimo-interceptor-3.0-spec-java.\n",
            "Preparing to unpack .../02-libgeronimo-interceptor-3.0-spec-java_1.0.1-4fakesync_all.deb ...\n",
            "Unpacking libgeronimo-interceptor-3.0-spec-java (1.0.1-4fakesync) ...\n",
            "Selecting previously unselected package libcdi-api-java.\n",
            "Preparing to unpack .../03-libcdi-api-java_1.2-3_all.deb ...\n",
            "Unpacking libcdi-api-java (1.2-3) ...\n",
            "Selecting previously unselected package libcommons-cli-java.\n",
            "Preparing to unpack .../04-libcommons-cli-java_1.4-2_all.deb ...\n",
            "Unpacking libcommons-cli-java (1.4-2) ...\n",
            "Selecting previously unselected package libcommons-parent-java.\n",
            "Preparing to unpack .../05-libcommons-parent-java_43-1_all.deb ...\n",
            "Unpacking libcommons-parent-java (43-1) ...\n",
            "Selecting previously unselected package libcommons-io-java.\n",
            "Preparing to unpack .../06-libcommons-io-java_2.11.0-2_all.deb ...\n",
            "Unpacking libcommons-io-java (2.11.0-2) ...\n",
            "Selecting previously unselected package libcommons-lang3-java.\n",
            "Preparing to unpack .../07-libcommons-lang3-java_3.11-1_all.deb ...\n",
            "Unpacking libcommons-lang3-java (3.11-1) ...\n",
            "Selecting previously unselected package libgeronimo-annotation-1.3-spec-java.\n",
            "Preparing to unpack .../08-libgeronimo-annotation-1.3-spec-java_1.3-1_all.deb ...\n",
            "Unpacking libgeronimo-annotation-1.3-spec-java (1.3-1) ...\n",
            "Selecting previously unselected package libjsr305-java.\n",
            "Preparing to unpack .../09-libjsr305-java_0.1~+svn49-11_all.deb ...\n",
            "Unpacking libjsr305-java (0.1~+svn49-11) ...\n",
            "Selecting previously unselected package libguava-java.\n",
            "Preparing to unpack .../10-libguava-java_29.0-6_all.deb ...\n",
            "Unpacking libguava-java (29.0-6) ...\n",
            "Selecting previously unselected package libaopalliance-java.\n",
            "Preparing to unpack .../11-libaopalliance-java_20070526-6_all.deb ...\n",
            "Unpacking libaopalliance-java (20070526-6) ...\n",
            "Selecting previously unselected package libguice-java.\n",
            "Preparing to unpack .../12-libguice-java_4.2.3-2_all.deb ...\n",
            "Unpacking libguice-java (4.2.3-2) ...\n",
            "Selecting previously unselected package libhawtjni-runtime-java.\n",
            "Preparing to unpack .../13-libhawtjni-runtime-java_1.17-1_all.deb ...\n",
            "Unpacking libhawtjni-runtime-java (1.17-1) ...\n",
            "Selecting previously unselected package libjansi-native-java.\n",
            "Preparing to unpack .../14-libjansi-native-java_1.8-1_all.deb ...\n",
            "Unpacking libjansi-native-java (1.8-1) ...\n",
            "Selecting previously unselected package libjansi-java.\n",
            "Preparing to unpack .../15-libjansi-java_1.18-1_all.deb ...\n",
            "Unpacking libjansi-java (1.18-1) ...\n",
            "Selecting previously unselected package libmaven-parent-java.\n",
            "Preparing to unpack .../16-libmaven-parent-java_31-2_all.deb ...\n",
            "Unpacking libmaven-parent-java (31-2) ...\n",
            "Selecting previously unselected package libplexus-utils2-java.\n",
            "Preparing to unpack .../17-libplexus-utils2-java_3.3.0-1_all.deb ...\n",
            "Unpacking libplexus-utils2-java (3.3.0-1) ...\n",
            "Selecting previously unselected package libwagon-provider-api-java.\n",
            "Preparing to unpack .../18-libwagon-provider-api-java_3.3.4-1_all.deb ...\n",
            "Unpacking libwagon-provider-api-java (3.3.4-1) ...\n",
            "Selecting previously unselected package libmaven-resolver-java.\n",
            "Preparing to unpack .../19-libmaven-resolver-java_1.4.2-3build1_all.deb ...\n",
            "Unpacking libmaven-resolver-java (1.4.2-3build1) ...\n",
            "Selecting previously unselected package libmaven-shared-utils-java.\n",
            "Preparing to unpack .../20-libmaven-shared-utils-java_3.3.0-1ubuntu0.22.04.1_all.deb ...\n",
            "Unpacking libmaven-shared-utils-java (3.3.0-1ubuntu0.22.04.1) ...\n",
            "Selecting previously unselected package libplexus-cipher-java.\n",
            "Preparing to unpack .../21-libplexus-cipher-java_1.8-2_all.deb ...\n",
            "Unpacking libplexus-cipher-java (1.8-2) ...\n",
            "Selecting previously unselected package libplexus-classworlds-java.\n",
            "Preparing to unpack .../22-libplexus-classworlds-java_2.6.0-1_all.deb ...\n",
            "Unpacking libplexus-classworlds-java (2.6.0-1) ...\n",
            "Selecting previously unselected package libplexus-component-annotations-java.\n",
            "Preparing to unpack .../23-libplexus-component-annotations-java_2.1.0-1_all.deb ...\n",
            "Unpacking libplexus-component-annotations-java (2.1.0-1) ...\n",
            "Selecting previously unselected package libplexus-interpolation-java.\n",
            "Preparing to unpack .../24-libplexus-interpolation-java_1.26-1_all.deb ...\n",
            "Unpacking libplexus-interpolation-java (1.26-1) ...\n",
            "Selecting previously unselected package libplexus-sec-dispatcher-java.\n",
            "Preparing to unpack .../25-libplexus-sec-dispatcher-java_1.4-4_all.deb ...\n",
            "Unpacking libplexus-sec-dispatcher-java (1.4-4) ...\n",
            "Selecting previously unselected package libslf4j-java.\n",
            "Preparing to unpack .../26-libslf4j-java_1.7.32-1_all.deb ...\n",
            "Unpacking libslf4j-java (1.7.32-1) ...\n",
            "Selecting previously unselected package libsisu-inject-java.\n",
            "Preparing to unpack .../27-libsisu-inject-java_0.3.4-2_all.deb ...\n",
            "Unpacking libsisu-inject-java (0.3.4-2) ...\n",
            "Selecting previously unselected package libsisu-plexus-java.\n",
            "Preparing to unpack .../28-libsisu-plexus-java_0.3.4-3_all.deb ...\n",
            "Unpacking libsisu-plexus-java (0.3.4-3) ...\n",
            "Selecting previously unselected package libmaven3-core-java.\n",
            "Preparing to unpack .../29-libmaven3-core-java_3.6.3-5_all.deb ...\n",
            "Unpacking libmaven3-core-java (3.6.3-5) ...\n",
            "Selecting previously unselected package libwagon-file-java.\n",
            "Preparing to unpack .../30-libwagon-file-java_3.3.4-1_all.deb ...\n",
            "Unpacking libwagon-file-java (3.3.4-1) ...\n",
            "Selecting previously unselected package libwagon-http-shaded-java.\n",
            "Preparing to unpack .../31-libwagon-http-shaded-java_3.3.4-1_all.deb ...\n",
            "Unpacking libwagon-http-shaded-java (3.3.4-1) ...\n",
            "Selecting previously unselected package maven.\n",
            "Preparing to unpack .../32-maven_3.6.3-5_all.deb ...\n",
            "Unpacking maven (3.6.3-5) ...\n",
            "Setting up libslf4j-java (1.7.32-1) ...\n",
            "Setting up libplexus-utils2-java (3.3.0-1) ...\n",
            "Setting up libplexus-classworlds-java (2.6.0-1) ...\n",
            "Setting up libjsr305-java (0.1~+svn49-11) ...\n",
            "Setting up libaopalliance-java (20070526-6) ...\n",
            "Setting up libcommons-cli-java (1.4-2) ...\n",
            "Setting up libplexus-component-annotations-java (2.1.0-1) ...\n",
            "Setting up libplexus-cipher-java (1.8-2) ...\n",
            "Setting up libgeronimo-annotation-1.3-spec-java (1.3-1) ...\n",
            "Setting up libgeronimo-interceptor-3.0-spec-java (1.0.1-4fakesync) ...\n",
            "Setting up libapache-pom-java (18-1) ...\n",
            "Setting up libatinject-jsr330-api-java (1.0+ds1-5) ...\n",
            "Setting up libplexus-interpolation-java (1.26-1) ...\n",
            "Setting up libplexus-sec-dispatcher-java (1.4-4) ...\n",
            "Setting up libwagon-http-shaded-java (3.3.4-1) ...\n",
            "Setting up libcdi-api-java (1.2-3) ...\n",
            "Setting up libhawtjni-runtime-java (1.17-1) ...\n",
            "Setting up libwagon-provider-api-java (3.3.4-1) ...\n",
            "Setting up libmaven-parent-java (31-2) ...\n",
            "Setting up libcommons-parent-java (43-1) ...\n",
            "Setting up libsisu-inject-java (0.3.4-2) ...\n",
            "Setting up libsisu-plexus-java (0.3.4-3) ...\n",
            "Setting up libmaven-resolver-java (1.4.2-3build1) ...\n",
            "Setting up libguava-java (29.0-6) ...\n",
            "Setting up libcommons-lang3-java (3.11-1) ...\n",
            "Setting up libjansi-native-java (1.8-1) ...\n",
            "Setting up libwagon-file-java (3.3.4-1) ...\n",
            "Setting up libcommons-io-java (2.11.0-2) ...\n",
            "Setting up libguice-java (4.2.3-2) ...\n",
            "Setting up libjansi-java (1.18-1) ...\n",
            "Setting up libmaven-shared-utils-java (3.3.0-1ubuntu0.22.04.1) ...\n",
            "Setting up libmaven3-core-java (3.6.3-5) ...\n",
            "Setting up maven (3.6.3-5) ...\n",
            "update-alternatives: using /usr/share/maven/bin/mvn to provide /usr/bin/mvn (mvn) in auto mode\n"
          ]
        }
      ],
      "source": [
        "!apt-get install -q maven"
      ]
    },
    {
      "cell_type": "code",
      "execution_count": null,
      "metadata": {
        "id": "CZWf6geaGGZ7",
        "colab": {
          "base_uri": "https://localhost:8080/"
        },
        "outputId": "85a6cd59-53bd-4207-8753-00d5c551b743"
      },
      "outputs": [
        {
          "output_type": "stream",
          "name": "stdout",
          "text": [
            "[\u001b[1;34mINFO\u001b[m] \u001b[1;32mBUILD SUCCESS\u001b[m\n"
          ]
        }
      ],
      "source": [
        "!cd anserini && mvn clean package appassembler:assemble | grep \"BUILD\""
      ]
    },
    {
      "cell_type": "code",
      "execution_count": null,
      "metadata": {
        "id": "LWxu2O4SGFXZ",
        "colab": {
          "base_uri": "https://localhost:8080/"
        },
        "outputId": "aca611af-cf26-48f4-fd5f-d3bab1d90387"
      },
      "outputs": [
        {
          "output_type": "stream",
          "name": "stdout",
          "text": [
            "--2025-04-01 16:45:24--  https://msmarco.z22.web.core.windows.net/msmarcoranking/collectionandqueries.tar.gz\n",
            "Resolving msmarco.z22.web.core.windows.net (msmarco.z22.web.core.windows.net)... 20.150.34.1\n",
            "Connecting to msmarco.z22.web.core.windows.net (msmarco.z22.web.core.windows.net)|20.150.34.1|:443... connected.\n",
            "HTTP request sent, awaiting response... 200 OK\n",
            "Length: 1057717952 (1009M) [application/gzip]\n",
            "Saving to: ‘collectionandqueries.tar.gz’\n",
            "\n",
            "collectionandquerie 100%[===================>]   1009M  63.7MB/s    in 20s     \n",
            "\n",
            "2025-04-01 16:45:44 (50.6 MB/s) - ‘collectionandqueries.tar.gz’ saved [1057717952/1057717952]\n",
            "\n",
            "collection.tsv\n",
            "qrels.dev.small.tsv\n",
            "qrels.train.tsv\n",
            "queries.dev.small.tsv\n",
            "queries.dev.tsv\n",
            "queries.eval.small.tsv\n",
            "queries.eval.tsv\n",
            "queries.train.tsv\n"
          ]
        }
      ],
      "source": [
        "!mkdir -p data\n",
        "!wget https://msmarco.z22.web.core.windows.net/msmarcoranking/collectionandqueries.tar.gz\n",
        "!tar -xvf collectionandqueries.tar.gz -C data"
      ]
    },
    {
      "cell_type": "code",
      "execution_count": null,
      "metadata": {
        "id": "97opIbyvF-Wm",
        "colab": {
          "base_uri": "https://localhost:8080/"
        },
        "outputId": "d6ad1d4c-3627-420d-8031-7d7a22fc65d9"
      },
      "outputs": [
        {
          "output_type": "stream",
          "name": "stdout",
          "text": [
            "Converting collection...\n",
            "Converted 0 docs in 1 files\n",
            "Converted 100000 docs in 1 files\n",
            "Converted 200000 docs in 1 files\n",
            "Converted 300000 docs in 1 files\n",
            "Converted 400000 docs in 1 files\n",
            "Converted 500000 docs in 1 files\n",
            "Converted 600000 docs in 1 files\n",
            "Converted 700000 docs in 1 files\n",
            "Converted 800000 docs in 1 files\n",
            "Converted 900000 docs in 1 files\n",
            "Converted 1000000 docs in 2 files\n",
            "Converted 1100000 docs in 2 files\n",
            "Converted 1200000 docs in 2 files\n",
            "Converted 1300000 docs in 2 files\n",
            "Converted 1400000 docs in 2 files\n",
            "Converted 1500000 docs in 2 files\n",
            "Converted 1600000 docs in 2 files\n",
            "Converted 1700000 docs in 2 files\n",
            "Converted 1800000 docs in 2 files\n",
            "Converted 1900000 docs in 2 files\n",
            "Converted 2000000 docs in 3 files\n",
            "Converted 2100000 docs in 3 files\n",
            "Converted 2200000 docs in 3 files\n",
            "Converted 2300000 docs in 3 files\n",
            "Converted 2400000 docs in 3 files\n",
            "Converted 2500000 docs in 3 files\n",
            "Converted 2600000 docs in 3 files\n",
            "Converted 2700000 docs in 3 files\n",
            "Converted 2800000 docs in 3 files\n",
            "Converted 2900000 docs in 3 files\n",
            "Converted 3000000 docs in 4 files\n",
            "Converted 3100000 docs in 4 files\n",
            "Converted 3200000 docs in 4 files\n",
            "Converted 3300000 docs in 4 files\n",
            "Converted 3400000 docs in 4 files\n",
            "Converted 3500000 docs in 4 files\n",
            "Converted 3600000 docs in 4 files\n",
            "Converted 3700000 docs in 4 files\n",
            "Converted 3800000 docs in 4 files\n",
            "Converted 3900000 docs in 4 files\n",
            "Converted 4000000 docs in 5 files\n",
            "Converted 4100000 docs in 5 files\n",
            "Converted 4200000 docs in 5 files\n",
            "Converted 4300000 docs in 5 files\n",
            "Converted 4400000 docs in 5 files\n",
            "Converted 4500000 docs in 5 files\n",
            "Converted 4600000 docs in 5 files\n",
            "Converted 4700000 docs in 5 files\n",
            "Converted 4800000 docs in 5 files\n",
            "Converted 4900000 docs in 5 files\n",
            "Converted 5000000 docs in 6 files\n",
            "Converted 5100000 docs in 6 files\n",
            "Converted 5200000 docs in 6 files\n",
            "Converted 5300000 docs in 6 files\n",
            "Converted 5400000 docs in 6 files\n",
            "Converted 5500000 docs in 6 files\n",
            "Converted 5600000 docs in 6 files\n",
            "Converted 5700000 docs in 6 files\n",
            "Converted 5800000 docs in 6 files\n",
            "Converted 5900000 docs in 6 files\n",
            "Converted 6000000 docs in 7 files\n",
            "Converted 6100000 docs in 7 files\n",
            "Converted 6200000 docs in 7 files\n",
            "Converted 6300000 docs in 7 files\n",
            "Converted 6400000 docs in 7 files\n",
            "Converted 6500000 docs in 7 files\n",
            "Converted 6600000 docs in 7 files\n",
            "Converted 6700000 docs in 7 files\n",
            "Converted 6800000 docs in 7 files\n",
            "Converted 6900000 docs in 7 files\n",
            "Converted 7000000 docs in 8 files\n",
            "Converted 7100000 docs in 8 files\n",
            "Converted 7200000 docs in 8 files\n",
            "Converted 7300000 docs in 8 files\n",
            "Converted 7400000 docs in 8 files\n",
            "Converted 7500000 docs in 8 files\n",
            "Converted 7600000 docs in 8 files\n",
            "Converted 7700000 docs in 8 files\n",
            "Converted 7800000 docs in 8 files\n",
            "Converted 7900000 docs in 8 files\n",
            "Converted 8000000 docs in 9 files\n",
            "Converted 8100000 docs in 9 files\n",
            "Converted 8200000 docs in 9 files\n",
            "Converted 8300000 docs in 9 files\n",
            "Converted 8400000 docs in 9 files\n",
            "Converted 8500000 docs in 9 files\n",
            "Converted 8600000 docs in 9 files\n",
            "Converted 8700000 docs in 9 files\n",
            "Converted 8800000 docs in 9 files\n",
            "Done!\n"
          ]
        }
      ],
      "source": [
        "!cd anserini && python ./src/main/python/msmarco/convert_collection_to_jsonl.py \\\n",
        " --collection_path ../data/collection.tsv --output_folder ../data/collection_jsonl"
      ]
    },
    {
      "cell_type": "code",
      "execution_count": null,
      "metadata": {
        "id": "AFQqCRtGGvgl",
        "colab": {
          "base_uri": "https://localhost:8080/"
        },
        "outputId": "2a67dc18-c132-4a34-d608-957a9eb6d5ba"
      },
      "outputs": [
        {
          "output_type": "stream",
          "name": "stdout",
          "text": [
            "2025-04-01 16:47:33,327 INFO  [main] index.IndexCollection (IndexCollection.java:636) - Setting log level to INFO\n",
            "2025-04-01 16:47:33,331 INFO  [main] index.IndexCollection (IndexCollection.java:639) - Starting indexer...\n",
            "2025-04-01 16:47:33,332 INFO  [main] index.IndexCollection (IndexCollection.java:640) - ============ Loading Parameters ============\n",
            "2025-04-01 16:47:33,332 INFO  [main] index.IndexCollection (IndexCollection.java:641) - DocumentCollection path: ../data/collection_jsonl\n",
            "2025-04-01 16:47:33,333 INFO  [main] index.IndexCollection (IndexCollection.java:642) - CollectionClass: JsonCollection\n",
            "2025-04-01 16:47:33,334 INFO  [main] index.IndexCollection (IndexCollection.java:643) - Generator: DefaultLuceneDocumentGenerator\n",
            "2025-04-01 16:47:33,334 INFO  [main] index.IndexCollection (IndexCollection.java:644) - Threads: 9\n",
            "2025-04-01 16:47:33,335 INFO  [main] index.IndexCollection (IndexCollection.java:645) - Stemmer: porter\n",
            "2025-04-01 16:47:33,335 INFO  [main] index.IndexCollection (IndexCollection.java:646) - Keep stopwords? false\n",
            "2025-04-01 16:47:33,336 INFO  [main] index.IndexCollection (IndexCollection.java:647) - Stopwords:  null\n",
            "2025-04-01 16:47:33,337 INFO  [main] index.IndexCollection (IndexCollection.java:648) - Store positions? true\n",
            "2025-04-01 16:47:33,337 INFO  [main] index.IndexCollection (IndexCollection.java:649) - Store docvectors? true\n",
            "2025-04-01 16:47:33,338 INFO  [main] index.IndexCollection (IndexCollection.java:650) - Store document \"contents\" field? false\n",
            "2025-04-01 16:47:33,338 INFO  [main] index.IndexCollection (IndexCollection.java:651) - Store document \"raw\" field? true\n",
            "2025-04-01 16:47:33,339 INFO  [main] index.IndexCollection (IndexCollection.java:652) - Optimize (merge segments)? false\n",
            "2025-04-01 16:47:33,339 INFO  [main] index.IndexCollection (IndexCollection.java:653) - Whitelist: null\n",
            "2025-04-01 16:47:33,339 INFO  [main] index.IndexCollection (IndexCollection.java:673) - Directly building Lucene indexes...\n",
            "2025-04-01 16:47:33,340 INFO  [main] index.IndexCollection (IndexCollection.java:674) - Index path: ../indexes/lucene-index.msmarco-passage.pos+docvectors+rawdocs\n",
            "2025-04-01 16:47:33,354 INFO  [main] index.IndexCollection (IndexCollection.java:723) - ============ Indexing Collection ============\n",
            "2025-04-01 16:47:33,581 INFO  [main] index.IndexCollection (IndexCollection.java:784) - Thread pool with 9 threads initialized.\n",
            "2025-04-01 16:47:33,582 INFO  [main] index.IndexCollection (IndexCollection.java:786) - Initializing collection in ../data/collection_jsonl\n",
            "2025-04-01 16:47:33,588 INFO  [main] index.IndexCollection (IndexCollection.java:789) - 9 files found\n",
            "2025-04-01 16:47:33,589 INFO  [main] index.IndexCollection (IndexCollection.java:790) - Starting to index...\n"
          ]
        }
      ],
      "source": [
        "!cd anserini && sh target/appassembler/bin/IndexCollection -collection JsonCollection -input ../data/collection_jsonl \\\n",
        " -index ../indexes/lucene-index.msmarco-passage.pos+docvectors+rawdocs -generator DefaultLuceneDocumentGenerator -threads 9 \\\n",
        " -storePositions -storeDocvectors -storeRaw"
      ]
    },
    {
      "cell_type": "markdown",
      "metadata": {
        "id": "URfNSXe6L8sH"
      },
      "source": [
        "# Querying\n",
        "\n",
        "In this exercise, we are going to first interactively query the index and then produce a TREC run with [Pyserini](https://github.com/castorini/pyserini), the Python interface to Anserini."
      ]
    },
    {
      "cell_type": "markdown",
      "metadata": {
        "id": "m1y2srQHdOA3"
      },
      "source": [
        "## Setup"
      ]
    },
    {
      "cell_type": "markdown",
      "metadata": {
        "id": "hoP7jph2d78z"
      },
      "source": [
        "Install Python dependencies (again - remember that each notebook instantiates a virtual machine of its own):"
      ]
    },
    {
      "cell_type": "code",
      "execution_count": null,
      "metadata": {
        "id": "IFGfQRYFMO2A"
      },
      "outputs": [],
      "source": [
        "!pip install pyjnius==1.2.1\n",
        "!pip install pyserini==0.9.2"
      ]
    },
    {
      "cell_type": "markdown",
      "metadata": {
        "id": "N9fakgDhPdI5"
      },
      "source": [
        "Instead of building anserini from scratch, we download the fatjar from the maven repository and store it locally:"
      ]
    },
    {
      "cell_type": "code",
      "execution_count": null,
      "metadata": {
        "id": "o1pGCkkiMVGG"
      },
      "outputs": [],
      "source": [
        "!wget -O anserini-0.9.2-fatjar.jar https://search.maven.org/remotecontent?filepath=io/anserini/anserini/0.9.2/anserini-0.9.2-fatjar.jar"
      ]
    },
    {
      "cell_type": "markdown",
      "metadata": {
        "id": "1Wcr7BpfVgSg"
      },
      "source": [
        "Let's point Pyserini to the Anserini jar that we have just installed:"
      ]
    },
    {
      "cell_type": "code",
      "execution_count": null,
      "metadata": {
        "id": "VuAwdnkpViBH"
      },
      "outputs": [],
      "source": [
        "import os\n",
        "os.environ['ANSERINI_CLASSPATH'] = '.'"
      ]
    },
    {
      "cell_type": "markdown",
      "metadata": {
        "id": "rsEU-U3ketRL"
      },
      "source": [
        "## Interactive Querying"
      ]
    },
    {
      "cell_type": "code",
      "execution_count": null,
      "metadata": {
        "id": "wokA-RljLy0V"
      },
      "outputs": [],
      "source": [
        "from pyserini.search import pysearch\n",
        "import itertools"
      ]
    },
    {
      "cell_type": "markdown",
      "metadata": {
        "id": "4xMlOOqhe5xp"
      },
      "source": [
        "The hits data structure holds the docid, the retrieval score, as well as the document content.\n",
        "Let's look at the top 10 passages for the query `south african football teams`:"
      ]
    },
    {
      "cell_type": "code",
      "execution_count": null,
      "metadata": {
        "id": "IpsnrIaoMYg_"
      },
      "outputs": [],
      "source": [
        "from IPython.core.display import display, HTML\n",
        "\n",
        "searcher = pysearch.SimpleSearcher('indexes/lucene-index.msmarco-passage.pos+docvectors+rawdocs')\n",
        "interactive_hits = searcher.search('south african football teams')\n",
        "\n",
        "for i in range(0, 10):\n",
        "    print('Rank: {} | Passage ID: {} | BM25 Score: {}'.format(i+1, interactive_hits[i].docid, interactive_hits[i].score))\n",
        "    display(HTML('<div style=\"font-family: Times New Roman; padding-bottom:10px\">' + interactive_hits[i].raw + '</div>'))"
      ]
    },
    {
      "cell_type": "markdown",
      "metadata": {
        "id": "ogrmRRfobshT"
      },
      "source": [
        "The above example uses default parameters.\n",
        "Let's try setting tuned parameters for this collection:"
      ]
    },
    {
      "cell_type": "code",
      "execution_count": null,
      "metadata": {
        "id": "XIP34ZtsCaB5"
      },
      "outputs": [],
      "source": [
        "searcher.set_bm25_similarity(0.82, 0.68)\n",
        "interactive_hits_tuned = searcher.search('south african football teams')\n",
        "\n",
        "for i in range(0, 10):\n",
        "    print('Rank: {} | Passage ID: {} | BM25 Score: {}'.format(i+1, interactive_hits_tuned[i].docid, interactive_hits_tuned[i].score))\n",
        "    display(HTML('<div style=\"font-family: Times New Roman; padding-bottom:10px\">' + interactive_hits[i].raw + '</div>'))"
      ]
    },
    {
      "cell_type": "markdown",
      "metadata": {
        "id": "tJpEXdsx3uBJ"
      },
      "source": [
        "###Exercise #1\n",
        "Compare the rankings with and without tuned parameters.\n",
        "Add a new cell to query the index with a different query of your choice, both with untuned and tuned parameters."
      ]
    },
    {
      "cell_type": "code",
      "execution_count": null,
      "metadata": {
        "id": "2g5YcAjkgA78"
      },
      "outputs": [],
      "source": []
    },
    {
      "cell_type": "markdown",
      "metadata": {
        "id": "mdZeRTf3ClAR"
      },
      "source": [
        "Note how the ranking has changed.\n",
        "We can also enable RM3 query expansion to see if it helps with our collection:"
      ]
    },
    {
      "cell_type": "code",
      "execution_count": null,
      "metadata": {
        "id": "LH3EVKaTMcgg"
      },
      "outputs": [],
      "source": [
        "searcher.set_rm3_reranker(10, 10, 0.5)\n",
        "interactive_hits_tuned_rm3 = searcher.search('south african football teams')\n",
        "\n",
        "for i in range(0, 10):\n",
        "    print('Rank: {} | Passage ID: {} | BM25 Score: {}'.format(i+1, interactive_hits_tuned_rm3[i].docid, interactive_hits_tuned_rm3[i].score))\n",
        "    display(HTML('<div style=\"font-family: Times New Roman; padding-bottom:10px\">' + interactive_hits_tuned_rm3[i].raw + '</div>'))"
      ]
    },
    {
      "cell_type": "markdown",
      "metadata": {
        "id": "fHX_l-5jKZ3P"
      },
      "source": [
        "## Batch Retrieval"
      ]
    },
    {
      "cell_type": "markdown",
      "metadata": {
        "id": "k08tEtsmDCyv"
      },
      "source": [
        "Previously we interactively queried the index.\n",
        "However, in a typical experimental setting, you would evaluate over a larger number of queries to test different information needs.\n",
        "\n",
        "Let's begin by constructing the dev queries and corresponding query IDs:"
      ]
    },
    {
      "cell_type": "code",
      "execution_count": null,
      "metadata": {
        "id": "RSlbbOMecd2d"
      },
      "outputs": [],
      "source": [
        "topics = {}\n",
        "with open('data/queries.dev.small.tsv') as file:\n",
        "    for line in file:\n",
        "       id, q = line.strip().split('\\t')\n",
        "       topics[int(id)] = q\n",
        "\n",
        "print('{} queries total'.format(len(topics)))"
      ]
    },
    {
      "cell_type": "code",
      "execution_count": null,
      "metadata": {
        "id": "LpSWU35Bd9Bp"
      },
      "outputs": [],
      "source": [
        "queries = list(topics.values())\n",
        "qids = list([str(t) for t in topics.keys()])"
      ]
    },
    {
      "cell_type": "markdown",
      "metadata": {
        "id": "mtYICC936IMU"
      },
      "source": [
        "### Exercise #2\n",
        "We have previously looked at these queries in the last activity.\n",
        "Again find the queries that contain `football`."
      ]
    },
    {
      "cell_type": "code",
      "execution_count": null,
      "metadata": {
        "id": "fW6cX15t5cGd"
      },
      "outputs": [],
      "source": []
    },
    {
      "cell_type": "markdown",
      "metadata": {
        "id": "F37KoOfsfCSe"
      },
      "source": [
        "Now, let's run all the queries from the dev set.\n",
        "For the sake of speed, let's again only retrieve the top 5 documents for each query.\n",
        "Note that this step may still take a while."
      ]
    },
    {
      "cell_type": "code",
      "execution_count": null,
      "metadata": {
        "id": "C74qogSKfFtD"
      },
      "outputs": [],
      "source": [
        "searcher = pysearch.SimpleSearcher('indexes/lucene-index.msmarco-passage.pos+docvectors+rawdocs')\n",
        "bm25_hits = searcher.batch_search(queries, qids, k=5)"
      ]
    },
    {
      "cell_type": "markdown",
      "metadata": {
        "id": "0HTohrkIO5N2"
      },
      "source": [
        "Note that the above runs batch retrieval with untuned BM25.\n",
        "We can repeat with tuned parameters, just like we did for the interactive queries:"
      ]
    },
    {
      "cell_type": "code",
      "execution_count": null,
      "metadata": {
        "id": "R6clfMWkD3ZU"
      },
      "outputs": [],
      "source": [
        "searcher.set_bm25_similarity(0.82, 0.68)\n",
        "bm25_hits_tuned = searcher.batch_search(queries, qids, k=5)"
      ]
    },
    {
      "cell_type": "markdown",
      "metadata": {
        "id": "mNMa1DKsD1fc"
      },
      "source": [
        "Now let's repeat with RM3 query expansion (May take a while):"
      ]
    },
    {
      "cell_type": "code",
      "execution_count": null,
      "metadata": {
        "id": "j9o_IXRTk5mf"
      },
      "outputs": [],
      "source": [
        "searcher.set_rm3_reranker(10, 10, 0.5)\n",
        "bm25_hits_tuned_rm3 = searcher.batch_search(queries, qids, k=5)"
      ]
    },
    {
      "cell_type": "markdown",
      "metadata": {
        "id": "RZbakkgXiPSO"
      },
      "source": [
        "### Exercise #3\n",
        "Produce a run for untuned BM25 with RM3."
      ]
    },
    {
      "cell_type": "code",
      "execution_count": null,
      "metadata": {
        "id": "vZvRqPFAgCXw"
      },
      "outputs": [],
      "source": []
    },
    {
      "cell_type": "markdown",
      "metadata": {
        "id": "6J-CuGlz9hjc"
      },
      "source": [
        "### Exercise #4\n",
        "So far we have downloaded and retrieved the top passages for the dev queries.\n",
        "Now use the eval queries (data/queries.eval.small.tsv) and repeat the process for eval queries."
      ]
    },
    {
      "cell_type": "code",
      "execution_count": null,
      "metadata": {
        "id": "7npsIcEU91Ji"
      },
      "outputs": [],
      "source": []
    },
    {
      "cell_type": "code",
      "execution_count": null,
      "metadata": {
        "id": "kRxS0rzG--tB"
      },
      "outputs": [],
      "source": []
    },
    {
      "cell_type": "markdown",
      "metadata": {
        "id": "tU1jjvYfKYgA"
      },
      "source": [
        "## Evaluation\n",
        "\n",
        "A crucial component of information retrieval research is evaluation and metrics.\n",
        "The most common tool used to achieve this goal is `trec_eval` developed by [NIST](https://www.nist.gov/).\n",
        "\n",
        "`trec_eval` defines a number of standard retrieval measures, the details of which can be seen [here](http://www.rafaelglater.com/en/post/learn-how-to-use-trec_eval-to-evaluate-your-information-retrieval-system).\n",
        "\n",
        "### TREC Format\n",
        "\n",
        "`trec_eval` requires the runs from various experiments to be expressed in a standard TREC format:\n",
        "\n",
        "`query_id iter docno rank similarity run_id` delimited by spaces\n",
        "\n",
        "- `query_id`: query ID\n",
        "- `iter`: constant, often either 0 or Q0 - required but ignored by `trec_eval`\n",
        "- `docno`: string values that uniquely identify a document in the collection\n",
        "- `rank`: integer, often zero indexed\n",
        "- `similarity`: float value that represents the similarity of the document to the query specified by `query_id`\n",
        "- `run_id`: string that identifies runs, used to keep track of different experiments - also ignored by `trec_eval`\n",
        "\n",
        "Evaluation also requires the ground truth in the form of relevance judgements in the qrels file.\n",
        "The qrels file follows the following format:\n",
        "\n",
        "`query_id iter docno label`\n",
        "\n",
        "- `label`: binary code (0 for not relevant and 1 for relevant)"
      ]
    },
    {
      "cell_type": "markdown",
      "metadata": {
        "id": "GnhjuvsQhrVB"
      },
      "source": [
        "Convert the hits for both BM25 (tuned and untuned) and BM25+RM3 runs into the TREC format:"
      ]
    },
    {
      "cell_type": "code",
      "execution_count": null,
      "metadata": {
        "id": "P_I_F6K9kW3L"
      },
      "outputs": [],
      "source": [
        "def convert_to_trec_run(experiment, run_dict):\n",
        "  with open('run.{}.txt'.format(experiment), 'w') as run_file:\n",
        "    for qid in run_dict:\n",
        "      for rank, doc in enumerate(run_dict[qid]):\n",
        "        run_file.write('{} Q0 {} {} {} {}\\n'.format(qid, doc.docid, rank, doc.score, experiment))"
      ]
    },
    {
      "cell_type": "code",
      "execution_count": null,
      "metadata": {
        "id": "nDPIwvy5iqMK"
      },
      "outputs": [],
      "source": [
        "convert_to_trec_run('msmarco_passage_dev_bm25', bm25_hits)\n",
        "convert_to_trec_run('msmarco_passage_dev_bm25_tuned', bm25_hits_tuned)\n",
        "convert_to_trec_run('msmarco_passage_dev_bm25_tuned_rm3', bm25_hits_tuned_rm3)"
      ]
    },
    {
      "cell_type": "markdown",
      "metadata": {
        "id": "NtKO5XXWnWZi"
      },
      "source": [
        "Let's pull `trec_eval` again:"
      ]
    },
    {
      "cell_type": "code",
      "execution_count": null,
      "metadata": {
        "id": "SQWfpv1gnYaf",
        "colab": {
          "base_uri": "https://localhost:8080/"
        },
        "outputId": "e59742a5-9c4f-404d-efde-b2120acd31a5"
      },
      "outputs": [
        {
          "output_type": "stream",
          "name": "stdout",
          "text": [
            "Cloning into 'anserini-tools'...\n",
            "remote: Enumerating objects: 1021, done.\u001b[K\n",
            "remote: Counting objects: 100% (57/57), done.\u001b[K\n",
            "remote: Compressing objects: 100% (33/33), done.\u001b[K\n",
            "remote: Total 1021 (delta 45), reused 25 (delta 24), pack-reused 964 (from 5)\u001b[K\n",
            "Receiving objects: 100% (1021/1021), 759.67 MiB | 34.23 MiB/s, done.\n",
            "Resolving deltas: 100% (230/230), done.\n",
            "Updating files: 100% (756/756), done.\n",
            "trec_eval.9.0.4/\n",
            "trec_eval.9.0.4/m_prefs_pair.c\n",
            "trec_eval.9.0.4/m_ndcg_p.c\n",
            "trec_eval.9.0.4/m_infap.c\n",
            "trec_eval.9.0.4/m_num_q.c\n",
            "trec_eval.9.0.4/m_iprec_at_recall.c\n",
            "trec_eval.9.0.4/form_prefs_counts.c\n",
            "trec_eval.9.0.4/m_prefs_num_prefs_ful_ret.c\n",
            "trec_eval.9.0.4/utility_pool.c\n",
            "trec_eval.9.0.4/m_binG.c\n",
            "trec_eval.9.0.4/meas_avg.c\n",
            "trec_eval.9.0.4/m_gm_bpref.c\n",
            "trec_eval.9.0.4/m_runid.c\n",
            "trec_eval.9.0.4/m_bpref.c\n",
            "trec_eval.9.0.4/m_gm_map.c\n",
            "trec_eval.9.0.4/trec_eval.h\n",
            "trec_eval.9.0.4/m_yaap.c\n",
            "trec_eval.9.0.4/m_relstring.c\n",
            "trec_eval.9.0.4/m_Rprec.c\n",
            "trec_eval.9.0.4/m_prefs_avgjg.c\n",
            "trec_eval.9.0.4/m_success.c\n",
            "trec_eval.9.0.4/m_ndcg.c\n",
            "trec_eval.9.0.4/functions.h\n",
            "trec_eval.9.0.4/m_P_avgjg.c\n",
            "trec_eval.9.0.4/test/\n",
            "trec_eval.9.0.4/test/qrels.rel_level\n",
            "trec_eval.9.0.4/test/results.test\n",
            "trec_eval.9.0.4/test/qrels.test\n",
            "trec_eval.9.0.4/test/out.test.qrels_jg\n",
            "trec_eval.9.0.4/test/out.test.meas_params\n",
            "trec_eval.9.0.4/test/out.test.a\n",
            "trec_eval.9.0.4/test/out.test.prefs\n",
            "trec_eval.9.0.4/test/out.test.aqcM\n",
            "trec_eval.9.0.4/test/out.test.aql\n",
            "trec_eval.9.0.4/test/prefs.test\n",
            "trec_eval.9.0.4/test/out.test\n",
            "trec_eval.9.0.4/test/out.test.aq\n",
            "trec_eval.9.0.4/test/out.test.aqc\n",
            "trec_eval.9.0.4/test/out.test.qrels_prefs\n",
            "trec_eval.9.0.4/test/zscores_file\n",
            "trec_eval.9.0.4/test/qrels.123\n",
            "trec_eval.9.0.4/test/out.test.aqZ\n",
            "trec_eval.9.0.4/test/results.trunc\n",
            "trec_eval.9.0.4/test/prefs.results.test\n",
            "trec_eval.9.0.4/test/prefs.rank20\n",
            "trec_eval.9.0.4/m_11pt_avg.c\n",
            "trec_eval.9.0.4/m_G.c\n",
            "trec_eval.9.0.4/m_num_rel.c\n",
            "trec_eval.9.0.4/m_map_cut.c\n",
            "trec_eval.9.0.4/m_prefs_avgjg_ret.c\n",
            "trec_eval.9.0.4/m_Rprec_mult.c\n",
            "trec_eval.9.0.4/Makefile\n",
            "trec_eval.9.0.4/m_map_avgjg.c\n",
            "trec_eval.9.0.4/get_qrels_prefs.c\n",
            "trec_eval.9.0.4/README\n",
            "trec_eval.9.0.4/m_set_rel_P.c\n",
            "trec_eval.9.0.4/sysfunc.h\n",
            "trec_eval.9.0.4/m_prefs_pair_ret.c\n",
            "trec_eval.9.0.4/convert_zscores.c\n",
            "trec_eval.9.0.4/m_ndcg_cut.c\n",
            "trec_eval.9.0.4/m_prefs_pair_imp.c\n",
            "trec_eval.9.0.4/meas_print_single.c\n",
            "trec_eval.9.0.4/meas_print_final.c\n",
            "trec_eval.9.0.4/trec_eval.c\n",
            "trec_eval.9.0.4/m_num_ret.c\n",
            "trec_eval.9.0.4/get_prefs.c\n",
            "trec_eval.9.0.4/m_P.c\n",
            "trec_eval.9.0.4/get_qrels_jg.c\n",
            "trec_eval.9.0.4/m_rel_P.c\n",
            "trec_eval.9.0.4/meas_acc.c\n",
            "trec_eval.9.0.4/m_prefs_simp.c\n",
            "trec_eval.9.0.4/m_recall.c\n",
            "trec_eval.9.0.4/trec_format.h\n",
            "trec_eval.9.0.4/m_ndcg_rel.c\n",
            "trec_eval.9.0.4/m_num_nonrel_judged_ret.c\n",
            "trec_eval.9.0.4/formats.c\n",
            "trec_eval.9.0.4/bpref_bug\n",
            "trec_eval.9.0.4/README.windows.md\n",
            "trec_eval.9.0.4/m_prefs_num_prefs_ful.c\n",
            "trec_eval.9.0.4/m_set_map.c\n",
            "trec_eval.9.0.4/get_qrels.c\n",
            "trec_eval.9.0.4/m_set_F.c\n",
            "trec_eval.9.0.4/measures.c\n",
            "trec_eval.9.0.4/common.h\n",
            "trec_eval.9.0.4/meas_init.c\n",
            "trec_eval.9.0.4/m_recip_rank.c\n",
            "trec_eval.9.0.4/m_set_recall.c\n",
            "trec_eval.9.0.4/get_trec_results.c\n",
            "trec_eval.9.0.4/m_prefs_simp_ret.c\n",
            "trec_eval.9.0.4/m_num_rel_ret.c\n",
            "trec_eval.9.0.4/m_map.c\n",
            "trec_eval.9.0.4/m_utility.c\n",
            "trec_eval.9.0.4/form_res_rels.c\n",
            "trec_eval.9.0.4/form_res_rels_jg.c\n",
            "trec_eval.9.0.4/m_prefs_simp_imp.c\n",
            "trec_eval.9.0.4/m_prefs_num_prefs_poss.c\n",
            "trec_eval.9.0.4/m_prefs_avgjg_Rnonrel.c\n",
            "trec_eval.9.0.4/m_prefs_avgjg_Rnonrel_ret.c\n",
            "trec_eval.9.0.4/m_set_P.c\n",
            "trec_eval.9.0.4/m_prefs_avgjg_imp.c\n",
            "trec_eval.9.0.4/m_Rndcg.c\n",
            "trec_eval.9.0.4/CHANGELOG\n",
            "trec_eval.9.0.4/m_Rprec_mult_avgjg.c\n",
            "trec_eval.9.0.4/get_zscores.c\n",
            "gcc -g -I.  -Wall -DVERSIONID=\\\"9.0.4\\\"  -o trec_eval trec_eval.c formats.c meas_init.c meas_acc.c meas_avg.c meas_print_single.c meas_print_final.c get_qrels.c get_trec_results.c get_prefs.c get_qrels_prefs.c get_qrels_jg.c form_res_rels.c form_res_rels_jg.c form_prefs_counts.c utility_pool.c get_zscores.c convert_zscores.c measures.c  m_map.c m_P.c m_num_q.c m_num_ret.c m_num_rel.c m_num_rel_ret.c m_gm_map.c m_Rprec.c m_recip_rank.c m_bpref.c m_iprec_at_recall.c m_recall.c m_Rprec_mult.c m_utility.c m_11pt_avg.c m_ndcg.c m_ndcg_cut.c m_Rndcg.c m_ndcg_rel.c m_binG.c m_G.c m_rel_P.c m_success.c m_infap.c m_map_cut.c m_gm_bpref.c m_runid.c m_relstring.c m_set_P.c m_set_recall.c m_set_rel_P.c m_set_map.c m_set_F.c m_num_nonrel_judged_ret.c m_prefs_num_prefs_poss.c m_prefs_num_prefs_ful.c m_prefs_num_prefs_ful_ret.c m_prefs_simp.c m_prefs_pair.c m_prefs_avgjg.c m_prefs_avgjg_Rnonrel.c m_prefs_simp_ret.c m_prefs_pair_ret.c m_prefs_avgjg_ret.c m_prefs_avgjg_Rnonrel_ret.c m_prefs_simp_imp.c m_prefs_pair_imp.c m_prefs_avgjg_imp.c m_map_avgjg.c m_Rprec_mult_avgjg.c m_P_avgjg.c m_yaap.c -lm\n"
          ]
        }
      ],
      "source": [
        "!git clone https://github.com/castorini/anserini-tools\n",
        "!cd anserini-tools/eval && tar xvfz trec_eval.9.0.4.tar.gz && cd trec_eval.9.0.4 && make"
      ]
    },
    {
      "cell_type": "code",
      "execution_count": null,
      "metadata": {
        "id": "c_1ERgvpWIz2"
      },
      "outputs": [],
      "source": [
        "!mv anserini-tools/eval/trec_eval.9.0.4 ./"
      ]
    },
    {
      "cell_type": "markdown",
      "metadata": {
        "id": "J8dRwjl3aGsn"
      },
      "source": [
        "\n",
        "\n",
        "---\n",
        "\n"
      ]
    },
    {
      "cell_type": "markdown",
      "metadata": {
        "id": "MmWLvAl7iqbz"
      },
      "source": [
        "Now that we have our runs in the TREC format, we can evaluate them with `trec_eval`.\n"
      ]
    },
    {
      "cell_type": "code",
      "execution_count": null,
      "metadata": {
        "id": "5QWvGHiXVx0V",
        "colab": {
          "base_uri": "https://localhost:8080/"
        },
        "outputId": "6cfe4216-70be-4c77-cb1a-350035b403b6"
      },
      "outputs": [
        {
          "output_type": "stream",
          "name": "stdout",
          "text": [
            "1102330 Q0 7867446 0 20.756399154663086 msmarco_passage_dev_bm25\n",
            "1102330 Q0 3368049 1 19.46579933166504 msmarco_passage_dev_bm25\n",
            "1102330 Q0 4778576 2 18.159400939941406 msmarco_passage_dev_bm25\n",
            "1102330 Q0 2914344 3 17.48550033569336 msmarco_passage_dev_bm25\n",
            "1102330 Q0 2045120 4 16.44729995727539 msmarco_passage_dev_bm25\n"
          ]
        }
      ],
      "source": [
        "!head -5 run.msmarco_passage_dev_bm25.txt"
      ]
    },
    {
      "cell_type": "code",
      "execution_count": null,
      "metadata": {
        "id": "PPNjxxLWO0X-"
      },
      "outputs": [],
      "source": [
        "!chmod -R +x trec_eval.9.0.4/"
      ]
    },
    {
      "cell_type": "code",
      "execution_count": null,
      "metadata": {
        "id": "-iQOW2wkgcyV",
        "colab": {
          "base_uri": "https://localhost:8080/"
        },
        "outputId": "464e09bf-1b5c-4e11-8d69-8672e3589d15"
      },
      "outputs": [
        {
          "output_type": "stream",
          "name": "stdout",
          "text": [
            "recall_1000           \tall\t0.2846\n",
            "ndcg_cut_20           \tall\t0.1974\n"
          ]
        }
      ],
      "source": [
        "!trec_eval.9.0.4/trec_eval -m ndcg_cut.20 -c -m recall.1000 -c data/qrels.dev.small.tsv run.msmarco_passage_dev_bm25.txt"
      ]
    },
    {
      "cell_type": "code",
      "execution_count": null,
      "metadata": {
        "id": "XXWy1WHZGq_Y",
        "colab": {
          "base_uri": "https://localhost:8080/"
        },
        "outputId": "2a8572b0-05fb-4bf0-e849-92041da176e5"
      },
      "outputs": [
        {
          "output_type": "stream",
          "name": "stdout",
          "text": [
            "recall_1000           \tall\t0.2944\n",
            "ndcg_cut_20           \tall\t0.2021\n"
          ]
        }
      ],
      "source": [
        "!trec_eval.9.0.4/trec_eval -m ndcg_cut.20 -c -m recall.1000 -c data/qrels.dev.small.tsv run.msmarco_passage_dev_bm25_tuned.txt"
      ]
    },
    {
      "cell_type": "code",
      "execution_count": null,
      "metadata": {
        "id": "xQV_2o-OoDkv",
        "colab": {
          "base_uri": "https://localhost:8080/"
        },
        "outputId": "dd9e85eb-edc2-4f92-f6d6-3e69e85f0685"
      },
      "outputs": [
        {
          "output_type": "stream",
          "name": "stdout",
          "text": [
            "recall_1000           \tall\t0.2680\n",
            "ndcg_cut_20           \tall\t0.1796\n"
          ]
        }
      ],
      "source": [
        "!trec_eval.9.0.4/trec_eval -m ndcg_cut.20 -c -m recall.1000 -c data/qrels.dev.small.tsv run.msmarco_passage_dev_bm25_tuned_rm3.txt"
      ]
    },
    {
      "cell_type": "markdown",
      "metadata": {
        "id": "DdX1XQfKG7QB"
      },
      "source": [
        "### Exercise #5\n",
        "What can you infer based on these result?"
      ]
    },
    {
      "cell_type": "code",
      "execution_count": null,
      "metadata": {
        "id": "gI2lbORbqCH5"
      },
      "outputs": [],
      "source": []
    }
  ],
  "metadata": {
    "colab": {
      "provenance": [],
      "include_colab_link": true
    },
    "kernelspec": {
      "display_name": "Python 3",
      "language": "python",
      "name": "python3"
    },
    "language_info": {
      "codemirror_mode": {
        "name": "ipython",
        "version": 3
      },
      "file_extension": ".py",
      "mimetype": "text/x-python",
      "name": "python",
      "nbconvert_exporter": "python",
      "pygments_lexer": "ipython3",
      "version": "3.7.2"
    }
  },
  "nbformat": 4,
  "nbformat_minor": 0
}