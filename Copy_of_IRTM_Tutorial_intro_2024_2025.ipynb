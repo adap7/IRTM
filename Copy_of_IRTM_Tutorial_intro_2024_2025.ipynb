{
  "cells": [
    {
      "cell_type": "markdown",
      "metadata": {
        "id": "view-in-github",
        "colab_type": "text"
      },
      "source": [
        "<a href=\"https://colab.research.google.com/github/adap7/IRTM/blob/main/Copy_of_IRTM_Tutorial_intro_2024_2025.ipynb\" target=\"_parent\"><img src=\"https://colab.research.google.com/assets/colab-badge.svg\" alt=\"Open In Colab\"/></a>"
      ]
    },
    {
      "cell_type": "markdown",
      "source": [
        "Start by copying this into your Google Drive!!"
      ],
      "metadata": {
        "id": "67gvAR3cwicV"
      }
    },
    {
      "cell_type": "markdown",
      "source": [
        "# Information Retrieval & Text Mining\n",
        "![maastricht-university-logo.jpeg](data:image/jpeg;base64,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)\n",
        "## Notebook 1\n",
        "\n",
        "Version 2024-2025\n",
        "\n",
        "\n",
        "Adapted and updated from [here](https://github.com/castorini/anserini-notebooks-afirm2020)"
      ],
      "metadata": {
        "id": "GLCp-dUnuMdJ"
      }
    },
    {
      "cell_type": "markdown",
      "metadata": {
        "id": "_t_PXQgXiABV"
      },
      "source": [
        "# Quick Introduction to Google Colaboratory\n",
        "\n",
        "The Google Colaboratory (commmonly abbreviated as Google Colab) is a development environment that runs in the browser using Google Cloud.\n",
        "\n",
        "The [official notebooks](https://colab.research.google.com/notebooks/) provided by Google Colab are a good place to start learning about the functionalities.\n",
        "\n",
        "## Notebooks\n",
        "\n",
        "A notebook represents the source file in Colab.\n",
        "It is essentially a web application that contains live code, equations, visualizations or text.\n",
        "The Colab kernel officially supports Python and Swift.\n",
        "Kernels can also be installed for other languages such as Scala or R.\n",
        "\n",
        "A Colab notebook constitutes two types of `cells`: `run` and `markdown`.\n",
        "A run cell is an executable unit that expresses the action to be carried out.\n",
        "\n",
        "You may run a cell either by clicking the button on the far left of the cell or with `SHIFT + Enter`.\n",
        "The button on the left also signifies whether a cell is currently running, or if it has finished, its running order.\n",
        "\n",
        "Here is a Python cell that outputs `Hello world!`:"
      ]
    },
    {
      "cell_type": "code",
      "metadata": {
        "id": "4hGXtteM1YZf",
        "colab": {
          "base_uri": "https://localhost:8080/"
        },
        "outputId": "1f605f44-c1af-451f-f1ec-fcc0cdfd42c5"
      },
      "source": [
        "print('Hello world!')"
      ],
      "execution_count": 1,
      "outputs": [
        {
          "output_type": "stream",
          "name": "stdout",
          "text": [
            "Hello world!\n"
          ]
        }
      ]
    },
    {
      "cell_type": "markdown",
      "metadata": {
        "id": "mU4j9xukf-ei"
      },
      "source": [
        "### Exercise #1\n",
        "Change `world` in the above line with your name and re-run the cell."
      ]
    },
    {
      "cell_type": "code",
      "metadata": {
        "id": "GrzLSt5Gb36R",
        "colab": {
          "base_uri": "https://localhost:8080/"
        },
        "outputId": "1237b24f-8648-4e2c-8136-57f9f12f242b"
      },
      "source": [
        "print('Hello Ada!')"
      ],
      "execution_count": 2,
      "outputs": [
        {
          "output_type": "stream",
          "name": "stdout",
          "text": [
            "Hello Ada!\n"
          ]
        }
      ]
    },
    {
      "cell_type": "markdown",
      "metadata": {
        "id": "uZo5L-B52jNs"
      },
      "source": [
        "## Shell\n",
        "\n",
        "Check out this [interactive tutorial](https://www.learnshell.org/) to brush up on shell scripting.\n",
        "\n",
        "Shell scripts/commands can also be executed in a cell.\n",
        "However, unlike Python code, each line has to be prepended with an exclamation mark, `!`, so that the notebook recognizes the Shell command.\n",
        "\n",
        "For example, let's check our working directory:"
      ]
    },
    {
      "cell_type": "code",
      "metadata": {
        "id": "6c3jeY5j2p85",
        "colab": {
          "base_uri": "https://localhost:8080/"
        },
        "outputId": "7be057b3-346e-4e1a-ca50-184125171628"
      },
      "source": [
        "!pwd\n",
        "!ls"
      ],
      "execution_count": 3,
      "outputs": [
        {
          "output_type": "stream",
          "name": "stdout",
          "text": [
            "/content\n",
            "sample_data\n"
          ]
        }
      ]
    },
    {
      "cell_type": "markdown",
      "metadata": {
        "id": "TDKAXzNbfaN8"
      },
      "source": [
        "As you can see, we are currently in `/content`, which only contains the `sample_data` directory.\n",
        "To confirm this in the user interface, click on the bottom file icon in the leftmost panel of your browser, and look at the current status of your filesystem."
      ]
    },
    {
      "cell_type": "markdown",
      "metadata": {
        "id": "0P1AxzxxdYnM"
      },
      "source": [
        "###Exercise #2\n",
        "Create a file called `your_name.txt` that contains your name with `echo`.\n",
        "Make sure to change the filename as you need a unique identifier to create a file in the bucket.\n",
        "Confirm the creation of the file in your environment."
      ]
    },
    {
      "cell_type": "code",
      "metadata": {
        "id": "vTpua9BcesM4",
        "colab": {
          "base_uri": "https://localhost:8080/"
        },
        "outputId": "3b5eded9-07ca-45f5-f679-fef693fa9057"
      },
      "source": [
        "from os import write\n",
        "# !echo \"Ada.txt\"\n",
        "# Where is the file?\n",
        "myFile = open(\"Ada.txt\", 'w')\n",
        "# myFile.write('Ada text file')\n",
        "myFile.close()\n",
        "!echo Ada.txt"
      ],
      "execution_count": 12,
      "outputs": [
        {
          "output_type": "stream",
          "name": "stdout",
          "text": [
            "Ada.txt\n"
          ]
        }
      ]
    },
    {
      "cell_type": "markdown",
      "metadata": {
        "id": "koBQ_o130ZMl"
      },
      "source": [
        "## Magics\n",
        "\n",
        "Notebooks define a set of system commands called `magics`.\n",
        "Line magics are prepended with a single `%` character and only affect the line that they are on.\n",
        "More commonly, cell magics are expressed with `%%` and govern the whole cell that they precede.\n",
        "\n",
        "A cell magic that is used often in the following notebooks is `%%capture`, which suppresses the output of the respective cell.\n",
        "It is especially useful when running a cell with verbose logging, e.g., downloading or processing many files.\n",
        "\n",
        "Some of the other magics include:\n",
        "- `%timeit`: automatically determines the execution time of a single-line Python statement\n",
        "- `%%html`: treats the entire cell as an HTML block\n",
        "- `%%bash`: treats the entire cell as a Bash script\n",
        "\n",
        "For others, check out the [Jupyter documentation](https://nbviewer.jupyter.org/github/ipython/ipython/blob/1.x/examples/notebooks/Cell%20Magics.ipynb)."
      ]
    },
    {
      "cell_type": "markdown",
      "metadata": {
        "id": "pCbNxnAihJPr"
      },
      "source": [
        "### Exercise #3\n",
        "Suppress the output of the `Hello World` Python example with `%%capture`."
      ]
    },
    {
      "cell_type": "code",
      "metadata": {
        "id": "HWsrW9Z91tvN"
      },
      "source": [
        "%%capture\n",
        "print(\"Hello World!\")"
      ],
      "execution_count": 14,
      "outputs": []
    },
    {
      "cell_type": "markdown",
      "metadata": {
        "id": "WdL7Vnit1Zv6"
      },
      "source": [
        "## Data\n",
        "\n",
        "Colab keeps a temporary storage space for data and other intermediate files.\n",
        "However, it is also possible to persist external data stored on your local file system, Google Drive or Google Cloud Storage (GCS).\n",
        "To learn more about different storage options, please visit [this webpage](https://colab.research.google.com/notebooks/io.ipynb).\n",
        "\n",
        "For these tutorials, we will work with Google Drive for storage. Let's first mount Google Drive to Colab. We do this by running the following. We see a popup with the title: \"Permit this notebook to access your Google Drive files?\". You should click on \"Connect to Google Drive\". Then click on your Google Account, fill in your password if needed, and click \"Allow\"."
      ]
    },
    {
      "cell_type": "code",
      "source": [
        "from google.colab import drive\n",
        "drive.mount('/content/drive')"
      ],
      "metadata": {
        "id": "4NbNCb7rHcr8",
        "colab": {
          "base_uri": "https://localhost:8080/"
        },
        "outputId": "f0427652-0239-4a59-dc17-65edceff5816"
      },
      "execution_count": 15,
      "outputs": [
        {
          "output_type": "stream",
          "name": "stdout",
          "text": [
            "Mounted at /content/drive\n"
          ]
        }
      ]
    },
    {
      "cell_type": "markdown",
      "source": [
        "We can display what's in our Drive by listing the path '/content/drive/MyDrive/'"
      ],
      "metadata": {
        "id": "d0SIu55N8ZL1"
      }
    },
    {
      "cell_type": "code",
      "metadata": {
        "id": "F8YYACoqylOf",
        "colab": {
          "base_uri": "https://localhost:8080/"
        },
        "outputId": "9bdb862d-e094-4599-e24a-ff94c3e70a32"
      },
      "source": [
        "!ls /content/drive/MyDrive/"
      ],
      "execution_count": 16,
      "outputs": [
        {
          "output_type": "stream",
          "name": "stdout",
          "text": [
            "'02. Learn Italian author Paul Noble.pdf'\n",
            "'03. Italian Language Kit author Cactus Language.pdf'\n",
            "'04. Italian Foundations (Article) author Italy Made Easy.pdf'\n",
            " 04-ReportDraft-Project2-2.gdoc\n",
            " 05-Agenda-2021-11-04.gdoc\n",
            " 05-Agenda-2021-11-04.pdf\n",
            " 05-Agenda-2022-01-14.gdoc\n",
            "'05. A grammar of the Italian Language author Pietro Bachi.pdf'\n",
            "' 05-Draft article.gdoc'\n",
            "' 05-introductionPhase1.gdoc'\n",
            " 05-Minutes-2022-01-07.gdoc\n",
            "'06. Very basic Grammar of Italian author DeepThought.pdf'\n",
            " 07-Agenda-2021-03-17.gdoc\n",
            " 07-Agenda-2021-05-18.gdoc\n",
            " 07-FinalReport.gdoc\n",
            " 07-Minutes-2021-03-15.gdoc\n",
            " 07-Minutes-2021-06-11.gdoc\n",
            "'07. Overall Grammar author Università di Bologna & Politecnico di Milano.pdf'\n",
            " 07-OverviewPhase2.gdoc\n",
            "'08. MFLE Italian Reference Grammar author Education Scotland.pdf'\n",
            " 108-Simulation-Modeling-and-Analysis-Averill-M.-Law-Edisi-5-2014.pdf\n",
            "'10. Direct Object Pronouns (Article) author Italy Made Easy.pdf'\n",
            "'11. Indirect Object Pronouns (Article) author Italy Made Easy.pdf'\n",
            " 12-Week-Goals-Template.pdf\n",
            " 12-Week-Goals-Your-Vision.pdf\n",
            " 12WeekYearPlanner.pdf\n",
            "'14. A short guide to Italian Phonetics and Phonology for students of Italian Paper V author Sandra Paoli.pdf'\n",
            "'15. Italian Pronunciation - a Primer for Singers (Article) author The Llewellyn Choir.pdf'\n",
            "'16. Italian Pronunciation Guide, Quick Start (Article) author Mansfield University of Pennsylvania.pdf'\n",
            "'17. Guide to the international phonetic alphabet (IPA) author Los Angeles Mission College.pdf'\n",
            " 18-Minutes-2021-01-11.docx.pdf\n",
            "'18. Present Tense. Irregular author Italy Made Easy.pdf'\n",
            "'19. Past Tense of Reflexive, Reciprocal, Impersonal Verbs (Article) author Italy Made Easy.pdf'\n",
            "'(1) City of Bones.epub'\n",
            "'1st Year UM'\n",
            " 20200506_091021-1.jpg\n",
            " 20200506_091021.jpg\n",
            "'20200506_091029-1 (1).jpg'\n",
            " 20200506_091029-1.jpg\n",
            "'2020 Reading Log Template.xlsx'\n",
            "'2021 Reading Statistics.xlsx'\n",
            "'2021 Reads .xlsx'\n",
            " 2022_LEVEL_UP_GUIDE_-_windows_users.gdoc\n",
            "'20. Present Tense (Regular) (Article) author Italy Made Easy.pdf'\n",
            "'21. Some Notes on the Passato Prossimo (Article) author Department of Education and Training, Victoria.pdf'\n",
            "'22. 100 most used Italian verbs (Article) author The Metalearners.pdf'\n",
            "'25. Word of the Week. A weekly word to help improve your Italian vocabulary author Italy Magazine.pdf'\n",
            "'26. Basic Italian Vocabulary and Grammar author Astalaweb.pdf'\n",
            "'30 Day Challenge.docx'\n",
            " 502_06_Montgomery-Design-and-analysis-of-experiments-2012.pdf\n",
            "'6-h study schedule.gsheet'\n",
            " A_Common-Sense_Guide_to_Data_Structures_an_-_Jay_Wengrow.pdf\n",
            "'Acord de confidentialitate Footprints for Retail_fz (1).pdf'\n",
            "'Acord de confidentialitate Footprints for Retail_fz.gdoc'\n",
            " A_Humans_Guide_to_Machine_Intelligence_-_Kartik_Hosanagar.pdf\n",
            " Airtable\n",
            "'Alexandra Panghe - CV (1).gdoc'\n",
            "'Alexandra Panghe - CV (2).gdoc'\n",
            "'Alexandra Panghe - CV (3).gdoc'\n",
            "'Alexandra Panghe - CV.gdoc'\n",
            "'Alexandra Panghe - CV_Review.gdoc'\n",
            " Alexandra_Panghe_lettre_de_motivation.gdoc\n",
            " Algorithm_Design_Manual_-_Steve_S_Skiena.pdf\n",
            " Algorithms_and_Data_Structures_in_Action_M_-_Marcello_La_Rocca.pdf\n",
            " Algorithms_Blockchain_n_Cryptocurrency_-_Gavin_Brown.pdf\n",
            " Algorithms_Go__Explains_Algorithms_with_Be_-_yang_hu.pdf\n",
            "\"Angel'sRoad.drawio\"\n",
            "\"Angel's road story board.gdoc\"\n",
            "\"Angel's road.xlsx\"\n",
            " AnItalianGrammarWithExercises_10010190.pdf\n",
            " anton-giulio-barrili-castel-gavone.epub\n",
            "'AP Biology Global Approach - Global Edition 1st Edition.pdf'\n",
            "'Arctic Monkeys - (AM).zip'\n",
            " art3A10.10072Fs11948-016-9782-1.pdf\n",
            " Artificial_Intelligence_with_Python_Cookbo_-_Ben_Auffarth.pdf\n",
            "'Assesment Form.gsheet'\n",
            "'Assesment Form PremiumAuto.gsheet'\n",
            "'assignment 1 2022.pdf'\n",
            "'# Assignment 3.gdoc'\n",
            " Assignment4_PS.gdoc\n",
            "'A Study in Charlotte - Brittany Cavallaro (ebookArchive).epub'\n",
            "'Atestat draft 1.gdoc'\n",
            " Automate_This_-_Christopher_Steiner.pdf\n",
            "'A war of peace   In times of war.gdoc'\n",
            "'BACK TO SCHOOL TO DO .pdf'\n",
            " Backtracking.java\n",
            "'Basic Mathematics_ Revision and Practice - R. Elvin.pdf'\n",
            " Becoming_a_Design_Entrepreneur_-_Steven_Heller.pdf\n",
            "'Bioinformatics study plan.gsheet'\n",
            "'Blog ideas.gdoc'\n",
            " Board-Challenges.pdf\n",
            " Book1.xls\n",
            " Book1.xlt\n",
            "'Book Journal 2019.pdf'\n",
            " Books\n",
            "'Book Trackers 2020.xlsx'\n",
            "'Ce iau pentru party?.gsheet'\n",
            "'[Chapman & Hall_CRC Texts in Statistical Science] Joseph K. Blitzstein, Jessica Hwang - Introduction to Probability (2019, CRC Press).pdf'\n",
            " Classroom\n",
            " code.java\n",
            "'Colab Notebooks'\n",
            " Collins_Easy_Learning_Italian_Verbs_-_Collins.pdf\n",
            " Competing_in_the_Age_of_AI_-_Marco_Iansiti.pdf\n",
            "'Complement set.jpg'\n",
            " Computational_Geometry_-_Mark_de_Berg.pdf\n",
            "'(Computational Molecular Biology) Neil C. Jones, Pavel A. Pevzner - An Introduction to Bioinformatics Algorithms-The MIT Press (2004).pdf'\n",
            "'Computer Science Lesson 1 (1).pdf'\n",
            "'Computer Science Lesson 1 (2).pdf'\n",
            "'Computer Science Lesson 1 (3).pdf'\n",
            "'Computer Science Lesson 1 (4).pdf'\n",
            "'Computer Science Lesson 1.pdf'\n",
            "'Computer security Break it Assignment.gdoc'\n",
            " Computer_Vision__Algorithms_and_Applicatio_-_Richard_Szeliski.pdf\n",
            " Computer_Vision_for_X-Ray_Testing_-_Domingo_Mery.pdf\n",
            "'Controllers - useful links.gdoc'\n",
            " Cookies_-_Taste_of_Home.pdf\n",
            "'Copy of 05-PlanningPhase2.xlsx--.xlsx'\n",
            "'Copy of 2021 Reads Updated.gsheet'\n",
            "'Copy of 2021 Reads Updated.ods'\n",
            " coursenotes2022.pdf\n",
            "'Cover letter.gdoc'\n",
            "'Cover Letter.gdoc'\n",
            " CS1\n",
            "'CS individual.gdoc'\n",
            "'Current review.gdoc'\n",
            " databaseDiagram.drawio\n",
            "'Data Integration.gslides'\n",
            " Data_Structure_and_Algorithms_Using_C___-_Scrivener_Publishing.pdf\n",
            " Data_Structures_and_Algorithms_Made_Easy_w_-_Rahul_Maurya.pdf\n",
            " Data_Structures_and_Algorithms_with_Python_-_Kent_D_Lee.pdf\n",
            " DATA_STRUCTURES_through_C___PROBLEMS_AND_S_-_Rashmi_V.pdf\n",
            "'Debate Team 8.gdoc'\n",
            "\"dell'arte dela guerra.pdf\"\n",
            " Design_and_Analysis_of_Algorithms_-_Robert_Karamagi.pdf\n",
            " Designed_for_Use___Create_Usable_Interface_-_Lukas_Mathis.pdf\n",
            " Designing_Data-Intensive_Applications_-_Martin_Kleppmann.pdf\n",
            " Designing_for_Behavior_Change_-_Stephen_Wendel.pdf\n",
            " Designing_Your_Work_Life_-_Bill_Burnett.pdf\n",
            "'Digital Academic Planner 2022_23.pdf'\n",
            "\"Dima's code - questions and observations.gdoc\"\n",
            " Donia-Shaw2021_Article_EthicsAndValuesInDesignAStruct.pdf\n",
            " DP_6_2_Practice.pdf\n",
            " drive-download-20220906T122204Z-001.zip\n",
            "'[Duxbury Advanced] John A. Rice - Mathematical Statistics and Data Analysis 3ed (Duxbury Advanced) (2006, Duxbury Press).pdf'\n",
            " _ea3bfd6ef1a8115890814f736155ca68_Lec02_1MatterMind.pptx.pdf\n",
            " Easy_Keto_-_Rauly_Augustine.pdf\n",
            " Easy_Learning_Italian_Conversation_-_Collins_Dictionaries.pdf\n",
            "'Ecosistant challenges ideas and activities.gdoc'\n",
            " Ecossistant.gdoc\n",
            " Edito__niveau_B2.pdf\n",
            "'E_informatica_intensiv_c2008.zip (Unzipped Files)'\n",
            "'Events in Q4 2021 top 20 sources of tourism.gsheet'\n",
            "'Events in UAE Q4 2021.gsheet'\n",
            "'filmari azi-20220906T122831Z-001 (1).zip'\n",
            "'filmari azi-20220906T122831Z-001.zip'\n",
            " Floridi2020_Article_HowToDesignAIForSocialGoodSeve.pdf\n",
            " From_Chaos_to_Concept_-_Kevin_Collamore_Braun.epub\n",
            " From_Chaos_to_Concept_-_Kevin_Collamore_Braun.pdf\n",
            " From_Mathematics_to_Generic_Programming_9_-_Daniel_E_Rose.pdf\n",
            " Fundamentals_of_Machine_Learning_for_Predi_-_John_D_Kelleher.pdf\n",
            " Fundamentals_of_Robotic_Mechanical_Systems_-_Jorge_Angeles.pdf\n",
            "'GAANT chart Maf.xlsx'\n",
            " Games_Design_and_Play__A_Detailed_Approac_-_Colleen_Macklin.pdf\n",
            "'Gantt chart.gsheet'\n",
            "'Gantt chart MAF.gsheet'\n",
            " Genetic_Algorithms_in_Elixir_-_Sean_Moriarity.pdf\n",
            "'Geographical locations INGKA.gdoc'\n",
            "'Getting started.pdf'\n",
            "'Graph theory.gdoc'\n",
            "'Group 13 resources'\n",
            "'Group-2-Panghe-Alexandra-HCI Part 3: User testing.gslides'\n",
            " Group8.gslides\n",
            " Guide_to_Competitive_Programming_-_Antti_Laaksonen.pdf\n",
            " Happiness_by_Design__Change_What_You_Do_N_-_Paul_Dolan.pdf\n",
            "'Harry Potter Next generation fanfiction.gdoc'\n",
            " Head-First-Java\n",
            "'How_to_Become_a_Straight-A_Student__The_Un_-_Cal_Newport (1).pdf'\n",
            "'ICT group 5B.drawio'\n",
            "'ICT group 5B.png'\n",
            " ida-baccini-lezioni-e-racconti-per-i-bambini.epub\n",
            "'Ideation 1_ Understanding your Community.docx'\n",
            "'Ideation 2_Identifying Problems.docx'\n",
            "'Il colombre.pdf'\n",
            " IMPERFETTO.pdf\n",
            "'INGKA data questions.gdoc'\n",
            "'Instructions That Girl Undated Planner.pdf'\n",
            " Introduction_to_Quantum_Algorithms_via_Lin_-_Richard_J_Lipton.pdf\n",
            "'intro to psych_W02_L2SympPara.pptx.pdf'\n",
            "'Intro to psych_W02_L4Occipital.pptx.pdf'\n",
            "'intro to psych_week2_lecture3SubCortical.pptx.pdf'\n",
            " Italian_Language_Learning__This_Book_inclu_-_Ciao_Italy_Master_School__.pdf\n",
            " Italian__The_Italian_Language_Learning_Gui_-_Macario_Liuzzo.pdf\n",
            " ItalianWithElisa2015.pdf\n",
            "'Java exercises beginners'\n",
            " Jony_Ive__The_Genius_Behind_Apples_Greate_-_Leander_Kahney.pdf\n",
            " Joyful_-_Ingrid_Fetell_Lee.pdf\n",
            "\"_Kaitlin Grey's Bullet Journal Migration Guide_.pdf\"\n",
            "'KEN2230-2022-Assignment2 (1).pdf'\n",
            " KEN2230-2022-Assignment3_221218_190228.pdf\n",
            " KEN2230-2022-Assignment3_221218_233753.pdf\n",
            " KEN2230-2022-ExercisesTutorial1.pdf\n",
            " KEN2230-2022-ExercisesTutorial3.pdf\n",
            " Ken_Segall_-_Insanely_Simple.pdf\n",
            " Lab-9.gdoc\n",
            "'La fermata sbagliata.pdf'\n",
            "'La scienza esatta del matrimonio.pdf'\n",
            "\"L'avventura di due sposi.pdf\"\n",
            " Learning_of_Algorithms_-_Mario_Rojas.pdf\n",
            " Learn_Italian_in_Your_Car__Language_Lesson_-_Giorgio_Mills.pdf\n",
            " Learn_Italian__Learn_Italian_for_Beginners_-_Language_Learning_School.pdf\n",
            "'Le avventure di Pinocchio.pdf'\n",
            "'Lecture1 annotate .pdf'\n",
            " Legislation_text_test.gdoc\n",
            "'Links (1).gdoc'\n",
            " Links.gdoc\n",
            " Links.odt\n",
            "'Local events INGKA.gsheet'\n",
            "'Lockdown Planner.pdf'\n",
            "'Love, Autumn by Nikki Bloom.gdoc'\n",
            " Machine_Learning_for_Beginners__A_Step-By-_-_David_Brown.pdf\n",
            "'MAF Assesment Form.gsheet'\n",
            "'MAF Diagram.drawio'\n",
            "'MAF sythetic data datatrade sample data compatibility.gsheet'\n",
            " MAF_weather.gsheet\n",
            " Making_Ideas_Happen_-_Scott_Belsky.pdf\n",
            " Making_Websites_Win__Apply_the_Customer-Ce_-_Karl_Blanks.pdf\n",
            " ManifestationPlannerA4pinkSunnyDayzMedia.pdf\n",
            " Mapping_Experiences_-_James_Kalbach.pdf\n",
            "'Married to the Don by Nicole Fox.gdoc'\n",
            " mathematical_simulation_regular_2010.pdf\n",
            "'[Mcgraw-Hill International Edit] Thomas Mitchell - Machine learning (1997, McGraw Hill Higher Education).pdf'\n",
            "'Meals of the week:.gdoc'\n",
            "'Midnight Mass (Priest #2) - Sierra Simone.pdf'\n",
            "'Monthly budget.gsheet'\n",
            "'Monthly budget September.gsheet'\n",
            "'Monthly Tracker A4.pdf'\n",
            "'Monthly Tracker A5.pdf'\n",
            "'Monthly Tracker US Letter.pdf'\n",
            "'Mood Tracker A4.pdf'\n",
            "'My own story.gdoc'\n",
            "'New post.gdoc'\n",
            " Nine_Algorithms_That_Changed_the_Future_-_John_MacCormick.pdf\n",
            " nlp_proposal.gdoc\n",
            "'NLP Report.gdoc'\n",
            "'Numerical methods 3th ed.pdf'\n",
            " Object-Oriented_Analysis_Design_and_Imple_-_Brahma_Dathan.pdf\n",
            " _OceanofPDF.com_Coffee_at_Lukes__An_Unauthorized_Gilmore_-_Jennifer_Crusie.pdf\n",
            " Once_Upon_an_Algorithm_-_Martin_Erwig.pdf\n",
            " Options_and_Derivatives_Programming_in_C___-_Carlos_Oliveira.pdf\n",
            " Panghe_Alexandra_i6246854_PAI_Essay_2022.gdoc\n",
            " pericles_exported_citations.gdoc\n",
            "'Period 3'\n",
            "'Planetary Landers and Entry Probes - Ralph Lorenz.gdoc'\n",
            "'Planetary Landers and Entry Probes - Ralph Lorenz.pdf'\n",
            "'Planning 3-1.gsheet'\n",
            " PNItalian_bklet_download.pdf\n",
            "'Poems 2021-2022.gdoc'\n",
            " Post_Project_group14.gdoc\n",
            "'Post-workshop Assignment_05.gdoc'\n",
            "'Presentation 1 Group 14.gslides'\n",
            "'PRO4002 - Presentation Group 4.gslides'\n",
            "'Probability & Statistics.pdf'\n",
            "'process model for machine learning.gsheet'\n",
            "'Proiect 1-3'\n",
            "'Project 1-2'\n",
            "'Project 2 - Group 21'\n",
            "'Project 3-1'\n",
            "'Project ranking sem 2.gsheet'\n",
            " PROLOG.pdf\n",
            "'Pumpkin Productivity House Point Tracker.pdf'\n",
            "'Pumpkin Productivity Master To Do List.pdf'\n",
            "'Pumpkin Productivity Mini Master Todo List.pdf'\n",
            "'Pumpkin Productivity Study Planner.pdf'\n",
            " PYTHON_ALGORITHMS__A_Complete_Guide_to_Lea_-_Eric_Scratch.pdf\n",
            " PYTHON_MACHINE_LEARNING__The_Ultimate_Basi_-_Oliver_R_Simpson.pdf\n",
            " PYTHON_PROGRAMMING__3_MANUSCRIPTS_CRASH_CO_-_John_Tacke.pdf\n",
            " PYTHON_PROGRAMMING_CRASH_COURSE__HOW_TO_LE_-_COMPUTER_LANGUAGE_ACADEMY.pdf\n",
            " Qualitative_Inquiry_and_Research_Design__C_-_John_W_Creswell.pdf\n",
            "'Queen, The - Kiera Cass.epub'\n",
            " Reasoning.csv.gsheet\n",
            "'Report GA.gdoc'\n",
            "'reset checklist for school.pdf'\n",
            "'Resume (1).gdoc'\n",
            " Resume.gdoc\n",
            " Resume.pdf\n",
            "'Retail companies.gsheet'\n",
            "'Reussir au Delf B2.pdf'\n",
            "'Review Yard Sale.gdoc'\n",
            " Robotics_Vision_and_Control_-_Peter_Corke.pdf\n",
            "\"Schaum's Outline of Beginning C - David Goldberg.pdf\"\n",
            " Schedule.gsheet\n",
            "'Schedule sem 1.gsheet'\n",
            "'Schedule summer holiday 2022.gsheet'\n",
            " SE_ASS2_i6258735_i6246854.gdoc\n",
            "'Software Evaluation - Peer Review Form Feedback 1.gdoc'\n",
            " Sprint__How_to_Solve_Big_Problems_and_Test_-_Jake_Knapp.pdf\n",
            " Story.gdoc\n",
            "'Stuart Russell, Peter Norvig - Artificial Intelligence_ A Modern Approach (2010, Prentice Hall)_221213_142434.pdf'\n",
            "'Study Schedule holiday.gsheet'\n",
            " SubgraphTypes.java\n",
            "'SUBIECTE CLASA a X-a.pdf'\n",
            " SUBIECTE_CLASA_X.docx\n",
            " submission.csv\n",
            "'summary of lecture plus all kinds of other material (ILP part 1 of 2: modelling).gdoc'\n",
            "'Sustain Motivation Printable.pdf'\n",
            " t113.pdf\n",
            " Tarot.gdoc\n",
            "'Tarot readings.gdoc'\n",
            "'Team building exercise.gdoc'\n",
            "'Team Direction.gdoc'\n",
            "'Technovation girls'\n",
            "'Technovation Videos'\n",
            "'Tema 11.gdoc'\n",
            "'Template Reading Log.xlsx'\n",
            "'That Girl Planner - Light Theme.pdf'\n",
            " The_Bible_of_Algorithms_and_Data_Structure_-_Florian_Dedov.pdf\n",
            " The_Formula_How_Algorithms_Solve_All_Our_P_-_Luke_Dormehl.pdf\n",
            "'The Greedy technique.gdoc'\n",
            " The_Mathematics_of_the_Gods_and_the_Algori_-_Paolo_Zellini.pdf\n",
            "'[The Morgan Kaufmann Series in Data Management Systems] Ian H. Witten, Eibe Frank, Mark A. Hall - Data Mining_ Practical Machine Learning Tools and Techniques, Third Edition (2011, Morgan Kaufmann).pdf'\n",
            " The_Noble_Approach__Maurice_Noble_and_the_-_Tod_Polson.pdf\n",
            " The_Presentation_Secrets_of_Steve_Jobs__Ho_-_Carmine_Gallo.pdf\n",
            " The_Reinforcement_Learning_Workshop_-_Alessandro_Palmas.pdf\n",
            "'The sin list.gdoc'\n",
            "'The Time-Block Planner_ A Daily - Cal Newport.pdf'\n",
            " Think_Complexity_-_Allen_Downey.pdf\n",
            " Think_Data_Structures__Algorithms_and_Info_-_Allen_B_Downey.pdf\n",
            " timetable.xlsx\n",
            " tiziano-thomas-dossena-caro-fantozzi.epub\n",
            " toaz.info-the-perfect-day-formula-v102-pr_88d0a8d284485650bfc0d21715e7a223.pdf\n",
            "'Try a chapter challenge.gdoc'\n",
            "'UAE hubs & open spaces.gsheet'\n",
            " Umbrello-Poel2021_Article_MappingValueSensitiveDesignOnt.pdf\n",
            " UndatedThatGirlPlanner-LightTheme.pdf\n",
            "'Understanding Middle School Math - Arthur A. Hyde.pdf'\n",
            "'Untitled document (10).gdoc'\n",
            "'Untitled document (1).gdoc'\n",
            "'Untitled document (2).gdoc'\n",
            "'Untitled document (3).gdoc'\n",
            "'Untitled document (4).gdoc'\n",
            "'Untitled document (5).gdoc'\n",
            "'Untitled document (6).gdoc'\n",
            "'Untitled document (7).gdoc'\n",
            "'Untitled document (8).gdoc'\n",
            "'Untitled document (9).gdoc'\n",
            "'Untitled document.gdoc'\n",
            "'Untitled document.pdf'\n",
            "'Untitled spreadsheet (1).gsheet'\n",
            "'Untitled spreadsheet (2).gsheet'\n",
            "'Untitled spreadsheet (3).gsheet'\n",
            "'Untitled spreadsheet.gsheet'\n",
            "'Updated overview of who did what.gdoc'\n",
            " various-first-italian-readings.epub\n",
            "'Vision bord.gdoc'\n",
            " Weather.gsheet\n",
            "'Weather Russia (1).gsheet'\n",
            "'Weather Russia.gsheet'\n",
            "'Weather Sweden.gsheet'\n",
            "'Weekly Reset take two to upload to website.pdf'\n",
            " weekly-work-plan-color.pdf\n",
            " weekly-work-plan.pdf\n",
            " WiDS2024\n",
            "'Writing and ideas.gdoc'\n",
            "'Xiong J. - Essential bioinformatics-CUP (2006).pdf'\n",
            " YearlyTracker-A5-Blank.pdf\n",
            " YearlyTracker-A5.pdf\n",
            " YearlyTracker-Letter-Blank.pdf\n",
            " YearlyTracker-Letter.pdf\n",
            "'Копия \"Monthly Budget\".gsheet'\n"
          ]
        }
      ]
    },
    {
      "cell_type": "markdown",
      "metadata": {
        "id": "ncYYJAU4yi55"
      },
      "source": [
        "Colab notebooks are automatically saved in a folder named `Colab Notebooks` in your Google Drive.\n",
        "You may also trigger this action at any time with the keyboard shortcut `CTRL+S`.\n",
        "It is also possible to save a copy of your notebook to a Github repo through the Colab interface: `File -> Save a copy in Github...`\n",
        "\n",
        "### Exercise #4\n",
        "1. Make a folder for this course on your drive using a shell command.\n",
        "2. Copy the file `your_name.txt` that you created earlier to that folder with a shell command."
      ]
    },
    {
      "cell_type": "code",
      "metadata": {
        "id": "e6dGIEWHh0_t"
      },
      "source": [
        "!mkdir -p irtm\n",
        "!cp Ada.txt irtm/"
      ],
      "execution_count": 19,
      "outputs": []
    },
    {
      "cell_type": "markdown",
      "metadata": {
        "id": "BHrQ4LUWydFQ"
      },
      "source": [
        "### Restarting the Shell\n",
        "\n",
        "Sometimes you may want to revert an unintended side-effect or simply start from scratch.\n",
        "In this case, you may reset the Python shell through: `Runtime -> Restart runtime...`.\n",
        "To reset the Colab image completely, do `Runtime -> Restart all runtimes...`.\n",
        "\n",
        "### Using GPUs\n",
        "\n",
        "Colab gives access to a GPU\n",
        "Unfortunately, it is common for your session to time out after ~12 hours.\n",
        "For this reason, a good practice is to save your checkpoints to Google Drive so that you can resume your training easily.\n",
        "\n",
        "You may enable the GPU runtime through `Runtime -> Change runtime type -> Hardware accelerator -> GPU`.\n",
        "We will need the GPU runtime for the final activity, and learn how to enable it programmatically."
      ]
    },
    {
      "cell_type": "markdown",
      "metadata": {
        "id": "zVMO1KWthSZB"
      },
      "source": [
        "# Text Processing with Python\n",
        "\n",
        "[Python]() is an interpreted, high level programming language:\n",
        "\n",
        "- **Strongly typed:** types are enforced\n",
        "- **Dynamically implicitly typed:** you don't have to explicitly specify the type of a variable (unlike languages like Java or C)\n",
        "- **Case sensitive:** `afirm` and `AFIRM` represent different variables\n",
        "- **Object-oriented:** everything is an object!\n",
        "\n",
        "Now we will go through basic a few basic steps of text processing to introduce Python, and finish this notebook with a TF-IDF exercise.\n",
        "As you will see, the Python syntax is quite clean and intuitive, which makes it the ideal choice for data manipulation.\n"
      ]
    },
    {
      "cell_type": "markdown",
      "metadata": {
        "id": "z9r8Zwir_RCE"
      },
      "source": [
        "For the purposes of this activity, let's take a sample query and passage pair from the [MS MARCO passage ranking collection](https://microsoft.github.io/msmarco/):"
      ]
    },
    {
      "cell_type": "code",
      "metadata": {
        "id": "puVYdaXy4agr"
      },
      "source": [
        "query = 'Why did the US make the atomic bomb?'\n",
        "passage = '''\n",
        "The presence of communication amid scientific minds was equally important \\\n",
        "to the success of the Manhattan Project as scientific intellect was. The \\\n",
        "only cloud hanging over the impressive achievement of the atomic researchers \\\n",
        "and engineers is what their success truly meant; hundreds of thousands of \\\n",
        "innocent lives obliterated.\n",
        "'''"
      ],
      "execution_count": 20,
      "outputs": []
    },
    {
      "cell_type": "markdown",
      "metadata": {
        "id": "mjvnVqdv4hC3"
      },
      "source": [
        "Comments start with the hash sign, `#`, and are ignored during interpretation.\n",
        "\n",
        "A string in Python are enclosed in single or double quotes.\n",
        "On the other hand, a multiline string has triple quotes around it.\n",
        "If it is too long, a multiline string can be dispersed over multiple lines with the `\\` character."
      ]
    },
    {
      "cell_type": "markdown",
      "metadata": {
        "id": "O9Z9z68y7JUB"
      },
      "source": [
        "Let's first normalize the case with the built-in Python function `lower()`:"
      ]
    },
    {
      "cell_type": "code",
      "metadata": {
        "id": "Xiiy_VeF5UCP",
        "colab": {
          "base_uri": "https://localhost:8080/"
        },
        "outputId": "8588f4a2-d185-443a-d2fd-3ab6b7b38a21"
      },
      "source": [
        "query = query.lower()\n",
        "passage = passage.lower()\n",
        "\n",
        "print('{q}: {p}'.format(q=query, p=passage))"
      ],
      "execution_count": 21,
      "outputs": [
        {
          "output_type": "stream",
          "name": "stdout",
          "text": [
            "why did the us make the atomic bomb?: \n",
            "the presence of communication amid scientific minds was equally important to the success of the manhattan project as scientific intellect was. the only cloud hanging over the impressive achievement of the atomic researchers and engineers is what their success truly meant; hundreds of thousands of innocent lives obliterated.\n",
            "\n"
          ]
        }
      ]
    },
    {
      "cell_type": "markdown",
      "metadata": {
        "id": "HD-V2C_1ixrz"
      },
      "source": [
        "### Exercise #5\n",
        "Note that `query` and `passage` are attached to the variables in the formatted print statement.\n",
        "Try reversing the order of variables inside `format` and see if the output changes."
      ]
    },
    {
      "cell_type": "code",
      "metadata": {
        "id": "hnfvZtlqb-Fs",
        "colab": {
          "base_uri": "https://localhost:8080/"
        },
        "outputId": "a1054cf3-165a-4c07-8b4f-b264799639d0"
      },
      "source": [
        "print('{q}: {p}'.format(p=passage, q=query))"
      ],
      "execution_count": 24,
      "outputs": [
        {
          "output_type": "stream",
          "name": "stdout",
          "text": [
            "why did the us make the atomic bomb?: \n",
            "the presence of communication amid scientific minds was equally important to the success of the manhattan project as scientific intellect was. the only cloud hanging over the impressive achievement of the atomic researchers and engineers is what their success truly meant; hundreds of thousands of innocent lives obliterated.\n",
            "\n"
          ]
        }
      ]
    },
    {
      "cell_type": "markdown",
      "metadata": {
        "id": "LxH2cSCsBFut"
      },
      "source": [
        "The output of `print` can be formatted as above where curly braces denote the variables inside parantheses.\n",
        "\n",
        "Now, let's split `passage` into individual tokens."
      ]
    },
    {
      "cell_type": "code",
      "metadata": {
        "id": "sIZw9g-OCCt5",
        "colab": {
          "base_uri": "https://localhost:8080/"
        },
        "outputId": "475b210c-d0a9-4829-82e1-8e6f5aa3c9fe"
      },
      "source": [
        "tokens = passage.split()\n",
        "print(tokens)"
      ],
      "execution_count": 25,
      "outputs": [
        {
          "output_type": "stream",
          "name": "stdout",
          "text": [
            "['the', 'presence', 'of', 'communication', 'amid', 'scientific', 'minds', 'was', 'equally', 'important', 'to', 'the', 'success', 'of', 'the', 'manhattan', 'project', 'as', 'scientific', 'intellect', 'was.', 'the', 'only', 'cloud', 'hanging', 'over', 'the', 'impressive', 'achievement', 'of', 'the', 'atomic', 'researchers', 'and', 'engineers', 'is', 'what', 'their', 'success', 'truly', 'meant;', 'hundreds', 'of', 'thousands', 'of', 'innocent', 'lives', 'obliterated.']\n"
          ]
        }
      ]
    },
    {
      "cell_type": "markdown",
      "metadata": {
        "id": "ggwCk2KOj175"
      },
      "source": [
        "### Exercise #6\n",
        "Split query into tokens.\n",
        "Find the tokens shared between the query and the passage."
      ]
    },
    {
      "cell_type": "code",
      "metadata": {
        "id": "8wFe-P33kCrz",
        "colab": {
          "base_uri": "https://localhost:8080/"
        },
        "outputId": "825b0aa8-77df-496c-9f7a-d451bb13a0cc"
      },
      "source": [
        "query_tokens = query.split()\n",
        "print(query_tokens)\n",
        "len(query_tokens)"
      ],
      "execution_count": 28,
      "outputs": [
        {
          "output_type": "stream",
          "name": "stdout",
          "text": [
            "['why', 'did', 'the', 'us', 'make', 'the', 'atomic', 'bomb?']\n"
          ]
        },
        {
          "output_type": "execute_result",
          "data": {
            "text/plain": [
              "8"
            ]
          },
          "metadata": {},
          "execution_count": 28
        }
      ]
    },
    {
      "cell_type": "markdown",
      "metadata": {
        "id": "8M1pBqEAC2kp"
      },
      "source": [
        "The resulting variable is a Python list.\n",
        "Let's check the number of tokens (equivalent to the length of the list):"
      ]
    },
    {
      "cell_type": "code",
      "metadata": {
        "id": "XS67ccJsC-UE",
        "colab": {
          "base_uri": "https://localhost:8080/"
        },
        "outputId": "c5826756-943a-4b1e-bd56-ab016806ea0a"
      },
      "source": [
        "len(tokens)"
      ],
      "execution_count": 27,
      "outputs": [
        {
          "output_type": "execute_result",
          "data": {
            "text/plain": [
              "48"
            ]
          },
          "metadata": {},
          "execution_count": 27
        }
      ]
    },
    {
      "cell_type": "markdown",
      "metadata": {
        "id": "NtUoQCoU5FYE"
      },
      "source": [
        "Indexing in Python starts with 0.\n",
        "Let's search for the 7th (index 6) token of the query in the passage:"
      ]
    },
    {
      "cell_type": "code",
      "metadata": {
        "id": "0TUdAaZO5XQj",
        "colab": {
          "base_uri": "https://localhost:8080/"
        },
        "outputId": "86ac6ae3-4154-447c-d861-af8fb77dad8b"
      },
      "source": [
        "query[6]\n",
        "query[6] in passage"
      ],
      "execution_count": 29,
      "outputs": [
        {
          "output_type": "execute_result",
          "data": {
            "text/plain": [
              "True"
            ]
          },
          "metadata": {},
          "execution_count": 29
        }
      ]
    },
    {
      "cell_type": "markdown",
      "metadata": {
        "id": "IZiBsmB-kaUP"
      },
      "source": [
        "### Exercise #7\n",
        "Extract the first 5 tokens of the passage."
      ]
    },
    {
      "cell_type": "code",
      "metadata": {
        "id": "QvFhQH8Ikl8b",
        "colab": {
          "base_uri": "https://localhost:8080/"
        },
        "outputId": "2c49a94a-b706-4dbd-d903-4ebfcf0809a9"
      },
      "source": [
        "tokens[:5]"
      ],
      "execution_count": 33,
      "outputs": [
        {
          "output_type": "execute_result",
          "data": {
            "text/plain": [
              "['the', 'presence', 'of', 'communication', 'amid']"
            ]
          },
          "metadata": {},
          "execution_count": 33
        }
      ]
    },
    {
      "cell_type": "markdown",
      "metadata": {
        "id": "xZcEJXGaCbfq"
      },
      "source": [
        "We can count the frequency of each token with `Counter`.\n",
        "This function is defined in the `collections` module, which we need to import before using `Counter`.\n",
        "Note that the output of `Counter` is a Python dictionary where the key is the token and the value is the number of occurrences."
      ]
    },
    {
      "cell_type": "code",
      "metadata": {
        "id": "b1XK1HvRCIo1",
        "colab": {
          "base_uri": "https://localhost:8080/"
        },
        "outputId": "917e92fe-dbd0-4b9e-c483-5a25ce23e43c"
      },
      "source": [
        "import collections\n",
        "\n",
        "counts = collections.Counter(tokens)\n",
        "counts"
      ],
      "execution_count": 34,
      "outputs": [
        {
          "output_type": "execute_result",
          "data": {
            "text/plain": [
              "Counter({'the': 6,\n",
              "         'presence': 1,\n",
              "         'of': 5,\n",
              "         'communication': 1,\n",
              "         'amid': 1,\n",
              "         'scientific': 2,\n",
              "         'minds': 1,\n",
              "         'was': 1,\n",
              "         'equally': 1,\n",
              "         'important': 1,\n",
              "         'to': 1,\n",
              "         'success': 2,\n",
              "         'manhattan': 1,\n",
              "         'project': 1,\n",
              "         'as': 1,\n",
              "         'intellect': 1,\n",
              "         'was.': 1,\n",
              "         'only': 1,\n",
              "         'cloud': 1,\n",
              "         'hanging': 1,\n",
              "         'over': 1,\n",
              "         'impressive': 1,\n",
              "         'achievement': 1,\n",
              "         'atomic': 1,\n",
              "         'researchers': 1,\n",
              "         'and': 1,\n",
              "         'engineers': 1,\n",
              "         'is': 1,\n",
              "         'what': 1,\n",
              "         'their': 1,\n",
              "         'truly': 1,\n",
              "         'meant;': 1,\n",
              "         'hundreds': 1,\n",
              "         'thousands': 1,\n",
              "         'innocent': 1,\n",
              "         'lives': 1,\n",
              "         'obliterated.': 1})"
            ]
          },
          "metadata": {},
          "execution_count": 34
        }
      ]
    },
    {
      "cell_type": "markdown",
      "metadata": {
        "id": "G3mMWlDPe9K8"
      },
      "source": [
        "Note that Python does not have a statement termination character, such as `;`.\n",
        "Instead, blocks are specified by indentation.\n",
        "\n",
        "Let's traverse the dictionary and only output terms that appear more than once:"
      ]
    },
    {
      "cell_type": "code",
      "metadata": {
        "id": "PfbmH6cMCWii",
        "colab": {
          "base_uri": "https://localhost:8080/"
        },
        "outputId": "4c08a5ad-c600-47a9-dc64-c8f4cbd59530"
      },
      "source": [
        "for (k, v) in counts.items():\n",
        "  if v > 1:\n",
        "    print(k)"
      ],
      "execution_count": 35,
      "outputs": [
        {
          "output_type": "stream",
          "name": "stdout",
          "text": [
            "the\n",
            "of\n",
            "scientific\n",
            "success\n"
          ]
        }
      ]
    },
    {
      "cell_type": "markdown",
      "metadata": {
        "id": "pl9kIB_viUPv"
      },
      "source": [
        "### Exercise #8\n",
        "Combine query and passage into a single text, and count its tokens."
      ]
    },
    {
      "cell_type": "code",
      "metadata": {
        "id": "8cn71blRcERR",
        "colab": {
          "base_uri": "https://localhost:8080/"
        },
        "outputId": "6f8190a8-4407-4360-f79d-10256c349685"
      },
      "source": [
        "# Combine query and passage with a space in between\n",
        "combined_text = query + \" \" + passage\n",
        "\n",
        "# Split the combined text into tokens (using whitespace as delimiter)\n",
        "tokens = combined_text.split()\n",
        "\n",
        "# Count the number of tokens\n",
        "token_count = len(tokens)\n",
        "\n",
        "print(\"Combined text:\\n\", combined_text)\n",
        "print(\"Token count:\", token_count)"
      ],
      "execution_count": 38,
      "outputs": [
        {
          "output_type": "stream",
          "name": "stdout",
          "text": [
            "Combined text:\n",
            " why did the us make the atomic bomb? \n",
            "the presence of communication amid scientific minds was equally important to the success of the manhattan project as scientific intellect was. the only cloud hanging over the impressive achievement of the atomic researchers and engineers is what their success truly meant; hundreds of thousands of innocent lives obliterated.\n",
            "\n",
            "Token count: 56\n"
          ]
        }
      ]
    },
    {
      "cell_type": "markdown",
      "metadata": {
        "id": "tBMI7PD10UzC"
      },
      "source": [
        "### Exercise #9\n",
        "Implement [TF-IDF](http://www.tfidf.com/) in Python over the toy collection provided below (corresponding to the first 10 passages of MS MARCO).\n",
        "In other words, we will compute the TF-IDF scores for each unique term in the collection.\n",
        "For the purposes of this exercise, assume that a token is case-insensitive, i.e., normalize the case, and remove the stopwords (hint: you can use NLTK's `nltk.corpus.stopwords`). Don't use an imported package for computing tf-idf scores.\n",
        "\n",
        "```\n",
        "0\tThe presence of communication amid scientific minds was equally important to the success of the Manhattan Project as scientific intellect was. The only cloud hanging over the impressive achievement of the atomic researchers and engineers is what their success truly meant; hundreds of thousands of innocent lives obliterated.\n",
        "1\tThe Manhattan Project and its atomic bomb helped bring an end to World War II. Its legacy of peaceful uses of atomic energy continues to have an impact on history and science.\n",
        "2\tEssay on The Manhattan Project - The Manhattan Project The Manhattan Project was to see if making an atomic bomb possible. The success of this project would forever change the world forever making it known that something this powerful can be manmade.\n",
        "3\tThe Manhattan Project was the name for a project conducted during World War II, to develop the first atomic bomb. It refers specifically to the period of the project from 194 â¦ 2-1946 under the control of the U.S. Army Corps of Engineers, under the administration of General Leslie R. Groves.\n",
        "4\tversions of each volume as well as complementary websites. The first websiteâThe Manhattan Project: An Interactive Historyâis available on the Office of History and Heritage Resources website, http://www.cfo. doe.gov/me70/history. The Office of History and Heritage Resources and the National Nuclear Security\n",
        "5\tThe Manhattan Project. This once classified photograph features the first atomic bomb â a weapon that atomic scientists had nicknamed Gadget.. The nuclear age began on July 16, 1945, when it was detonated in the New Mexico desert.\n",
        "6\tNor will it attempt to substitute for the extraordinarily rich literature on the atomic bombs and the end of World War II. This collection does not attempt to document the origins and development of the Manhattan Project.\n",
        "7\tManhattan Project. The Manhattan Project was a research and development undertaking during World War II that produced the first nuclear weapons. It was led by the United States with the support of the United Kingdom and Canada. From 1942 to 1946, the project was under the direction of Major General Leslie Groves of the U.S. Army Corps of Engineers. Nuclear physicist Robert Oppenheimer was the director of the Los Alamos Laboratory that designed the actual bombs. The Army component of the project was designated the\n",
        "8\tIn June 1942, the United States Army Corps of Engineersbegan the Manhattan Project- The secret name for the 2 atomic bombs.\n",
        "9\tOne of the main reasons Hanford was selected as a site for the Manhattan Project's B Reactor was its proximity to the Columbia River, the largest river flowing into the Pacific Ocean from the North American coast.\n",
        "```\n",
        "\n",
        "You may start by building a dictionary where each key, e.g., a term in the collection, is mapped to pairs of passage IDs and term frequencies.\n",
        "The keys in the dictionary will be the unique terms in the collection, and values lists of tuples; for example:\n",
        "\n",
        "`manhattan -> (0, 1), (1, 1), (2, 3), (3, 1), (4, 1), (5, 1), (6, 1), (7, 2), (8, 1), (9, 1)`"
      ]
    },
    {
      "cell_type": "code",
      "metadata": {
        "id": "Ek8TxEmqcFLF"
      },
      "source": [
        "doc0 = 'The presence of communication amid scientific minds was equally important to the success of the Manhattan Project as scientific intellect was. The only cloud hanging over the impressive achievement of the atomic researchers and engineers is what their success truly meant; hundreds of thousands of innocent lives obliterated.'\n",
        "doc1 = 'The Manhattan Project and its atomic bomb helped bring an end to World War II. Its legacy of peaceful uses of atomic energy continues to have an impact on history and science.'\n",
        "doc2 = 'Essay on The Manhattan Project - The Manhattan Project The Manhattan Project was to see if making an atomic bomb possible. The success of this project would forever change the world forever making it known that something this powerful can be manmade.'\n",
        "doc3 = 'The Manhattan Project was the name for a project conducted during World War II, to develop the first atomic bomb. It refers specifically to the period of the project from 194 â¦ 2-1946 under the control of the U.S. Army Corps of Engineers, under the administration of General Leslie R. Groves.'\n",
        "doc4 = 'versions of each volume as well as complementary websites. The first websiteâThe Manhattan Project: An Interactive Historyâis available on the Office of History and Heritage Resources website, http://www.cfo. doe.gov/me70/history. The Office of History and Heritage Resources and the National Nuclear Security'\n",
        "doc5 = 'The Manhattan Project. This once classified photograph features the first atomic bomb â a weapon that atomic scientists had nicknamed Gadget.. The nuclear age began on July 16, 1945, when it was detonated in the New Mexico desert.'\n",
        "doc6 = 'Nor will it attempt to substitute for the extraordinarily rich literature on the atomic bombs and the end of World War II. This collection does not attempt to document the origins and development of the Manhattan Project.'\n",
        "doc7 = 'Manhattan Project. The Manhattan Project was a research and development undertaking during World War II that produced the first nuclear weapons. It was led by the United States with the support of the United Kingdom and Canada. From 1942 to 1946, the project was under the direction of Major General Leslie Groves of the U.S. Army Corps of Engineers. Nuclear physicist Robert Oppenheimer was the director of the Los Alamos Laboratory that designed the actual bombs. The Army component of the project was designated the'\n",
        "doc8 = 'In June 1942, the United States Army Corps of Engineersbegan the Manhattan Project- The secret name for the 2 atomic bombs.'\n",
        "doc9 = 'One of the main reasons Hanford was selected as a site for the Manhattan Project\\'s B Reactor was its proximity to the Columbia River, the largest river flowing into the Pacific Ocean from the North American coast.'"
      ],
      "execution_count": 39,
      "outputs": []
    },
    {
      "cell_type": "markdown",
      "metadata": {
        "id": "83aR6YESenB9"
      },
      "source": [
        "Finally transform term frequencies into TF-IDF scores.\n",
        "Now that you have the term frequency for each passage, you can compute the total term frequency for each token in the entire collection.\n",
        "Likewise, you can calculate the document frequency from the previous step."
      ]
    },
    {
      "cell_type": "markdown",
      "metadata": {
        "id": "NaC_xUHP_LMI"
      },
      "source": [
        "## Packages\n",
        "\n",
        "Many Python packages come pre-installed in a new Colab notebook.\n",
        "You may install any additional packages that you need through [pip](https://pypi.org/project/pip/), Python's de facto package management system.\n",
        "\n",
        "Let's install `matplotlib` and `numpy` to plot the histogram of tokens in `passage`:"
      ]
    },
    {
      "cell_type": "code",
      "metadata": {
        "id": "tBZaOBmxiBcd",
        "colab": {
          "base_uri": "https://localhost:8080/"
        },
        "outputId": "cae52977-75b0-4945-de68-d309b8df2ec6"
      },
      "source": [
        "!pip install matplotlib\n",
        "!pip install numpy"
      ],
      "execution_count": 40,
      "outputs": [
        {
          "output_type": "stream",
          "name": "stdout",
          "text": [
            "Requirement already satisfied: matplotlib in /usr/local/lib/python3.11/dist-packages (3.10.0)\n",
            "Requirement already satisfied: contourpy>=1.0.1 in /usr/local/lib/python3.11/dist-packages (from matplotlib) (1.3.1)\n",
            "Requirement already satisfied: cycler>=0.10 in /usr/local/lib/python3.11/dist-packages (from matplotlib) (0.12.1)\n",
            "Requirement already satisfied: fonttools>=4.22.0 in /usr/local/lib/python3.11/dist-packages (from matplotlib) (4.56.0)\n",
            "Requirement already satisfied: kiwisolver>=1.3.1 in /usr/local/lib/python3.11/dist-packages (from matplotlib) (1.4.8)\n",
            "Requirement already satisfied: numpy>=1.23 in /usr/local/lib/python3.11/dist-packages (from matplotlib) (2.0.2)\n",
            "Requirement already satisfied: packaging>=20.0 in /usr/local/lib/python3.11/dist-packages (from matplotlib) (24.2)\n",
            "Requirement already satisfied: pillow>=8 in /usr/local/lib/python3.11/dist-packages (from matplotlib) (11.1.0)\n",
            "Requirement already satisfied: pyparsing>=2.3.1 in /usr/local/lib/python3.11/dist-packages (from matplotlib) (3.2.3)\n",
            "Requirement already satisfied: python-dateutil>=2.7 in /usr/local/lib/python3.11/dist-packages (from matplotlib) (2.8.2)\n",
            "Requirement already satisfied: six>=1.5 in /usr/local/lib/python3.11/dist-packages (from python-dateutil>=2.7->matplotlib) (1.17.0)\n",
            "Requirement already satisfied: numpy in /usr/local/lib/python3.11/dist-packages (2.0.2)\n"
          ]
        }
      ]
    },
    {
      "cell_type": "code",
      "metadata": {
        "id": "mJwTr_2_2h93",
        "colab": {
          "base_uri": "https://localhost:8080/",
          "height": 523
        },
        "outputId": "32d4c897-30d3-4c95-93f4-492fe8cb075a"
      },
      "source": [
        "import matplotlib.pyplot as plt\n",
        "import numpy as np\n",
        "\n",
        "%matplotlib inline\n",
        "x = np.arange(len(counts))\n",
        "y = list(counts.values())\n",
        "\n",
        "plt.bar(x, y, align='center', alpha=0.5)\n",
        "plt.xticks(x, list(counts.keys()), rotation='vertical')\n",
        "plt.ylabel('Term Frequency')\n",
        "plt.show()"
      ],
      "execution_count": 41,
      "outputs": [
        {
          "output_type": "display_data",
          "data": {
            "text/plain": [
              "<Figure size 640x480 with 1 Axes>"
            ],
            "image/png": "[encoded data removed]"
          },
          "metadata": {}
        }
      ]
    },
    {
      "cell_type": "markdown",
      "metadata": {
        "id": "kybDd4HiiDO7"
      },
      "source": [
        "### Exercise #10\n",
        "Create a bar graph for the TF-IDF values that you computed earlier for the toy collection."
      ]
    },
    {
      "cell_type": "code",
      "metadata": {
        "id": "otg0XeD1MPHC",
        "colab": {
          "base_uri": "https://localhost:8080/",
          "height": 638
        },
        "outputId": "6e908095-dfde-4579-92b7-eab7ccd142cc"
      },
      "source": [
        "import matplotlib.pyplot as plt\n",
        "import numpy as np\n",
        "from sklearn.feature_extraction.text import TfidfVectorizer\n",
        "\n",
        "# Compute the TF-IDF of the combined_text\n",
        "vectorizer = TfidfVectorizer()\n",
        "tfidf_matrix = vectorizer.fit_transform([combined_text])\n",
        "feature_names = vectorizer.get_feature_names_out()\n",
        "tfidf_values = tfidf_matrix.toarray()[0]\n",
        "\n",
        "# Create a dictionary for easy plotting\n",
        "tfidf_dict = dict(zip(feature_names, tfidf_values))\n",
        "\n",
        "# Prepare data for the bar graph\n",
        "x = np.arange(len(tfidf_dict))\n",
        "y = list(tfidf_dict.values())\n",
        "\n",
        "plt.figure(figsize=(10, 6))\n",
        "plt.bar(x, y, align='center', alpha=0.5)\n",
        "plt.xticks(x, list(tfidf_dict.keys()), rotation='vertical')\n",
        "plt.ylabel('TF-IDF Value')\n",
        "plt.title('TF-IDF Values for the Combined Text')\n",
        "plt.show()"
      ],
      "execution_count": 42,
      "outputs": [
        {
          "output_type": "display_data",
          "data": {
            "text/plain": [
              "<Figure size 1000x600 with 1 Axes>"
            ],
            "image/png": "[encoded data removed]"
          },
          "metadata": {}
        }
      ]
    }
  ],
  "metadata": {
    "colab": {
      "provenance": [],
      "collapsed_sections": [
        "BHrQ4LUWydFQ"
      ],
      "include_colab_link": true
    },
    "kernelspec": {
      "display_name": "Python 3",
      "language": "python",
      "name": "python3"
    },
    "language_info": {
      "codemirror_mode": {
        "name": "ipython",
        "version": 3
      },
      "file_extension": ".py",
      "mimetype": "text/x-python",
      "name": "python",
      "nbconvert_exporter": "python",
      "pygments_lexer": "ipython3",
      "version": "3.7.2"
    }
  },
  "nbformat": 4,
  "nbformat_minor": 0
}